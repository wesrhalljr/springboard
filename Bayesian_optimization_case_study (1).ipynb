{
 "cells": [
  {
   "cell_type": "markdown",
   "metadata": {
    "colab_type": "text",
    "id": "BlFdvPwF-KYW"
   },
   "source": [
    "In addition to the random search and the grid search methods for selecting optimal hyperparameters, we can use Bayesian methods of probabilities to select the optimal hyperparameters for an algorithm.\n",
    "\n",
    "In this case study, we will be using the BayesianOptimization library to perform hyperparmater tuning. This library has very good documentation which you can find here: https://github.com/fmfn/BayesianOptimization\n",
    "\n",
    "You will need to install the Bayesian optimization module. Running a cell with an exclamation point in the beginning of the command will run it as a shell command — please do this to install this module from our notebook in the cell below."
   ]
  },
  {
   "cell_type": "markdown",
   "metadata": {
    "colab_type": "text",
    "id": "WNK7vbHo-KYU"
   },
   "source": [
    "## Bayesian methods of hyperparameter optimization"
   ]
  },
  {
   "cell_type": "code",
   "execution_count": 3,
   "metadata": {
    "colab": {},
    "colab_type": "code",
    "id": "Pssx080d-Ulf"
   },
   "outputs": [
    {
     "name": "stdout",
     "output_type": "stream",
     "text": [
      "Requirement already satisfied: bayesian-optimization in ./anaconda3/lib/python3.11/site-packages (1.5.1)\n",
      "Requirement already satisfied: lightgbm in ./anaconda3/lib/python3.11/site-packages (4.4.0)\n",
      "Collecting catboost\n",
      "  Using cached catboost-1.2.5.tar.gz (69.6 MB)\n",
      "  Installing build dependencies ... \u001b[?25ldone\n",
      "\u001b[?25h  Getting requirements to build wheel ... \u001b[?25ldone\n",
      "\u001b[?25h  Preparing metadata (pyproject.toml) ... \u001b[?25ldone\n",
      "\u001b[?25hRequirement already satisfied: colorama<0.5.0,>=0.4.6 in ./anaconda3/lib/python3.11/site-packages (from bayesian-optimization) (0.4.6)\n",
      "Requirement already satisfied: numpy>=1.25 in ./anaconda3/lib/python3.11/site-packages (from bayesian-optimization) (1.26.4)\n",
      "Requirement already satisfied: scikit-learn<2.0.0,>=1.0.0 in ./anaconda3/lib/python3.11/site-packages (from bayesian-optimization) (1.2.1)\n",
      "Requirement already satisfied: scipy<2.0.0,>=1.0.0 in ./anaconda3/lib/python3.11/site-packages (from bayesian-optimization) (1.10.1)\n",
      "Requirement already satisfied: graphviz in ./anaconda3/lib/python3.11/site-packages (from catboost) (0.20.3)\n",
      "Requirement already satisfied: matplotlib in ./anaconda3/lib/python3.11/site-packages (from catboost) (3.7.1)\n",
      "Requirement already satisfied: pandas>=0.24 in ./anaconda3/lib/python3.11/site-packages (from catboost) (1.5.3)\n",
      "Requirement already satisfied: plotly in ./anaconda3/lib/python3.11/site-packages (from catboost) (5.9.0)\n",
      "Requirement already satisfied: six in ./anaconda3/lib/python3.11/site-packages (from catboost) (1.16.0)\n",
      "Requirement already satisfied: python-dateutil>=2.8.1 in ./anaconda3/lib/python3.11/site-packages (from pandas>=0.24->catboost) (2.8.2)\n",
      "Requirement already satisfied: pytz>=2020.1 in ./anaconda3/lib/python3.11/site-packages (from pandas>=0.24->catboost) (2022.7)\n",
      "Requirement already satisfied: joblib>=1.1.1 in ./anaconda3/lib/python3.11/site-packages (from scikit-learn<2.0.0,>=1.0.0->bayesian-optimization) (1.2.0)\n",
      "Requirement already satisfied: threadpoolctl>=2.0.0 in ./anaconda3/lib/python3.11/site-packages (from scikit-learn<2.0.0,>=1.0.0->bayesian-optimization) (2.2.0)\n",
      "Requirement already satisfied: contourpy>=1.0.1 in ./anaconda3/lib/python3.11/site-packages (from matplotlib->catboost) (1.0.5)\n",
      "Requirement already satisfied: cycler>=0.10 in ./anaconda3/lib/python3.11/site-packages (from matplotlib->catboost) (0.11.0)\n",
      "Requirement already satisfied: fonttools>=4.22.0 in ./anaconda3/lib/python3.11/site-packages (from matplotlib->catboost) (4.25.0)\n",
      "Requirement already satisfied: kiwisolver>=1.0.1 in ./anaconda3/lib/python3.11/site-packages (from matplotlib->catboost) (1.4.4)\n",
      "Requirement already satisfied: packaging>=20.0 in ./anaconda3/lib/python3.11/site-packages (from matplotlib->catboost) (23.0)\n",
      "Requirement already satisfied: pillow>=6.2.0 in ./anaconda3/lib/python3.11/site-packages (from matplotlib->catboost) (9.4.0)\n",
      "Requirement already satisfied: pyparsing>=2.3.1 in ./anaconda3/lib/python3.11/site-packages (from matplotlib->catboost) (3.0.9)\n",
      "Requirement already satisfied: tenacity>=6.2.0 in ./anaconda3/lib/python3.11/site-packages (from plotly->catboost) (8.2.2)\n",
      "Building wheels for collected packages: catboost\n",
      "  Building wheel for catboost (pyproject.toml) ... \u001b[?25lerror\n",
      "  \u001b[1;31merror\u001b[0m: \u001b[1msubprocess-exited-with-error\u001b[0m\n",
      "  \n",
      "  \u001b[31m×\u001b[0m \u001b[32mBuilding wheel for catboost \u001b[0m\u001b[1;32m(\u001b[0m\u001b[32mpyproject.toml\u001b[0m\u001b[1;32m)\u001b[0m did not run successfully.\n",
      "  \u001b[31m│\u001b[0m exit code: \u001b[1;36m1\u001b[0m\n",
      "  \u001b[31m╰─>\u001b[0m \u001b[31m[443 lines of output]\u001b[0m\n",
      "  \u001b[31m   \u001b[0m running bdist_wheel\n",
      "  \u001b[31m   \u001b[0m running build\n",
      "  \u001b[31m   \u001b[0m running build_py\n",
      "  \u001b[31m   \u001b[0m creating build\n",
      "  \u001b[31m   \u001b[0m creating build/lib.macosx-10.9-x86_64-cpython-311\n",
      "  \u001b[31m   \u001b[0m creating build/lib.macosx-10.9-x86_64-cpython-311/catboost\n",
      "  \u001b[31m   \u001b[0m copying catboost/monoforest.py -> build/lib.macosx-10.9-x86_64-cpython-311/catboost\n",
      "  \u001b[31m   \u001b[0m copying catboost/plot_helpers.py -> build/lib.macosx-10.9-x86_64-cpython-311/catboost\n",
      "  \u001b[31m   \u001b[0m copying catboost/metrics.py -> build/lib.macosx-10.9-x86_64-cpython-311/catboost\n",
      "  \u001b[31m   \u001b[0m copying catboost/carry.py -> build/lib.macosx-10.9-x86_64-cpython-311/catboost\n",
      "  \u001b[31m   \u001b[0m copying catboost/version.py -> build/lib.macosx-10.9-x86_64-cpython-311/catboost\n",
      "  \u001b[31m   \u001b[0m copying catboost/text_processing.py -> build/lib.macosx-10.9-x86_64-cpython-311/catboost\n",
      "  \u001b[31m   \u001b[0m copying catboost/datasets.py -> build/lib.macosx-10.9-x86_64-cpython-311/catboost\n",
      "  \u001b[31m   \u001b[0m copying catboost/__init__.py -> build/lib.macosx-10.9-x86_64-cpython-311/catboost\n",
      "  \u001b[31m   \u001b[0m copying catboost/core.py -> build/lib.macosx-10.9-x86_64-cpython-311/catboost\n",
      "  \u001b[31m   \u001b[0m copying catboost/utils.py -> build/lib.macosx-10.9-x86_64-cpython-311/catboost\n",
      "  \u001b[31m   \u001b[0m copying catboost/dev_utils.py -> build/lib.macosx-10.9-x86_64-cpython-311/catboost\n",
      "  \u001b[31m   \u001b[0m creating build/lib.macosx-10.9-x86_64-cpython-311/catboost/widget\n",
      "  \u001b[31m   \u001b[0m copying catboost/widget/__init__.py -> build/lib.macosx-10.9-x86_64-cpython-311/catboost/widget\n",
      "  \u001b[31m   \u001b[0m copying catboost/widget/metrics_plotter.py -> build/lib.macosx-10.9-x86_64-cpython-311/catboost/widget\n",
      "  \u001b[31m   \u001b[0m copying catboost/widget/ipythonwidget.py -> build/lib.macosx-10.9-x86_64-cpython-311/catboost/widget\n",
      "  \u001b[31m   \u001b[0m copying catboost/widget/callbacks.py -> build/lib.macosx-10.9-x86_64-cpython-311/catboost/widget\n",
      "  \u001b[31m   \u001b[0m creating build/lib.macosx-10.9-x86_64-cpython-311/catboost/eval\n",
      "  \u001b[31m   \u001b[0m copying catboost/eval/catboost_evaluation.py -> build/lib.macosx-10.9-x86_64-cpython-311/catboost/eval\n",
      "  \u001b[31m   \u001b[0m copying catboost/eval/_fold_model.py -> build/lib.macosx-10.9-x86_64-cpython-311/catboost/eval\n",
      "  \u001b[31m   \u001b[0m copying catboost/eval/_readers.py -> build/lib.macosx-10.9-x86_64-cpython-311/catboost/eval\n",
      "  \u001b[31m   \u001b[0m copying catboost/eval/log_config.py -> build/lib.macosx-10.9-x86_64-cpython-311/catboost/eval\n",
      "  \u001b[31m   \u001b[0m copying catboost/eval/_splitter.py -> build/lib.macosx-10.9-x86_64-cpython-311/catboost/eval\n",
      "  \u001b[31m   \u001b[0m copying catboost/eval/__init__.py -> build/lib.macosx-10.9-x86_64-cpython-311/catboost/eval\n",
      "  \u001b[31m   \u001b[0m copying catboost/eval/execution_case.py -> build/lib.macosx-10.9-x86_64-cpython-311/catboost/eval\n",
      "  \u001b[31m   \u001b[0m copying catboost/eval/_fold_storage.py -> build/lib.macosx-10.9-x86_64-cpython-311/catboost/eval\n",
      "  \u001b[31m   \u001b[0m copying catboost/eval/factor_utils.py -> build/lib.macosx-10.9-x86_64-cpython-311/catboost/eval\n",
      "  \u001b[31m   \u001b[0m copying catboost/eval/utils.py -> build/lib.macosx-10.9-x86_64-cpython-311/catboost/eval\n",
      "  \u001b[31m   \u001b[0m copying catboost/eval/evaluation_result.py -> build/lib.macosx-10.9-x86_64-cpython-311/catboost/eval\n",
      "  \u001b[31m   \u001b[0m copying catboost/eval/_fold_models_handler.py -> build/lib.macosx-10.9-x86_64-cpython-311/catboost/eval\n",
      "  \u001b[31m   \u001b[0m running build_ext\n",
      "  \u001b[31m   \u001b[0m Buildling _catboost with cmake and ninja\n",
      "  \u001b[31m   \u001b[0m target_platform=darwin-x86_64. Building targets _catboost with PIC\n",
      "  \u001b[31m   \u001b[0m Running \"cmake /private/var/folders/0t/d3pxkghn5d920blj72_db9mr0000gn/T/pip-install-yc98cc5v/catboost_2090f1ce70344f2bb47bbf567a5d5b4a/catboost_all_src -B /private/var/folders/0t/d3pxkghn5d920blj72_db9mr0000gn/T/pip-install-yc98cc5v/catboost_2090f1ce70344f2bb47bbf567a5d5b4a/build/temp.macosx-10.9-x86_64-cpython-311 -G Ninja -DCMAKE_BUILD_TYPE=Release -DCMAKE_TOOLCHAIN_FILE=/private/var/folders/0t/d3pxkghn5d920blj72_db9mr0000gn/T/pip-install-yc98cc5v/catboost_2090f1ce70344f2bb47bbf567a5d5b4a/catboost_all_src/build/toolchains/clang.toolchain --log-level=VERBOSE -DCMAKE_POSITION_INDEPENDENT_CODE=On -DCATBOOST_COMPONENTS=python-package -DCMAKE_OSX_DEPLOYMENT_TARGET=11.0 -DHAVE_CUDA=no -DPython3_ROOT_DIR=/Users/admin/anaconda3\"\n",
      "  \u001b[31m   \u001b[0m -- The C compiler identification is AppleClang 13.0.0.13000029\n",
      "  \u001b[31m   \u001b[0m -- The CXX compiler identification is AppleClang 13.0.0.13000029\n",
      "  \u001b[31m   \u001b[0m -- The ASM compiler identification is AppleClang\n",
      "  \u001b[31m   \u001b[0m -- Found assembler: /Library/Developer/CommandLineTools/usr/bin/clang\n",
      "  \u001b[31m   \u001b[0m -- Detecting C compiler ABI info\n",
      "  \u001b[31m   \u001b[0m -- Detecting C compiler ABI info - done\n",
      "  \u001b[31m   \u001b[0m -- Check for working C compiler: /usr/bin/clang - skipped\n",
      "  \u001b[31m   \u001b[0m -- Detecting C compile features\n",
      "  \u001b[31m   \u001b[0m -- Detecting C compile features - done\n",
      "  \u001b[31m   \u001b[0m -- Detecting CXX compiler ABI info\n",
      "  \u001b[31m   \u001b[0m -- Detecting CXX compiler ABI info - done\n",
      "  \u001b[31m   \u001b[0m -- Check for working CXX compiler: /usr/bin/clang++ - skipped\n",
      "  \u001b[31m   \u001b[0m -- Detecting CXX compile features\n",
      "  \u001b[31m   \u001b[0m -- Detecting CXX compile features - done\n",
      "  \u001b[31m   \u001b[0m \u001b[0mCMake Deprecation Warning at CMakeLists.txt:34 (cmake_policy):\n",
      "  \u001b[31m   \u001b[0m   The OLD behavior for policy CMP0104 will be removed from a future version\n",
      "  \u001b[31m   \u001b[0m   of CMake.\n",
      "  \u001b[31m   \u001b[0m \n",
      "  \u001b[31m   \u001b[0m   The cmake-policies(7) manual explains that the OLD behaviors of all\n",
      "  \u001b[31m   \u001b[0m   policies are deprecated and that a policy should be set to OLD only under\n",
      "  \u001b[31m   \u001b[0m   specific short-term circumstances.  Projects should be ported to the NEW\n",
      "  \u001b[31m   \u001b[0m   behavior and not rely on setting a policy to OLD.\n",
      "  \u001b[31m   \u001b[0m \n",
      "  \u001b[31m   \u001b[0m \u001b[0m\n",
      "  \u001b[31m   \u001b[0m -- CMAKE_C_FLAGS = \"   -fexceptions   -fno-common   -fcolor-diagnostics   -faligned-allocation   -fdebug-default-version=4   -ffunction-sections   -fdata-sections   -Wall   -Wextra   -Wno-parentheses   -Wno-implicit-const-int-float-conversion   -Wno-unknown-warning-option   -pipe   -D_THREAD_SAFE   -D_PTHREADS   -D_REENTRANT   -D_LARGEFILE_SOURCE   -D__STDC_CONSTANT_MACROS   -D__STDC_FORMAT_MACROS   -D__LONG_LONG_SUPPORTED  -DLIBCXX_BUILDING_LIBCXXRT -D_FILE_OFFSET_BITS=64  -m64    -msse2     -msse3     -mssse3         -msse4.1       -msse4.2       -mpopcnt      -mcx16     -DSSE_ENABLED=1     -DSSE3_ENABLED=1     -DSSSE3_ENABLED=1         -DSSE41_ENABLED=1       -DSSE42_ENABLED=1       -DPOPCNT_ENABLED=1      -DCX16_ENABLED=1\"\n",
      "  \u001b[31m   \u001b[0m -- CMAKE_CXX_FLAGS = \"   -fexceptions   -fno-common   -fcolor-diagnostics   -faligned-allocation   -fdebug-default-version=4   -ffunction-sections   -fdata-sections   -Wall   -Wextra   -Wno-parentheses   -Wno-implicit-const-int-float-conversion   -Wno-unknown-warning-option   -pipe   -D_THREAD_SAFE   -D_PTHREADS   -D_REENTRANT   -D_LARGEFILE_SOURCE   -D__STDC_CONSTANT_MACROS   -D__STDC_FORMAT_MACROS   -D__LONG_LONG_SUPPORTED  -DLIBCXX_BUILDING_LIBCXXRT -D_FILE_OFFSET_BITS=64  -m64    -msse2     -msse3     -mssse3         -msse4.1       -msse4.2       -mpopcnt      -mcx16   -Woverloaded-virtual   -Wimport-preprocessor-directive-pedantic   -Wno-undefined-var-template   -Wno-return-std-move   -Wno-defaulted-function-deleted   -Wno-pessimizing-move   -Wno-deprecated-anon-enum-enum-conversion   -Wno-deprecated-enum-enum-conversion   -Wno-deprecated-enum-float-conversion   -Wno-ambiguous-reversed-operator   -Wno-deprecated-volatile      -DSSE_ENABLED=1     -DSSE3_ENABLED=1     -DSSSE3_ENABLED=1         -DSSE41_ENABLED=1       -DSSE42_ENABLED=1       -DPOPCNT_ENABLED=1      -DCX16_ENABLED=1\"\n",
      "  \u001b[31m   \u001b[0m -- Found Python3: /Users/admin/anaconda3/bin/python3.11 (found version \"3.11.3\") found components: Interpreter\n",
      "  \u001b[31m   \u001b[0m -- CMake-Conan: cmake_osx_deployment_target=11.0\n",
      "  \u001b[31m   \u001b[0m -- Conan: checking conan executable\n",
      "  \u001b[31m   \u001b[0m -- Conan: Found program /private/var/folders/0t/d3pxkghn5d920blj72_db9mr0000gn/T/pip-build-env-4bgux99y/overlay/bin/conan\n",
      "  \u001b[31m   \u001b[0m -- Conan: Version found \u001b[1m\u001b[32mConan version 1.64.1\u001b[0m\n",
      "  \u001b[31m   \u001b[0m -- Conan executing: /private/var/folders/0t/d3pxkghn5d920blj72_db9mr0000gn/T/pip-build-env-4bgux99y/overlay/bin/conan install /private/var/folders/0t/d3pxkghn5d920blj72_db9mr0000gn/T/pip-install-yc98cc5v/catboost_2090f1ce70344f2bb47bbf567a5d5b4a/catboost_all_src --remote conancenter --install-folder /private/var/folders/0t/d3pxkghn5d920blj72_db9mr0000gn/T/pip-install-yc98cc5v/catboost_2090f1ce70344f2bb47bbf567a5d5b4a/build/temp.macosx-10.9-x86_64-cpython-311 --build missing --env CONAN_CMAKE_GENERATOR=Ninja --settings os.version=11.0 --settings build_type=Release --settings compiler=apple-clang --settings compiler.version=13.0 --settings compiler.libcxx=libc++ --settings compiler.cppstd=20 --conf tools.cmake.cmaketoolchain:generator=Ninja\n",
      "  \u001b[31m   \u001b[0m \u001b[1m\u001b[33mWARN: *** Conan 1 is legacy and on a deprecation path ***\u001b[0m\n",
      "  \u001b[31m   \u001b[0m \u001b[1m\u001b[33mWARN: *** Please upgrade to Conan 2 ***\u001b[0m\n",
      "  \u001b[31m   \u001b[0m \u001b[1m\u001b[36mConfiguration:\u001b[0m\n",
      "  \u001b[31m   \u001b[0m [settings]\n",
      "  \u001b[31m   \u001b[0m arch=x86_64\n",
      "  \u001b[31m   \u001b[0m arch_build=x86_64\n",
      "  \u001b[31m   \u001b[0m build_type=Release\n",
      "  \u001b[31m   \u001b[0m compiler=apple-clang\n",
      "  \u001b[31m   \u001b[0m compiler.cppstd=20\n",
      "  \u001b[31m   \u001b[0m compiler.libcxx=libc++\n",
      "  \u001b[31m   \u001b[0m compiler.version=13.0\n",
      "  \u001b[31m   \u001b[0m os=Macos\n",
      "  \u001b[31m   \u001b[0m os.version=11.0\n",
      "  \u001b[31m   \u001b[0m os_build=Macos\n",
      "  \u001b[31m   \u001b[0m [options]\n",
      "  \u001b[31m   \u001b[0m [build_requires]\n",
      "  \u001b[31m   \u001b[0m [env]\n",
      "  \u001b[31m   \u001b[0m CONAN_CMAKE_GENERATOR=Ninja\n",
      "  \u001b[31m   \u001b[0m [conf]\n",
      "  \u001b[31m   \u001b[0m tools.cmake.cmaketoolchain:generator=Ninja\n",
      "  \u001b[31m   \u001b[0m \n",
      "  \u001b[31m   \u001b[0m \u001b[1m\u001b[32mVersion ranges solved\u001b[0m\n",
      "  \u001b[31m   \u001b[0m \u001b[1m\u001b[36m    Version range '>=1.2.11 <2' required by 'pcre/8.45' resolved to 'zlib/1.3.1' in local cache\u001b[0m\n",
      "  \u001b[31m   \u001b[0m \n",
      "  \u001b[31m   \u001b[0m \u001b[1m\u001b[35mconanfile.txt: \u001b[0m\u001b[1m\u001b[37mInstalling package\u001b[0m\n",
      "  \u001b[31m   \u001b[0m \u001b[1m\u001b[33mRequirements\u001b[0m\n",
      "  \u001b[31m   \u001b[0m \u001b[1m\u001b[36m    openssl/1.1.1t from 'conancenter' - Cache\u001b[0m\n",
      "  \u001b[31m   \u001b[0m \u001b[1m\u001b[33mPackages\u001b[0m\n",
      "  \u001b[31m   \u001b[0m \u001b[1m\u001b[36m    openssl/1.1.1t:07e8584cc0c1da398bf8209fb7cf5ed3e38e94f5 - Cache\u001b[0m\n",
      "  \u001b[31m   \u001b[0m \u001b[1m\u001b[33mBuild requirements\u001b[0m\n",
      "  \u001b[31m   \u001b[0m \u001b[1m\u001b[36m    bzip2/1.0.8 from 'conancenter' - Cache\u001b[0m\n",
      "  \u001b[31m   \u001b[0m \u001b[1m\u001b[36m    libgettext/0.22 from 'conancenter' - Cache\u001b[0m\n",
      "  \u001b[31m   \u001b[0m \u001b[1m\u001b[36m    libiconv/1.17 from 'conancenter' - Cache\u001b[0m\n",
      "  \u001b[31m   \u001b[0m \u001b[1m\u001b[36m    pcre/8.45 from 'conancenter' - Cache\u001b[0m\n",
      "  \u001b[31m   \u001b[0m \u001b[1m\u001b[36m    ragel/6.10 from 'conancenter' - Cache\u001b[0m\n",
      "  \u001b[31m   \u001b[0m \u001b[1m\u001b[36m    swig/4.0.2 from 'conancenter' - Cache\u001b[0m\n",
      "  \u001b[31m   \u001b[0m \u001b[1m\u001b[36m    yasm/1.3.0 from 'conancenter' - Cache\u001b[0m\n",
      "  \u001b[31m   \u001b[0m \u001b[1m\u001b[36m    zlib/1.3.1 from 'conancenter' - Cache\u001b[0m\n",
      "  \u001b[31m   \u001b[0m \u001b[1m\u001b[33mBuild requirements packages\u001b[0m\n",
      "  \u001b[31m   \u001b[0m \u001b[1m\u001b[36m    bzip2/1.0.8:391d321685318509c1e8fbfda4c50b13ada5a658 - Cache\u001b[0m\n",
      "  \u001b[31m   \u001b[0m \u001b[1m\u001b[36m    libgettext/0.22:1faa96daaf113bb18c3d9112093bfd6fa428c799 - Cache\u001b[0m\n",
      "  \u001b[31m   \u001b[0m \u001b[1m\u001b[36m    libiconv/1.17:07e8584cc0c1da398bf8209fb7cf5ed3e38e94f5 - Cache\u001b[0m\n",
      "  \u001b[31m   \u001b[0m \u001b[1m\u001b[36m    pcre/8.45:302530409d1b4d5a3c3266394887ecc2a600dc15 - Cache\u001b[0m\n",
      "  \u001b[31m   \u001b[0m \u001b[1m\u001b[36m    ragel/6.10:583c7dcfc7d6270ab4aa4b68734391b1b58a2847 - Cache\u001b[0m\n",
      "  \u001b[31m   \u001b[0m \u001b[1m\u001b[36m    swig/4.0.2:33661d31e8b2c21f1a5f306690a41ef3e301d57f - Cache\u001b[0m\n",
      "  \u001b[31m   \u001b[0m \u001b[1m\u001b[36m    yasm/1.3.0:583c7dcfc7d6270ab4aa4b68734391b1b58a2847 - Cache\u001b[0m\n",
      "  \u001b[31m   \u001b[0m \u001b[1m\u001b[36m    zlib/1.3.1:07e8584cc0c1da398bf8209fb7cf5ed3e38e94f5 - Cache\u001b[0m\n",
      "  \u001b[31m   \u001b[0m \n",
      "  \u001b[31m   \u001b[0m \u001b[1m\u001b[36mInstalling (downloading, building) binaries...\u001b[0m\n",
      "  \u001b[31m   \u001b[0m \u001b[1m\u001b[32mbzip2/1.0.8: \u001b[0m\u001b[1m\u001b[37mAlready installed!\u001b[0m\n",
      "  \u001b[31m   \u001b[0m \u001b[1m\u001b[32mlibiconv/1.17: \u001b[0m\u001b[1m\u001b[37mAlready installed!\u001b[0m\n",
      "  \u001b[31m   \u001b[0m \u001b[1m\u001b[32mopenssl/1.1.1t: \u001b[0m\u001b[1m\u001b[37mAlready installed!\u001b[0m\n",
      "  \u001b[31m   \u001b[0m \u001b[1m\u001b[32mragel/6.10: \u001b[0m\u001b[1m\u001b[37mAlready installed!\u001b[0m\n",
      "  \u001b[31m   \u001b[0m \u001b[1m\u001b[36mragel/6.10: \u001b[0m\u001b[1m\u001b[37mAppending PATH environment variable: /Users/admin/.conan/data/ragel/6.10/_/_/package/583c7dcfc7d6270ab4aa4b68734391b1b58a2847/bin\u001b[0m\n",
      "  \u001b[31m   \u001b[0m \u001b[1m\u001b[32myasm/1.3.0: \u001b[0m\u001b[1m\u001b[37mAlready installed!\u001b[0m\n",
      "  \u001b[31m   \u001b[0m \u001b[1m\u001b[36myasm/1.3.0: \u001b[0m\u001b[1m\u001b[37mAppending PATH environment variable: /Users/admin/.conan/data/yasm/1.3.0/_/_/package/583c7dcfc7d6270ab4aa4b68734391b1b58a2847/bin\u001b[0m\n",
      "  \u001b[31m   \u001b[0m \u001b[1m\u001b[32mzlib/1.3.1: \u001b[0m\u001b[1m\u001b[37mAlready installed!\u001b[0m\n",
      "  \u001b[31m   \u001b[0m \u001b[1m\u001b[32mlibgettext/0.22: \u001b[0m\u001b[1m\u001b[37mAlready installed!\u001b[0m\n",
      "  \u001b[31m   \u001b[0m \u001b[1m\u001b[32mpcre/8.45: \u001b[0m\u001b[1m\u001b[37mAlready installed!\u001b[0m\n",
      "  \u001b[31m   \u001b[0m \u001b[1m\u001b[32mswig/4.0.2: \u001b[0m\u001b[1m\u001b[37mAlready installed!\u001b[0m\n",
      "  \u001b[31m   \u001b[0m \u001b[1m\u001b[36mconanfile.txt: \u001b[0m\u001b[1m\u001b[37mApplying build-requirement: ragel/6.10\u001b[0m\n",
      "  \u001b[31m   \u001b[0m \u001b[1m\u001b[36mconanfile.txt: \u001b[0m\u001b[1m\u001b[37mApplying build-requirement: swig/4.0.2\u001b[0m\n",
      "  \u001b[31m   \u001b[0m \u001b[1m\u001b[36mconanfile.txt: \u001b[0m\u001b[1m\u001b[37mApplying build-requirement: yasm/1.3.0\u001b[0m\n",
      "  \u001b[31m   \u001b[0m \u001b[1m\u001b[36mconanfile.txt: \u001b[0m\u001b[1m\u001b[37mApplying build-requirement: pcre/8.45\u001b[0m\n",
      "  \u001b[31m   \u001b[0m \u001b[1m\u001b[36mconanfile.txt: \u001b[0m\u001b[1m\u001b[37mApplying build-requirement: libgettext/0.22\u001b[0m\n",
      "  \u001b[31m   \u001b[0m \u001b[1m\u001b[36mconanfile.txt: \u001b[0m\u001b[1m\u001b[37mApplying build-requirement: bzip2/1.0.8\u001b[0m\n",
      "  \u001b[31m   \u001b[0m \u001b[1m\u001b[36mconanfile.txt: \u001b[0m\u001b[1m\u001b[37mApplying build-requirement: zlib/1.3.1\u001b[0m\n",
      "  \u001b[31m   \u001b[0m \u001b[1m\u001b[36mconanfile.txt: \u001b[0m\u001b[1m\u001b[37mApplying build-requirement: libiconv/1.17\u001b[0m\n",
      "  \u001b[31m   \u001b[0m \u001b[1m\u001b[36mconanfile.txt: \u001b[0m\u001b[1m\u001b[37mGenerator txt created conanbuildinfo.txt\u001b[0m\n",
      "  \u001b[31m   \u001b[0m \u001b[1m\u001b[33mconanfile.txt: \u001b[0m\u001b[1m\u001b[37mWARN:\n",
      "  \u001b[31m   \u001b[0m      ************************************************\n",
      "  \u001b[31m   \u001b[0m      The 'cmake_find_package' generator is deprecated.\n",
      "  \u001b[31m   \u001b[0m      Please update your code and remove it.\n",
      "  \u001b[31m   \u001b[0m      *************************************************\n",
      "  \u001b[31m   \u001b[0m \u001b[0m\n",
      "  \u001b[31m   \u001b[0m \u001b[1m\u001b[36mconanfile.txt: \u001b[0m\u001b[1m\u001b[37mGenerator cmake_find_package created Findragel.cmake\u001b[0m\n",
      "  \u001b[31m   \u001b[0m \u001b[1m\u001b[36mconanfile.txt: \u001b[0m\u001b[1m\u001b[37mGenerator cmake_find_package created FindSWIG.cmake\u001b[0m\n",
      "  \u001b[31m   \u001b[0m \u001b[1m\u001b[36mconanfile.txt: \u001b[0m\u001b[1m\u001b[37mGenerator cmake_find_package created Findyasm.cmake\u001b[0m\n",
      "  \u001b[31m   \u001b[0m \u001b[1m\u001b[36mconanfile.txt: \u001b[0m\u001b[1m\u001b[37mGenerator cmake_find_package created FindOpenSSL.cmake\u001b[0m\n",
      "  \u001b[31m   \u001b[0m \u001b[1m\u001b[36mconanfile.txt: \u001b[0m\u001b[1m\u001b[37mGenerator cmake_find_package created FindPCRE.cmake\u001b[0m\n",
      "  \u001b[31m   \u001b[0m \u001b[1m\u001b[36mconanfile.txt: \u001b[0m\u001b[1m\u001b[37mGenerator cmake_find_package created FindIntl.cmake\u001b[0m\n",
      "  \u001b[31m   \u001b[0m \u001b[1m\u001b[36mconanfile.txt: \u001b[0m\u001b[1m\u001b[37mGenerator cmake_find_package created FindBZip2.cmake\u001b[0m\n",
      "  \u001b[31m   \u001b[0m \u001b[1m\u001b[36mconanfile.txt: \u001b[0m\u001b[1m\u001b[37mGenerator cmake_find_package created FindZLIB.cmake\u001b[0m\n",
      "  \u001b[31m   \u001b[0m \u001b[1m\u001b[36mconanfile.txt: \u001b[0m\u001b[1m\u001b[37mGenerator cmake_find_package created FindIconv.cmake\u001b[0m\n",
      "  \u001b[31m   \u001b[0m \u001b[1m\u001b[33mconanfile.txt: \u001b[0m\u001b[1m\u001b[37mWARN:\n",
      "  \u001b[31m   \u001b[0m      ************************************************\n",
      "  \u001b[31m   \u001b[0m      The 'cmake_paths' generator is deprecated.\n",
      "  \u001b[31m   \u001b[0m      Please update your code and remove it.\n",
      "  \u001b[31m   \u001b[0m      *************************************************\n",
      "  \u001b[31m   \u001b[0m \u001b[0m\n",
      "  \u001b[31m   \u001b[0m \u001b[1m\u001b[36mconanfile.txt: \u001b[0m\u001b[1m\u001b[37mGenerator cmake_paths created conan_paths.cmake\u001b[0m\n",
      "  \u001b[31m   \u001b[0m \u001b[1m\u001b[35mconanfile.txt: \u001b[0m\u001b[1m\u001b[37mAggregating env generators\u001b[0m\n",
      "  \u001b[31m   \u001b[0m \u001b[1m\u001b[36mconanfile.txt: \u001b[0m\u001b[1m\u001b[37mGenerated conaninfo.txt\u001b[0m\n",
      "  \u001b[31m   \u001b[0m \u001b[1m\u001b[36mconanfile.txt: \u001b[0m\u001b[1m\u001b[37mGenerated graphinfo\u001b[0m\n",
      "  \u001b[31m   \u001b[0m \u001b[1m\u001b[36mconanfile.txt imports(): \u001b[0m\u001b[1m\u001b[37mCopied 434 '.i' files\u001b[0m\n",
      "  \u001b[31m   \u001b[0m \u001b[1m\u001b[36mconanfile.txt imports(): \u001b[0m\u001b[1m\u001b[37mCopied 273 '.swg' files\u001b[0m\n",
      "  \u001b[31m   \u001b[0m \u001b[1m\u001b[36mconanfile.txt imports(): \u001b[0m\u001b[1m\u001b[37mCopied 1 '.mli' file: swig.mli\u001b[0m\n",
      "  \u001b[31m   \u001b[0m \u001b[1m\u001b[36mconanfile.txt imports(): \u001b[0m\u001b[1m\u001b[37mCopied 6 files\u001b[0m\n",
      "  \u001b[31m   \u001b[0m \u001b[1m\u001b[36mconanfile.txt imports(): \u001b[0m\u001b[1m\u001b[37mCopied 1 '.scm' file: common.scm\u001b[0m\n",
      "  \u001b[31m   \u001b[0m \u001b[1m\u001b[36mconanfile.txt imports(): \u001b[0m\u001b[1m\u001b[37mCopied 1 '.rb' file: extconf.rb\u001b[0m\n",
      "  \u001b[31m   \u001b[0m \u001b[1m\u001b[36mconanfile.txt imports(): \u001b[0m\u001b[1m\u001b[37mCopied 2 '.ml' files: swigp4.ml, swig.ml\u001b[0m\n",
      "  \u001b[31m   \u001b[0m \u001b[1m\u001b[36mconanfile.txt imports(): \u001b[0m\u001b[1m\u001b[37mCopied 1 '.h' file: noembed.h\u001b[0m\n",
      "  \u001b[31m   \u001b[0m \u001b[1m\u001b[36mconanfile.txt imports(): \u001b[0m\u001b[1m\u001b[37mCopied 1 '.swig' file: Makefile.swig\u001b[0m\n",
      "  \u001b[31m   \u001b[0m \u001b[1m\u001b[36mconanfile.txt imports(): \u001b[0m\u001b[1m\u001b[37mCopied 1 '.hpp' file: octheaders.hpp\u001b[0m\n",
      "  \u001b[31m   \u001b[0m \u001b[1m\u001b[36mconanfile.txt imports(): \u001b[0m\u001b[1m\u001b[37mCopied 1 '.pl' file: Makefile.pl\u001b[0m\n",
      "  \u001b[31m   \u001b[0m \u001b[1m\u001b[33mWARN: Revisions are disabled. Using Conan without revisions enabled is deprecated\u001b[0m\n",
      "  \u001b[31m   \u001b[0m -- Conan: Using autogenerated FindOpenSSL.cmake\n",
      "  \u001b[31m   \u001b[0m -- Found OpenSSL: 1.1.1t (found version \"1.1.1t\")\n",
      "  \u001b[31m   \u001b[0m -- Library ssl found /Users/admin/.conan/data/openssl/1.1.1t/_/_/package/07e8584cc0c1da398bf8209fb7cf5ed3e38e94f5/lib/libssl.a\n",
      "  \u001b[31m   \u001b[0m -- Found: /Users/admin/.conan/data/openssl/1.1.1t/_/_/package/07e8584cc0c1da398bf8209fb7cf5ed3e38e94f5/lib/libssl.a\n",
      "  \u001b[31m   \u001b[0m -- Library crypto found /Users/admin/.conan/data/openssl/1.1.1t/_/_/package/07e8584cc0c1da398bf8209fb7cf5ed3e38e94f5/lib/libcrypto.a\n",
      "  \u001b[31m   \u001b[0m -- Found: /Users/admin/.conan/data/openssl/1.1.1t/_/_/package/07e8584cc0c1da398bf8209fb7cf5ed3e38e94f5/lib/libcrypto.a\n",
      "  \u001b[31m   \u001b[0m -- Library crypto found /Users/admin/.conan/data/openssl/1.1.1t/_/_/package/07e8584cc0c1da398bf8209fb7cf5ed3e38e94f5/lib/libcrypto.a\n",
      "  \u001b[31m   \u001b[0m -- Found: /Users/admin/.conan/data/openssl/1.1.1t/_/_/package/07e8584cc0c1da398bf8209fb7cf5ed3e38e94f5/lib/libcrypto.a\n",
      "  \u001b[31m   \u001b[0m -- Library ssl found /Users/admin/.conan/data/openssl/1.1.1t/_/_/package/07e8584cc0c1da398bf8209fb7cf5ed3e38e94f5/lib/libssl.a\n",
      "  \u001b[31m   \u001b[0m -- Found: /Users/admin/.conan/data/openssl/1.1.1t/_/_/package/07e8584cc0c1da398bf8209fb7cf5ed3e38e94f5/lib/libssl.a\n",
      "  \u001b[31m   \u001b[0m -- Conan: Using autogenerated FindOpenSSL.cmake\n",
      "  \u001b[31m   \u001b[0m -- Library ssl found /Users/admin/.conan/data/openssl/1.1.1t/_/_/package/07e8584cc0c1da398bf8209fb7cf5ed3e38e94f5/lib/libssl.a\n",
      "  \u001b[31m   \u001b[0m -- Found: /Users/admin/.conan/data/openssl/1.1.1t/_/_/package/07e8584cc0c1da398bf8209fb7cf5ed3e38e94f5/lib/libssl.a\n",
      "  \u001b[31m   \u001b[0m -- Library crypto found /Users/admin/.conan/data/openssl/1.1.1t/_/_/package/07e8584cc0c1da398bf8209fb7cf5ed3e38e94f5/lib/libcrypto.a\n",
      "  \u001b[31m   \u001b[0m -- Found: /Users/admin/.conan/data/openssl/1.1.1t/_/_/package/07e8584cc0c1da398bf8209fb7cf5ed3e38e94f5/lib/libcrypto.a\n",
      "  \u001b[31m   \u001b[0m -- Library crypto found /Users/admin/.conan/data/openssl/1.1.1t/_/_/package/07e8584cc0c1da398bf8209fb7cf5ed3e38e94f5/lib/libcrypto.a\n",
      "  \u001b[31m   \u001b[0m -- Found: /Users/admin/.conan/data/openssl/1.1.1t/_/_/package/07e8584cc0c1da398bf8209fb7cf5ed3e38e94f5/lib/libcrypto.a\n",
      "  \u001b[31m   \u001b[0m -- Library ssl found /Users/admin/.conan/data/openssl/1.1.1t/_/_/package/07e8584cc0c1da398bf8209fb7cf5ed3e38e94f5/lib/libssl.a\n",
      "  \u001b[31m   \u001b[0m -- Found: /Users/admin/.conan/data/openssl/1.1.1t/_/_/package/07e8584cc0c1da398bf8209fb7cf5ed3e38e94f5/lib/libssl.a\n",
      "  \u001b[31m   \u001b[0m -- Conan: Using autogenerated FindOpenSSL.cmake\n",
      "  \u001b[31m   \u001b[0m -- Library ssl found /Users/admin/.conan/data/openssl/1.1.1t/_/_/package/07e8584cc0c1da398bf8209fb7cf5ed3e38e94f5/lib/libssl.a\n",
      "  \u001b[31m   \u001b[0m -- Found: /Users/admin/.conan/data/openssl/1.1.1t/_/_/package/07e8584cc0c1da398bf8209fb7cf5ed3e38e94f5/lib/libssl.a\n",
      "  \u001b[31m   \u001b[0m -- Library crypto found /Users/admin/.conan/data/openssl/1.1.1t/_/_/package/07e8584cc0c1da398bf8209fb7cf5ed3e38e94f5/lib/libcrypto.a\n",
      "  \u001b[31m   \u001b[0m -- Found: /Users/admin/.conan/data/openssl/1.1.1t/_/_/package/07e8584cc0c1da398bf8209fb7cf5ed3e38e94f5/lib/libcrypto.a\n",
      "  \u001b[31m   \u001b[0m -- Library crypto found /Users/admin/.conan/data/openssl/1.1.1t/_/_/package/07e8584cc0c1da398bf8209fb7cf5ed3e38e94f5/lib/libcrypto.a\n",
      "  \u001b[31m   \u001b[0m -- Found: /Users/admin/.conan/data/openssl/1.1.1t/_/_/package/07e8584cc0c1da398bf8209fb7cf5ed3e38e94f5/lib/libcrypto.a\n",
      "  \u001b[31m   \u001b[0m -- Library ssl found /Users/admin/.conan/data/openssl/1.1.1t/_/_/package/07e8584cc0c1da398bf8209fb7cf5ed3e38e94f5/lib/libssl.a\n",
      "  \u001b[31m   \u001b[0m -- Found: /Users/admin/.conan/data/openssl/1.1.1t/_/_/package/07e8584cc0c1da398bf8209fb7cf5ed3e38e94f5/lib/libssl.a\n",
      "  \u001b[31m   \u001b[0m -- Conan: Using autogenerated FindOpenSSL.cmake\n",
      "  \u001b[31m   \u001b[0m -- Library ssl found /Users/admin/.conan/data/openssl/1.1.1t/_/_/package/07e8584cc0c1da398bf8209fb7cf5ed3e38e94f5/lib/libssl.a\n",
      "  \u001b[31m   \u001b[0m -- Found: /Users/admin/.conan/data/openssl/1.1.1t/_/_/package/07e8584cc0c1da398bf8209fb7cf5ed3e38e94f5/lib/libssl.a\n",
      "  \u001b[31m   \u001b[0m -- Library crypto found /Users/admin/.conan/data/openssl/1.1.1t/_/_/package/07e8584cc0c1da398bf8209fb7cf5ed3e38e94f5/lib/libcrypto.a\n",
      "  \u001b[31m   \u001b[0m -- Found: /Users/admin/.conan/data/openssl/1.1.1t/_/_/package/07e8584cc0c1da398bf8209fb7cf5ed3e38e94f5/lib/libcrypto.a\n",
      "  \u001b[31m   \u001b[0m -- Library crypto found /Users/admin/.conan/data/openssl/1.1.1t/_/_/package/07e8584cc0c1da398bf8209fb7cf5ed3e38e94f5/lib/libcrypto.a\n",
      "  \u001b[31m   \u001b[0m -- Found: /Users/admin/.conan/data/openssl/1.1.1t/_/_/package/07e8584cc0c1da398bf8209fb7cf5ed3e38e94f5/lib/libcrypto.a\n",
      "  \u001b[31m   \u001b[0m -- Library ssl found /Users/admin/.conan/data/openssl/1.1.1t/_/_/package/07e8584cc0c1da398bf8209fb7cf5ed3e38e94f5/lib/libssl.a\n",
      "  \u001b[31m   \u001b[0m -- Found: /Users/admin/.conan/data/openssl/1.1.1t/_/_/package/07e8584cc0c1da398bf8209fb7cf5ed3e38e94f5/lib/libssl.a\n",
      "  \u001b[31m   \u001b[0m -- Found Python3: /Users/admin/anaconda3/include/python3.11 (found version \"3.11.3\") found components: Development Development.Module Development.Embed\n",
      "  \u001b[31m   \u001b[0m -- Found Python3: /Users/admin/anaconda3/bin/python3.11 (found version \"3.11.3\") found components: Interpreter\n",
      "  \u001b[31m   \u001b[0m -- Found Python3: /Users/admin/anaconda3/include/python3.11 (found version \"3.11.3\") found components: Development Development.Module Development.Embed\n",
      "  \u001b[31m   \u001b[0m -- Found Python3: /Users/admin/anaconda3/bin/python3.11 (found version \"3.11.3\") found components: Interpreter\n",
      "  \u001b[31m   \u001b[0m -- Configuring done (8.9s)\n",
      "  \u001b[31m   \u001b[0m -- Generating done (2.9s)\n",
      "  \u001b[31m   \u001b[0m -- Build files have been written to: /private/var/folders/0t/d3pxkghn5d920blj72_db9mr0000gn/T/pip-install-yc98cc5v/catboost_2090f1ce70344f2bb47bbf567a5d5b4a/build/temp.macosx-10.9-x86_64-cpython-311\n",
      "  \u001b[31m   \u001b[0m Running \"ninja -C /private/var/folders/0t/d3pxkghn5d920blj72_db9mr0000gn/T/pip-install-yc98cc5v/catboost_2090f1ce70344f2bb47bbf567a5d5b4a/build/temp.macosx-10.9-x86_64-cpython-311 -v _catboost\"\n",
      "  \u001b[31m   \u001b[0m ninja: Entering directory `/private/var/folders/0t/d3pxkghn5d920blj72_db9mr0000gn/T/pip-install-yc98cc5v/catboost_2090f1ce70344f2bb47bbf567a5d5b4a/build/temp.macosx-10.9-x86_64-cpython-311'\n",
      "  \u001b[31m   \u001b[0m [1/3724] /Library/Developer/CommandLineTools/usr/bin/clang -DCATBOOST_OPENSOURCE=yes -I/private/var/folders/0t/d3pxkghn5d920blj72_db9mr0000gn/T/pip-install-yc98cc5v/catboost_2090f1ce70344f2bb47bbf567a5d5b4a/catboost_all_src -I/private/var/folders/0t/d3pxkghn5d920blj72_db9mr0000gn/T/pip-install-yc98cc5v/catboost_2090f1ce70344f2bb47bbf567a5d5b4a/build/temp.macosx-10.9-x86_64-cpython-311 -I/private/var/folders/0t/d3pxkghn5d920blj72_db9mr0000gn/T/pip-install-yc98cc5v/catboost_2090f1ce70344f2bb47bbf567a5d5b4a/catboost_all_src/contrib/libs/libunwind/include -I/private/var/folders/0t/d3pxkghn5d920blj72_db9mr0000gn/T/pip-install-yc98cc5v/catboost_2090f1ce70344f2bb47bbf567a5d5b4a/catboost_all_src/contrib/libs/clang16-rt/include -O3 -DNDEBUG -isysroot /Library/Developer/CommandLineTools/SDKs/MacOSX12.1.sdk -mmacosx-version-min=11.0 -fPIC -D_libunwind_ -fno-exceptions -fno-rtti -funwind-tables -D_LIBUNWIND_IS_NATIVE_ONLY -MD -MT contrib/libs/libunwind/CMakeFiles/contrib-libs-libunwind.dir/src/UnwindRegistersRestore.S.o -MF contrib/libs/libunwind/CMakeFiles/contrib-libs-libunwind.dir/src/UnwindRegistersRestore.S.o.d -o contrib/libs/libunwind/CMakeFiles/contrib-libs-libunwind.dir/src/UnwindRegistersRestore.S.o -c /private/var/folders/0t/d3pxkghn5d920blj72_db9mr0000gn/T/pip-install-yc98cc5v/catboost_2090f1ce70344f2bb47bbf567a5d5b4a/catboost_all_src/contrib/libs/libunwind/src/UnwindRegistersRestore.S\n",
      "  \u001b[31m   \u001b[0m [2/3724] /Library/Developer/CommandLineTools/usr/bin/clang -DCATBOOST_OPENSOURCE=yes -I/private/var/folders/0t/d3pxkghn5d920blj72_db9mr0000gn/T/pip-install-yc98cc5v/catboost_2090f1ce70344f2bb47bbf567a5d5b4a/catboost_all_src -I/private/var/folders/0t/d3pxkghn5d920blj72_db9mr0000gn/T/pip-install-yc98cc5v/catboost_2090f1ce70344f2bb47bbf567a5d5b4a/build/temp.macosx-10.9-x86_64-cpython-311 -I/private/var/folders/0t/d3pxkghn5d920blj72_db9mr0000gn/T/pip-install-yc98cc5v/catboost_2090f1ce70344f2bb47bbf567a5d5b4a/catboost_all_src/contrib/libs/libunwind/include -I/private/var/folders/0t/d3pxkghn5d920blj72_db9mr0000gn/T/pip-install-yc98cc5v/catboost_2090f1ce70344f2bb47bbf567a5d5b4a/catboost_all_src/contrib/libs/clang16-rt/include -O3 -DNDEBUG -isysroot /Library/Developer/CommandLineTools/SDKs/MacOSX12.1.sdk -mmacosx-version-min=11.0 -fPIC -D_libunwind_ -fno-exceptions -fno-rtti -funwind-tables -D_LIBUNWIND_IS_NATIVE_ONLY -MD -MT contrib/libs/libunwind/CMakeFiles/contrib-libs-libunwind.dir/src/UnwindRegistersSave.S.o -MF contrib/libs/libunwind/CMakeFiles/contrib-libs-libunwind.dir/src/UnwindRegistersSave.S.o.d -o contrib/libs/libunwind/CMakeFiles/contrib-libs-libunwind.dir/src/UnwindRegistersSave.S.o -c /private/var/folders/0t/d3pxkghn5d920blj72_db9mr0000gn/T/pip-install-yc98cc5v/catboost_2090f1ce70344f2bb47bbf567a5d5b4a/catboost_all_src/contrib/libs/libunwind/src/UnwindRegistersSave.S\n",
      "  \u001b[31m   \u001b[0m [3/3724] /usr/bin/clang++ -DCATBOOST_OPENSOURCE=yes -I/private/var/folders/0t/d3pxkghn5d920blj72_db9mr0000gn/T/pip-install-yc98cc5v/catboost_2090f1ce70344f2bb47bbf567a5d5b4a/catboost_all_src -I/private/var/folders/0t/d3pxkghn5d920blj72_db9mr0000gn/T/pip-install-yc98cc5v/catboost_2090f1ce70344f2bb47bbf567a5d5b4a/build/temp.macosx-10.9-x86_64-cpython-311 -I/private/var/folders/0t/d3pxkghn5d920blj72_db9mr0000gn/T/pip-install-yc98cc5v/catboost_2090f1ce70344f2bb47bbf567a5d5b4a/catboost_all_src/contrib/libs/libunwind/include -I/private/var/folders/0t/d3pxkghn5d920blj72_db9mr0000gn/T/pip-install-yc98cc5v/catboost_2090f1ce70344f2bb47bbf567a5d5b4a/catboost_all_src/contrib/libs/clang16-rt/include -fexceptions   -fno-common   -fcolor-diagnostics   -faligned-allocation   -fdebug-default-version=4   -ffunction-sections   -fdata-sections   -Wall   -Wextra   -Wno-parentheses   -Wno-implicit-const-int-float-conversion   -Wno-unknown-warning-option   -pipe   -D_THREAD_SAFE   -D_PTHREADS   -D_REENTRANT   -D_LARGEFILE_SOURCE   -D__STDC_CONSTANT_MACROS   -D__STDC_FORMAT_MACROS   -D__LONG_LONG_SUPPORTED  -DLIBCXX_BUILDING_LIBCXXRT -D_FILE_OFFSET_BITS=64  -m64    -msse2     -msse3     -mssse3         -msse4.1       -msse4.2       -mpopcnt      -mcx16   -Woverloaded-virtual   -Wimport-preprocessor-directive-pedantic   -Wno-undefined-var-template   -Wno-return-std-move   -Wno-defaulted-function-deleted   -Wno-pessimizing-move   -Wno-deprecated-anon-enum-enum-conversion   -Wno-deprecated-enum-enum-conversion   -Wno-deprecated-enum-float-conversion   -Wno-ambiguous-reversed-operator   -Wno-deprecated-volatile      -DSSE_ENABLED=1     -DSSE3_ENABLED=1     -DSSSE3_ENABLED=1         -DSSE41_ENABLED=1       -DSSE42_ENABLED=1       -DPOPCNT_ENABLED=1      -DCX16_ENABLED=1 -O3 -DNDEBUG -std=c++20 -isysroot /Library/Developer/CommandLineTools/SDKs/MacOSX12.1.sdk -mmacosx-version-min=11.0 -fPIC -D_libunwind_ -fno-exceptions -fno-rtti -funwind-tables -D_LIBUNWIND_IS_NATIVE_ONLY -MD -MT contrib/libs/libunwind/CMakeFiles/contrib-libs-libunwind.dir/src/Unwind-EHABI.cpp.o -MF contrib/libs/libunwind/CMakeFiles/contrib-libs-libunwind.dir/src/Unwind-EHABI.cpp.o.d -o contrib/libs/libunwind/CMakeFiles/contrib-libs-libunwind.dir/src/Unwind-EHABI.cpp.o -c /private/var/folders/0t/d3pxkghn5d920blj72_db9mr0000gn/T/pip-install-yc98cc5v/catboost_2090f1ce70344f2bb47bbf567a5d5b4a/catboost_all_src/contrib/libs/libunwind/src/Unwind-EHABI.cpp\n",
      "  \u001b[31m   \u001b[0m [4/3724] /usr/bin/clang -DCATBOOST_OPENSOURCE=yes -I/private/var/folders/0t/d3pxkghn5d920blj72_db9mr0000gn/T/pip-install-yc98cc5v/catboost_2090f1ce70344f2bb47bbf567a5d5b4a/catboost_all_src -I/private/var/folders/0t/d3pxkghn5d920blj72_db9mr0000gn/T/pip-install-yc98cc5v/catboost_2090f1ce70344f2bb47bbf567a5d5b4a/build/temp.macosx-10.9-x86_64-cpython-311 -fexceptions   -fno-common   -fcolor-diagnostics   -faligned-allocation   -fdebug-default-version=4   -ffunction-sections   -fdata-sections   -Wall   -Wextra   -Wno-parentheses   -Wno-implicit-const-int-float-conversion   -Wno-unknown-warning-option   -pipe   -D_THREAD_SAFE   -D_PTHREADS   -D_REENTRANT   -D_LARGEFILE_SOURCE   -D__STDC_CONSTANT_MACROS   -D__STDC_FORMAT_MACROS   -D__LONG_LONG_SUPPORTED  -DLIBCXX_BUILDING_LIBCXXRT -D_FILE_OFFSET_BITS=64  -m64    -msse2     -msse3     -mssse3         -msse4.1       -msse4.2       -mpopcnt      -mcx16     -DSSE_ENABLED=1     -DSSE3_ENABLED=1     -DSSSE3_ENABLED=1         -DSSE41_ENABLED=1       -DSSE42_ENABLED=1       -DPOPCNT_ENABLED=1      -DCX16_ENABLED=1 -O3 -DNDEBUG -isysroot /Library/Developer/CommandLineTools/SDKs/MacOSX12.1.sdk -mmacosx-version-min=11.0 -fPIC -Wno-everything -MD -MT contrib/libs/cxxsupp/builtins/CMakeFiles/libs-cxxsupp-builtins.dir/addtf3.c.o -MF contrib/libs/cxxsupp/builtins/CMakeFiles/libs-cxxsupp-builtins.dir/addtf3.c.o.d -o contrib/libs/cxxsupp/builtins/CMakeFiles/libs-cxxsupp-builtins.dir/addtf3.c.o -c /private/var/folders/0t/d3pxkghn5d920blj72_db9mr0000gn/T/pip-install-yc98cc5v/catboost_2090f1ce70344f2bb47bbf567a5d5b4a/catboost_all_src/contrib/libs/cxxsupp/builtins/addtf3.c\n",
      "  \u001b[31m   \u001b[0m [5/3724] /usr/bin/clang -DCATBOOST_OPENSOURCE=yes -I/private/var/folders/0t/d3pxkghn5d920blj72_db9mr0000gn/T/pip-install-yc98cc5v/catboost_2090f1ce70344f2bb47bbf567a5d5b4a/catboost_all_src -I/private/var/folders/0t/d3pxkghn5d920blj72_db9mr0000gn/T/pip-install-yc98cc5v/catboost_2090f1ce70344f2bb47bbf567a5d5b4a/build/temp.macosx-10.9-x86_64-cpython-311 -I/private/var/folders/0t/d3pxkghn5d920blj72_db9mr0000gn/T/pip-install-yc98cc5v/catboost_2090f1ce70344f2bb47bbf567a5d5b4a/catboost_all_src/contrib/libs/libunwind/include -I/private/var/folders/0t/d3pxkghn5d920blj72_db9mr0000gn/T/pip-install-yc98cc5v/catboost_2090f1ce70344f2bb47bbf567a5d5b4a/catboost_all_src/contrib/libs/clang16-rt/include -fexceptions   -fno-common   -fcolor-diagnostics   -faligned-allocation   -fdebug-default-version=4   -ffunction-sections   -fdata-sections   -Wall   -Wextra   -Wno-parentheses   -Wno-implicit-const-int-float-conversion   -Wno-unknown-warning-option   -pipe   -D_THREAD_SAFE   -D_PTHREADS   -D_REENTRANT   -D_LARGEFILE_SOURCE   -D__STDC_CONSTANT_MACROS   -D__STDC_FORMAT_MACROS   -D__LONG_LONG_SUPPORTED  -DLIBCXX_BUILDING_LIBCXXRT -D_FILE_OFFSET_BITS=64  -m64    -msse2     -msse3     -mssse3         -msse4.1       -msse4.2       -mpopcnt      -mcx16     -DSSE_ENABLED=1     -DSSE3_ENABLED=1     -DSSSE3_ENABLED=1         -DSSE41_ENABLED=1       -DSSE42_ENABLED=1       -DPOPCNT_ENABLED=1      -DCX16_ENABLED=1 -O3 -DNDEBUG -isysroot /Library/Developer/CommandLineTools/SDKs/MacOSX12.1.sdk -mmacosx-version-min=11.0 -fPIC -D_libunwind_ -fno-exceptions -fno-rtti -funwind-tables -D_LIBUNWIND_IS_NATIVE_ONLY -MD -MT contrib/libs/libunwind/CMakeFiles/contrib-libs-libunwind.dir/src/Unwind-wasm.c.o -MF contrib/libs/libunwind/CMakeFiles/contrib-libs-libunwind.dir/src/Unwind-wasm.c.o.d -o contrib/libs/libunwind/CMakeFiles/contrib-libs-libunwind.dir/src/Unwind-wasm.c.o -c /private/var/folders/0t/d3pxkghn5d920blj72_db9mr0000gn/T/pip-install-yc98cc5v/catboost_2090f1ce70344f2bb47bbf567a5d5b4a/catboost_all_src/contrib/libs/libunwind/src/Unwind-wasm.c\n",
      "  \u001b[31m   \u001b[0m [6/3724] /usr/bin/clang -DCATBOOST_OPENSOURCE=yes -I/private/var/folders/0t/d3pxkghn5d920blj72_db9mr0000gn/T/pip-install-yc98cc5v/catboost_2090f1ce70344f2bb47bbf567a5d5b4a/catboost_all_src -I/private/var/folders/0t/d3pxkghn5d920blj72_db9mr0000gn/T/pip-install-yc98cc5v/catboost_2090f1ce70344f2bb47bbf567a5d5b4a/build/temp.macosx-10.9-x86_64-cpython-311 -I/private/var/folders/0t/d3pxkghn5d920blj72_db9mr0000gn/T/pip-install-yc98cc5v/catboost_2090f1ce70344f2bb47bbf567a5d5b4a/catboost_all_src/contrib/libs/libunwind/include -I/private/var/folders/0t/d3pxkghn5d920blj72_db9mr0000gn/T/pip-install-yc98cc5v/catboost_2090f1ce70344f2bb47bbf567a5d5b4a/catboost_all_src/contrib/libs/clang16-rt/include -fexceptions   -fno-common   -fcolor-diagnostics   -faligned-allocation   -fdebug-default-version=4   -ffunction-sections   -fdata-sections   -Wall   -Wextra   -Wno-parentheses   -Wno-implicit-const-int-float-conversion   -Wno-unknown-warning-option   -pipe   -D_THREAD_SAFE   -D_PTHREADS   -D_REENTRANT   -D_LARGEFILE_SOURCE   -D__STDC_CONSTANT_MACROS   -D__STDC_FORMAT_MACROS   -D__LONG_LONG_SUPPORTED  -DLIBCXX_BUILDING_LIBCXXRT -D_FILE_OFFSET_BITS=64  -m64    -msse2     -msse3     -mssse3         -msse4.1       -msse4.2       -mpopcnt      -mcx16     -DSSE_ENABLED=1     -DSSE3_ENABLED=1     -DSSSE3_ENABLED=1         -DSSE41_ENABLED=1       -DSSE42_ENABLED=1       -DPOPCNT_ENABLED=1      -DCX16_ENABLED=1 -O3 -DNDEBUG -isysroot /Library/Developer/CommandLineTools/SDKs/MacOSX12.1.sdk -mmacosx-version-min=11.0 -fPIC -D_libunwind_ -fno-exceptions -fno-rtti -funwind-tables -D_LIBUNWIND_IS_NATIVE_ONLY -MD -MT contrib/libs/libunwind/CMakeFiles/contrib-libs-libunwind.dir/src/Unwind-sjlj.c.o -MF contrib/libs/libunwind/CMakeFiles/contrib-libs-libunwind.dir/src/Unwind-sjlj.c.o.d -o contrib/libs/libunwind/CMakeFiles/contrib-libs-libunwind.dir/src/Unwind-sjlj.c.o -c /private/var/folders/0t/d3pxkghn5d920blj72_db9mr0000gn/T/pip-install-yc98cc5v/catboost_2090f1ce70344f2bb47bbf567a5d5b4a/catboost_all_src/contrib/libs/libunwind/src/Unwind-sjlj.c\n",
      "  \u001b[31m   \u001b[0m [7/3724] /usr/bin/clang++ -DCATBOOST_OPENSOURCE=yes -I/private/var/folders/0t/d3pxkghn5d920blj72_db9mr0000gn/T/pip-install-yc98cc5v/catboost_2090f1ce70344f2bb47bbf567a5d5b4a/catboost_all_src -I/private/var/folders/0t/d3pxkghn5d920blj72_db9mr0000gn/T/pip-install-yc98cc5v/catboost_2090f1ce70344f2bb47bbf567a5d5b4a/build/temp.macosx-10.9-x86_64-cpython-311 -I/private/var/folders/0t/d3pxkghn5d920blj72_db9mr0000gn/T/pip-install-yc98cc5v/catboost_2090f1ce70344f2bb47bbf567a5d5b4a/catboost_all_src/contrib/libs/libunwind/include -I/private/var/folders/0t/d3pxkghn5d920blj72_db9mr0000gn/T/pip-install-yc98cc5v/catboost_2090f1ce70344f2bb47bbf567a5d5b4a/catboost_all_src/contrib/libs/clang16-rt/include -fexceptions   -fno-common   -fcolor-diagnostics   -faligned-allocation   -fdebug-default-version=4   -ffunction-sections   -fdata-sections   -Wall   -Wextra   -Wno-parentheses   -Wno-implicit-const-int-float-conversion   -Wno-unknown-warning-option   -pipe   -D_THREAD_SAFE   -D_PTHREADS   -D_REENTRANT   -D_LARGEFILE_SOURCE   -D__STDC_CONSTANT_MACROS   -D__STDC_FORMAT_MACROS   -D__LONG_LONG_SUPPORTED  -DLIBCXX_BUILDING_LIBCXXRT -D_FILE_OFFSET_BITS=64  -m64    -msse2     -msse3     -mssse3         -msse4.1       -msse4.2       -mpopcnt      -mcx16   -Woverloaded-virtual   -Wimport-preprocessor-directive-pedantic   -Wno-undefined-var-template   -Wno-return-std-move   -Wno-defaulted-function-deleted   -Wno-pessimizing-move   -Wno-deprecated-anon-enum-enum-conversion   -Wno-deprecated-enum-enum-conversion   -Wno-deprecated-enum-float-conversion   -Wno-ambiguous-reversed-operator   -Wno-deprecated-volatile      -DSSE_ENABLED=1     -DSSE3_ENABLED=1     -DSSSE3_ENABLED=1         -DSSE41_ENABLED=1       -DSSE42_ENABLED=1       -DPOPCNT_ENABLED=1      -DCX16_ENABLED=1 -O3 -DNDEBUG -std=c++20 -isysroot /Library/Developer/CommandLineTools/SDKs/MacOSX12.1.sdk -mmacosx-version-min=11.0 -fPIC -D_libunwind_ -fno-exceptions -fno-rtti -funwind-tables -D_LIBUNWIND_IS_NATIVE_ONLY -MD -MT contrib/libs/libunwind/CMakeFiles/contrib-libs-libunwind.dir/src/Unwind-seh.cpp.o -MF contrib/libs/libunwind/CMakeFiles/contrib-libs-libunwind.dir/src/Unwind-seh.cpp.o.d -o contrib/libs/libunwind/CMakeFiles/contrib-libs-libunwind.dir/src/Unwind-seh.cpp.o -c /private/var/folders/0t/d3pxkghn5d920blj72_db9mr0000gn/T/pip-install-yc98cc5v/catboost_2090f1ce70344f2bb47bbf567a5d5b4a/catboost_all_src/contrib/libs/libunwind/src/Unwind-seh.cpp\n",
      "  \u001b[31m   \u001b[0m [8/3724] /usr/bin/clang -DCATBOOST_OPENSOURCE=yes -I/private/var/folders/0t/d3pxkghn5d920blj72_db9mr0000gn/T/pip-install-yc98cc5v/catboost_2090f1ce70344f2bb47bbf567a5d5b4a/catboost_all_src -I/private/var/folders/0t/d3pxkghn5d920blj72_db9mr0000gn/T/pip-install-yc98cc5v/catboost_2090f1ce70344f2bb47bbf567a5d5b4a/build/temp.macosx-10.9-x86_64-cpython-311 -fexceptions   -fno-common   -fcolor-diagnostics   -faligned-allocation   -fdebug-default-version=4   -ffunction-sections   -fdata-sections   -Wall   -Wextra   -Wno-parentheses   -Wno-implicit-const-int-float-conversion   -Wno-unknown-warning-option   -pipe   -D_THREAD_SAFE   -D_PTHREADS   -D_REENTRANT   -D_LARGEFILE_SOURCE   -D__STDC_CONSTANT_MACROS   -D__STDC_FORMAT_MACROS   -D__LONG_LONG_SUPPORTED  -DLIBCXX_BUILDING_LIBCXXRT -D_FILE_OFFSET_BITS=64  -m64    -msse2     -msse3     -mssse3         -msse4.1       -msse4.2       -mpopcnt      -mcx16     -DSSE_ENABLED=1     -DSSE3_ENABLED=1     -DSSSE3_ENABLED=1         -DSSE41_ENABLED=1       -DSSE42_ENABLED=1       -DPOPCNT_ENABLED=1      -DCX16_ENABLED=1 -O3 -DNDEBUG -isysroot /Library/Developer/CommandLineTools/SDKs/MacOSX12.1.sdk -mmacosx-version-min=11.0 -fPIC -Wno-everything -MD -MT contrib/libs/cxxsupp/builtins/CMakeFiles/libs-cxxsupp-builtins.dir/comparetf2.c.o -MF contrib/libs/cxxsupp/builtins/CMakeFiles/libs-cxxsupp-builtins.dir/comparetf2.c.o.d -o contrib/libs/cxxsupp/builtins/CMakeFiles/libs-cxxsupp-builtins.dir/comparetf2.c.o -c /private/var/folders/0t/d3pxkghn5d920blj72_db9mr0000gn/T/pip-install-yc98cc5v/catboost_2090f1ce70344f2bb47bbf567a5d5b4a/catboost_all_src/contrib/libs/cxxsupp/builtins/comparetf2.c\n",
      "  \u001b[31m   \u001b[0m [9/3724] /usr/bin/clang -DCATBOOST_OPENSOURCE=yes -I/private/var/folders/0t/d3pxkghn5d920blj72_db9mr0000gn/T/pip-install-yc98cc5v/catboost_2090f1ce70344f2bb47bbf567a5d5b4a/catboost_all_src -I/private/var/folders/0t/d3pxkghn5d920blj72_db9mr0000gn/T/pip-install-yc98cc5v/catboost_2090f1ce70344f2bb47bbf567a5d5b4a/build/temp.macosx-10.9-x86_64-cpython-311 -fexceptions   -fno-common   -fcolor-diagnostics   -faligned-allocation   -fdebug-default-version=4   -ffunction-sections   -fdata-sections   -Wall   -Wextra   -Wno-parentheses   -Wno-implicit-const-int-float-conversion   -Wno-unknown-warning-option   -pipe   -D_THREAD_SAFE   -D_PTHREADS   -D_REENTRANT   -D_LARGEFILE_SOURCE   -D__STDC_CONSTANT_MACROS   -D__STDC_FORMAT_MACROS   -D__LONG_LONG_SUPPORTED  -DLIBCXX_BUILDING_LIBCXXRT -D_FILE_OFFSET_BITS=64  -m64    -msse2     -msse3     -mssse3         -msse4.1       -msse4.2       -mpopcnt      -mcx16     -DSSE_ENABLED=1     -DSSE3_ENABLED=1     -DSSSE3_ENABLED=1         -DSSE41_ENABLED=1       -DSSE42_ENABLED=1       -DPOPCNT_ENABLED=1      -DCX16_ENABLED=1 -O3 -DNDEBUG -isysroot /Library/Developer/CommandLineTools/SDKs/MacOSX12.1.sdk -mmacosx-version-min=11.0 -fPIC -Wno-everything -MD -MT contrib/libs/cxxsupp/builtins/CMakeFiles/libs-cxxsupp-builtins.dir/clzti2.c.o -MF contrib/libs/cxxsupp/builtins/CMakeFiles/libs-cxxsupp-builtins.dir/clzti2.c.o.d -o contrib/libs/cxxsupp/builtins/CMakeFiles/libs-cxxsupp-builtins.dir/clzti2.c.o -c /private/var/folders/0t/d3pxkghn5d920blj72_db9mr0000gn/T/pip-install-yc98cc5v/catboost_2090f1ce70344f2bb47bbf567a5d5b4a/catboost_all_src/contrib/libs/cxxsupp/builtins/clzti2.c\n",
      "  \u001b[31m   \u001b[0m [10/3724] /usr/bin/clang -DCATBOOST_OPENSOURCE=yes -I/private/var/folders/0t/d3pxkghn5d920blj72_db9mr0000gn/T/pip-install-yc98cc5v/catboost_2090f1ce70344f2bb47bbf567a5d5b4a/catboost_all_src -I/private/var/folders/0t/d3pxkghn5d920blj72_db9mr0000gn/T/pip-install-yc98cc5v/catboost_2090f1ce70344f2bb47bbf567a5d5b4a/build/temp.macosx-10.9-x86_64-cpython-311 -fexceptions   -fno-common   -fcolor-diagnostics   -faligned-allocation   -fdebug-default-version=4   -ffunction-sections   -fdata-sections   -Wall   -Wextra   -Wno-parentheses   -Wno-implicit-const-int-float-conversion   -Wno-unknown-warning-option   -pipe   -D_THREAD_SAFE   -D_PTHREADS   -D_REENTRANT   -D_LARGEFILE_SOURCE   -D__STDC_CONSTANT_MACROS   -D__STDC_FORMAT_MACROS   -D__LONG_LONG_SUPPORTED  -DLIBCXX_BUILDING_LIBCXXRT -D_FILE_OFFSET_BITS=64  -m64    -msse2     -msse3     -mssse3         -msse4.1       -msse4.2       -mpopcnt      -mcx16     -DSSE_ENABLED=1     -DSSE3_ENABLED=1     -DSSSE3_ENABLED=1         -DSSE41_ENABLED=1       -DSSE42_ENABLED=1       -DPOPCNT_ENABLED=1      -DCX16_ENABLED=1 -O3 -DNDEBUG -isysroot /Library/Developer/CommandLineTools/SDKs/MacOSX12.1.sdk -mmacosx-version-min=11.0 -fPIC -Wno-everything -MD -MT contrib/libs/cxxsupp/builtins/CMakeFiles/libs-cxxsupp-builtins.dir/ashlti3.c.o -MF contrib/libs/cxxsupp/builtins/CMakeFiles/libs-cxxsupp-builtins.dir/ashlti3.c.o.d -o contrib/libs/cxxsupp/builtins/CMakeFiles/libs-cxxsupp-builtins.dir/ashlti3.c.o -c /private/var/folders/0t/d3pxkghn5d920blj72_db9mr0000gn/T/pip-install-yc98cc5v/catboost_2090f1ce70344f2bb47bbf567a5d5b4a/catboost_all_src/contrib/libs/cxxsupp/builtins/ashlti3.c\n",
      "  \u001b[31m   \u001b[0m [11/3724] /usr/bin/clang -DCATBOOST_OPENSOURCE=yes -I/private/var/folders/0t/d3pxkghn5d920blj72_db9mr0000gn/T/pip-install-yc98cc5v/catboost_2090f1ce70344f2bb47bbf567a5d5b4a/catboost_all_src -I/private/var/folders/0t/d3pxkghn5d920blj72_db9mr0000gn/T/pip-install-yc98cc5v/catboost_2090f1ce70344f2bb47bbf567a5d5b4a/build/temp.macosx-10.9-x86_64-cpython-311 -fexceptions   -fno-common   -fcolor-diagnostics   -faligned-allocation   -fdebug-default-version=4   -ffunction-sections   -fdata-sections   -Wall   -Wextra   -Wno-parentheses   -Wno-implicit-const-int-float-conversion   -Wno-unknown-warning-option   -pipe   -D_THREAD_SAFE   -D_PTHREADS   -D_REENTRANT   -D_LARGEFILE_SOURCE   -D__STDC_CONSTANT_MACROS   -D__STDC_FORMAT_MACROS   -D__LONG_LONG_SUPPORTED  -DLIBCXX_BUILDING_LIBCXXRT -D_FILE_OFFSET_BITS=64  -m64    -msse2     -msse3     -mssse3         -msse4.1       -msse4.2       -mpopcnt      -mcx16     -DSSE_ENABLED=1     -DSSE3_ENABLED=1     -DSSSE3_ENABLED=1         -DSSE41_ENABLED=1       -DSSE42_ENABLED=1       -DPOPCNT_ENABLED=1      -DCX16_ENABLED=1 -O3 -DNDEBUG -isysroot /Library/Developer/CommandLineTools/SDKs/MacOSX12.1.sdk -mmacosx-version-min=11.0 -fPIC -Wno-everything -MD -MT contrib/libs/cxxsupp/builtins/CMakeFiles/libs-cxxsupp-builtins.dir/divtf3.c.o -MF contrib/libs/cxxsupp/builtins/CMakeFiles/libs-cxxsupp-builtins.dir/divtf3.c.o.d -o contrib/libs/cxxsupp/builtins/CMakeFiles/libs-cxxsupp-builtins.dir/divtf3.c.o -c /private/var/folders/0t/d3pxkghn5d920blj72_db9mr0000gn/T/pip-install-yc98cc5v/catboost_2090f1ce70344f2bb47bbf567a5d5b4a/catboost_all_src/contrib/libs/cxxsupp/builtins/divtf3.c\n",
      "  \u001b[31m   \u001b[0m [12/3724] /usr/bin/clang -DCATBOOST_OPENSOURCE=yes -I/private/var/folders/0t/d3pxkghn5d920blj72_db9mr0000gn/T/pip-install-yc98cc5v/catboost_2090f1ce70344f2bb47bbf567a5d5b4a/catboost_all_src -I/private/var/folders/0t/d3pxkghn5d920blj72_db9mr0000gn/T/pip-install-yc98cc5v/catboost_2090f1ce70344f2bb47bbf567a5d5b4a/build/temp.macosx-10.9-x86_64-cpython-311 -I/private/var/folders/0t/d3pxkghn5d920blj72_db9mr0000gn/T/pip-install-yc98cc5v/catboost_2090f1ce70344f2bb47bbf567a5d5b4a/catboost_all_src/contrib/libs/libunwind/include -I/private/var/folders/0t/d3pxkghn5d920blj72_db9mr0000gn/T/pip-install-yc98cc5v/catboost_2090f1ce70344f2bb47bbf567a5d5b4a/catboost_all_src/contrib/libs/clang16-rt/include -fexceptions   -fno-common   -fcolor-diagnostics   -faligned-allocation   -fdebug-default-version=4   -ffunction-sections   -fdata-sections   -Wall   -Wextra   -Wno-parentheses   -Wno-implicit-const-int-float-conversion   -Wno-unknown-warning-option   -pipe   -D_THREAD_SAFE   -D_PTHREADS   -D_REENTRANT   -D_LARGEFILE_SOURCE   -D__STDC_CONSTANT_MACROS   -D__STDC_FORMAT_MACROS   -D__LONG_LONG_SUPPORTED  -DLIBCXX_BUILDING_LIBCXXRT -D_FILE_OFFSET_BITS=64  -m64    -msse2     -msse3     -mssse3         -msse4.1       -msse4.2       -mpopcnt      -mcx16     -DSSE_ENABLED=1     -DSSE3_ENABLED=1     -DSSSE3_ENABLED=1         -DSSE41_ENABLED=1       -DSSE42_ENABLED=1       -DPOPCNT_ENABLED=1      -DCX16_ENABLED=1 -O3 -DNDEBUG -isysroot /Library/Developer/CommandLineTools/SDKs/MacOSX12.1.sdk -mmacosx-version-min=11.0 -fPIC -D_libunwind_ -fno-exceptions -fno-rtti -funwind-tables -D_LIBUNWIND_IS_NATIVE_ONLY -MD -MT contrib/libs/libunwind/CMakeFiles/contrib-libs-libunwind.dir/src/UnwindLevel1-gcc-ext.c.o -MF contrib/libs/libunwind/CMakeFiles/contrib-libs-libunwind.dir/src/UnwindLevel1-gcc-ext.c.o.d -o contrib/libs/libunwind/CMakeFiles/contrib-libs-libunwind.dir/src/UnwindLevel1-gcc-ext.c.o -c /private/var/folders/0t/d3pxkghn5d920blj72_db9mr0000gn/T/pip-install-yc98cc5v/catboost_2090f1ce70344f2bb47bbf567a5d5b4a/catboost_all_src/contrib/libs/libunwind/src/UnwindLevel1-gcc-ext.c\n",
      "  \u001b[31m   \u001b[0m [13/3724] /usr/bin/clang -DCATBOOST_OPENSOURCE=yes -I/private/var/folders/0t/d3pxkghn5d920blj72_db9mr0000gn/T/pip-install-yc98cc5v/catboost_2090f1ce70344f2bb47bbf567a5d5b4a/catboost_all_src -I/private/var/folders/0t/d3pxkghn5d920blj72_db9mr0000gn/T/pip-install-yc98cc5v/catboost_2090f1ce70344f2bb47bbf567a5d5b4a/build/temp.macosx-10.9-x86_64-cpython-311 -fexceptions   -fno-common   -fcolor-diagnostics   -faligned-allocation   -fdebug-default-version=4   -ffunction-sections   -fdata-sections   -Wall   -Wextra   -Wno-parentheses   -Wno-implicit-const-int-float-conversion   -Wno-unknown-warning-option   -pipe   -D_THREAD_SAFE   -D_PTHREADS   -D_REENTRANT   -D_LARGEFILE_SOURCE   -D__STDC_CONSTANT_MACROS   -D__STDC_FORMAT_MACROS   -D__LONG_LONG_SUPPORTED  -DLIBCXX_BUILDING_LIBCXXRT -D_FILE_OFFSET_BITS=64  -m64    -msse2     -msse3     -mssse3         -msse4.1       -msse4.2       -mpopcnt      -mcx16     -DSSE_ENABLED=1     -DSSE3_ENABLED=1     -DSSSE3_ENABLED=1         -DSSE41_ENABLED=1       -DSSE42_ENABLED=1       -DPOPCNT_ENABLED=1      -DCX16_ENABLED=1 -O3 -DNDEBUG -isysroot /Library/Developer/CommandLineTools/SDKs/MacOSX12.1.sdk -mmacosx-version-min=11.0 -fPIC -Wno-everything -MD -MT contrib/libs/cxxsupp/builtins/CMakeFiles/libs-cxxsupp-builtins.dir/divti3.c.o -MF contrib/libs/cxxsupp/builtins/CMakeFiles/libs-cxxsupp-builtins.dir/divti3.c.o.d -o contrib/libs/cxxsupp/builtins/CMakeFiles/libs-cxxsupp-builtins.dir/divti3.c.o -c /private/var/folders/0t/d3pxkghn5d920blj72_db9mr0000gn/T/pip-install-yc98cc5v/catboost_2090f1ce70344f2bb47bbf567a5d5b4a/catboost_all_src/contrib/libs/cxxsupp/builtins/divti3.c\n",
      "  \u001b[31m   \u001b[0m [14/3724] /usr/bin/clang -DCATBOOST_OPENSOURCE=yes -I/private/var/folders/0t/d3pxkghn5d920blj72_db9mr0000gn/T/pip-install-yc98cc5v/catboost_2090f1ce70344f2bb47bbf567a5d5b4a/catboost_all_src -I/private/var/folders/0t/d3pxkghn5d920blj72_db9mr0000gn/T/pip-install-yc98cc5v/catboost_2090f1ce70344f2bb47bbf567a5d5b4a/build/temp.macosx-10.9-x86_64-cpython-311 -fexceptions   -fno-common   -fcolor-diagnostics   -faligned-allocation   -fdebug-default-version=4   -ffunction-sections   -fdata-sections   -Wall   -Wextra   -Wno-parentheses   -Wno-implicit-const-int-float-conversion   -Wno-unknown-warning-option   -pipe   -D_THREAD_SAFE   -D_PTHREADS   -D_REENTRANT   -D_LARGEFILE_SOURCE   -D__STDC_CONSTANT_MACROS   -D__STDC_FORMAT_MACROS   -D__LONG_LONG_SUPPORTED  -DLIBCXX_BUILDING_LIBCXXRT -D_FILE_OFFSET_BITS=64  -m64    -msse2     -msse3     -mssse3         -msse4.1       -msse4.2       -mpopcnt      -mcx16     -DSSE_ENABLED=1     -DSSE3_ENABLED=1     -DSSSE3_ENABLED=1         -DSSE41_ENABLED=1       -DSSE42_ENABLED=1       -DPOPCNT_ENABLED=1      -DCX16_ENABLED=1 -O3 -DNDEBUG -isysroot /Library/Developer/CommandLineTools/SDKs/MacOSX12.1.sdk -mmacosx-version-min=11.0 -fPIC -Wno-everything -MD -MT contrib/libs/cxxsupp/builtins/CMakeFiles/libs-cxxsupp-builtins.dir/divdc3.c.o -MF contrib/libs/cxxsupp/builtins/CMakeFiles/libs-cxxsupp-builtins.dir/divdc3.c.o.d -o contrib/libs/cxxsupp/builtins/CMakeFiles/libs-cxxsupp-builtins.dir/divdc3.c.o -c /private/var/folders/0t/d3pxkghn5d920blj72_db9mr0000gn/T/pip-install-yc98cc5v/catboost_2090f1ce70344f2bb47bbf567a5d5b4a/catboost_all_src/contrib/libs/cxxsupp/builtins/divdc3.c\n",
      "  \u001b[31m   \u001b[0m [15/3724] /usr/bin/clang -DCATBOOST_OPENSOURCE=yes -I/private/var/folders/0t/d3pxkghn5d920blj72_db9mr0000gn/T/pip-install-yc98cc5v/catboost_2090f1ce70344f2bb47bbf567a5d5b4a/catboost_all_src -I/private/var/folders/0t/d3pxkghn5d920blj72_db9mr0000gn/T/pip-install-yc98cc5v/catboost_2090f1ce70344f2bb47bbf567a5d5b4a/build/temp.macosx-10.9-x86_64-cpython-311 -fexceptions   -fno-common   -fcolor-diagnostics   -faligned-allocation   -fdebug-default-version=4   -ffunction-sections   -fdata-sections   -Wall   -Wextra   -Wno-parentheses   -Wno-implicit-const-int-float-conversion   -Wno-unknown-warning-option   -pipe   -D_THREAD_SAFE   -D_PTHREADS   -D_REENTRANT   -D_LARGEFILE_SOURCE   -D__STDC_CONSTANT_MACROS   -D__STDC_FORMAT_MACROS   -D__LONG_LONG_SUPPORTED  -DLIBCXX_BUILDING_LIBCXXRT -D_FILE_OFFSET_BITS=64  -m64    -msse2     -msse3     -mssse3         -msse4.1       -msse4.2       -mpopcnt      -mcx16     -DSSE_ENABLED=1     -DSSE3_ENABLED=1     -DSSSE3_ENABLED=1         -DSSE41_ENABLED=1       -DSSE42_ENABLED=1       -DPOPCNT_ENABLED=1      -DCX16_ENABLED=1 -O3 -DNDEBUG -isysroot /Library/Developer/CommandLineTools/SDKs/MacOSX12.1.sdk -mmacosx-version-min=11.0 -fPIC -Wno-everything -MD -MT contrib/libs/cxxsupp/builtins/CMakeFiles/libs-cxxsupp-builtins.dir/divsc3.c.o -MF contrib/libs/cxxsupp/builtins/CMakeFiles/libs-cxxsupp-builtins.dir/divsc3.c.o.d -o contrib/libs/cxxsupp/builtins/CMakeFiles/libs-cxxsupp-builtins.dir/divsc3.c.o -c /private/var/folders/0t/d3pxkghn5d920blj72_db9mr0000gn/T/pip-install-yc98cc5v/catboost_2090f1ce70344f2bb47bbf567a5d5b4a/catboost_all_src/contrib/libs/cxxsupp/builtins/divsc3.c\n",
      "  \u001b[31m   \u001b[0m [16/3724] /usr/bin/clang -DCATBOOST_OPENSOURCE=yes -I/private/var/folders/0t/d3pxkghn5d920blj72_db9mr0000gn/T/pip-install-yc98cc5v/catboost_2090f1ce70344f2bb47bbf567a5d5b4a/catboost_all_src -I/private/var/folders/0t/d3pxkghn5d920blj72_db9mr0000gn/T/pip-install-yc98cc5v/catboost_2090f1ce70344f2bb47bbf567a5d5b4a/build/temp.macosx-10.9-x86_64-cpython-311 -fexceptions   -fno-common   -fcolor-diagnostics   -faligned-allocation   -fdebug-default-version=4   -ffunction-sections   -fdata-sections   -Wall   -Wextra   -Wno-parentheses   -Wno-implicit-const-int-float-conversion   -Wno-unknown-warning-option   -pipe   -D_THREAD_SAFE   -D_PTHREADS   -D_REENTRANT   -D_LARGEFILE_SOURCE   -D__STDC_CONSTANT_MACROS   -D__STDC_FORMAT_MACROS   -D__LONG_LONG_SUPPORTED  -DLIBCXX_BUILDING_LIBCXXRT -D_FILE_OFFSET_BITS=64  -m64    -msse2     -msse3     -mssse3         -msse4.1       -msse4.2       -mpopcnt      -mcx16     -DSSE_ENABLED=1     -DSSE3_ENABLED=1     -DSSSE3_ENABLED=1         -DSSE41_ENABLED=1       -DSSE42_ENABLED=1       -DPOPCNT_ENABLED=1      -DCX16_ENABLED=1 -O3 -DNDEBUG -isysroot /Library/Developer/CommandLineTools/SDKs/MacOSX12.1.sdk -mmacosx-version-min=11.0 -fPIC -Wno-everything -MD -MT contrib/libs/cxxsupp/builtins/CMakeFiles/libs-cxxsupp-builtins.dir/extenddftf2.c.o -MF contrib/libs/cxxsupp/builtins/CMakeFiles/libs-cxxsupp-builtins.dir/extenddftf2.c.o.d -o contrib/libs/cxxsupp/builtins/CMakeFiles/libs-cxxsupp-builtins.dir/extenddftf2.c.o -c /private/var/folders/0t/d3pxkghn5d920blj72_db9mr0000gn/T/pip-install-yc98cc5v/catboost_2090f1ce70344f2bb47bbf567a5d5b4a/catboost_all_src/contrib/libs/cxxsupp/builtins/extenddftf2.c\n",
      "  \u001b[31m   \u001b[0m [17/3724] /usr/bin/clang -DCATBOOST_OPENSOURCE=yes -I/private/var/folders/0t/d3pxkghn5d920blj72_db9mr0000gn/T/pip-install-yc98cc5v/catboost_2090f1ce70344f2bb47bbf567a5d5b4a/catboost_all_src -I/private/var/folders/0t/d3pxkghn5d920blj72_db9mr0000gn/T/pip-install-yc98cc5v/catboost_2090f1ce70344f2bb47bbf567a5d5b4a/build/temp.macosx-10.9-x86_64-cpython-311 -fexceptions   -fno-common   -fcolor-diagnostics   -faligned-allocation   -fdebug-default-version=4   -ffunction-sections   -fdata-sections   -Wall   -Wextra   -Wno-parentheses   -Wno-implicit-const-int-float-conversion   -Wno-unknown-warning-option   -pipe   -D_THREAD_SAFE   -D_PTHREADS   -D_REENTRANT   -D_LARGEFILE_SOURCE   -D__STDC_CONSTANT_MACROS   -D__STDC_FORMAT_MACROS   -D__LONG_LONG_SUPPORTED  -DLIBCXX_BUILDING_LIBCXXRT -D_FILE_OFFSET_BITS=64  -m64    -msse2     -msse3     -mssse3         -msse4.1       -msse4.2       -mpopcnt      -mcx16     -DSSE_ENABLED=1     -DSSE3_ENABLED=1     -DSSSE3_ENABLED=1         -DSSE41_ENABLED=1       -DSSE42_ENABLED=1       -DPOPCNT_ENABLED=1      -DCX16_ENABLED=1 -O3 -DNDEBUG -isysroot /Library/Developer/CommandLineTools/SDKs/MacOSX12.1.sdk -mmacosx-version-min=11.0 -fPIC -Wno-everything -MD -MT contrib/libs/cxxsupp/builtins/CMakeFiles/libs-cxxsupp-builtins.dir/extendsftf2.c.o -MF contrib/libs/cxxsupp/builtins/CMakeFiles/libs-cxxsupp-builtins.dir/extendsftf2.c.o.d -o contrib/libs/cxxsupp/builtins/CMakeFiles/libs-cxxsupp-builtins.dir/extendsftf2.c.o -c /private/var/folders/0t/d3pxkghn5d920blj72_db9mr0000gn/T/pip-install-yc98cc5v/catboost_2090f1ce70344f2bb47bbf567a5d5b4a/catboost_all_src/contrib/libs/cxxsupp/builtins/extendsftf2.c\n",
      "  \u001b[31m   \u001b[0m [18/3724] /usr/bin/clang -DCATBOOST_OPENSOURCE=yes -I/private/var/folders/0t/d3pxkghn5d920blj72_db9mr0000gn/T/pip-install-yc98cc5v/catboost_2090f1ce70344f2bb47bbf567a5d5b4a/catboost_all_src -I/private/var/folders/0t/d3pxkghn5d920blj72_db9mr0000gn/T/pip-install-yc98cc5v/catboost_2090f1ce70344f2bb47bbf567a5d5b4a/build/temp.macosx-10.9-x86_64-cpython-311 -fexceptions   -fno-common   -fcolor-diagnostics   -faligned-allocation   -fdebug-default-version=4   -ffunction-sections   -fdata-sections   -Wall   -Wextra   -Wno-parentheses   -Wno-implicit-const-int-float-conversion   -Wno-unknown-warning-option   -pipe   -D_THREAD_SAFE   -D_PTHREADS   -D_REENTRANT   -D_LARGEFILE_SOURCE   -D__STDC_CONSTANT_MACROS   -D__STDC_FORMAT_MACROS   -D__LONG_LONG_SUPPORTED  -DLIBCXX_BUILDING_LIBCXXRT -D_FILE_OFFSET_BITS=64  -m64    -msse2     -msse3     -mssse3         -msse4.1       -msse4.2       -mpopcnt      -mcx16     -DSSE_ENABLED=1     -DSSE3_ENABLED=1     -DSSSE3_ENABLED=1         -DSSE41_ENABLED=1       -DSSE42_ENABLED=1       -DPOPCNT_ENABLED=1      -DCX16_ENABLED=1 -O3 -DNDEBUG -isysroot /Library/Developer/CommandLineTools/SDKs/MacOSX12.1.sdk -mmacosx-version-min=11.0 -fPIC -Wno-everything -MD -MT contrib/libs/cxxsupp/builtins/CMakeFiles/libs-cxxsupp-builtins.dir/divxc3.c.o -MF contrib/libs/cxxsupp/builtins/CMakeFiles/libs-cxxsupp-builtins.dir/divxc3.c.o.d -o contrib/libs/cxxsupp/builtins/CMakeFiles/libs-cxxsupp-builtins.dir/divxc3.c.o -c /private/var/folders/0t/d3pxkghn5d920blj72_db9mr0000gn/T/pip-install-yc98cc5v/catboost_2090f1ce70344f2bb47bbf567a5d5b4a/catboost_all_src/contrib/libs/cxxsupp/builtins/divxc3.c\n",
      "  \u001b[31m   \u001b[0m [19/3724] /usr/bin/clang -DCATBOOST_OPENSOURCE=yes -I/private/var/folders/0t/d3pxkghn5d920blj72_db9mr0000gn/T/pip-install-yc98cc5v/catboost_2090f1ce70344f2bb47bbf567a5d5b4a/catboost_all_src -I/private/var/folders/0t/d3pxkghn5d920blj72_db9mr0000gn/T/pip-install-yc98cc5v/catboost_2090f1ce70344f2bb47bbf567a5d5b4a/build/temp.macosx-10.9-x86_64-cpython-311 -fexceptions   -fno-common   -fcolor-diagnostics   -faligned-allocation   -fdebug-default-version=4   -ffunction-sections   -fdata-sections   -Wall   -Wextra   -Wno-parentheses   -Wno-implicit-const-int-float-conversion   -Wno-unknown-warning-option   -pipe   -D_THREAD_SAFE   -D_PTHREADS   -D_REENTRANT   -D_LARGEFILE_SOURCE   -D__STDC_CONSTANT_MACROS   -D__STDC_FORMAT_MACROS   -D__LONG_LONG_SUPPORTED  -DLIBCXX_BUILDING_LIBCXXRT -D_FILE_OFFSET_BITS=64  -m64    -msse2     -msse3     -mssse3         -msse4.1       -msse4.2       -mpopcnt      -mcx16     -DSSE_ENABLED=1     -DSSE3_ENABLED=1     -DSSSE3_ENABLED=1         -DSSE41_ENABLED=1       -DSSE42_ENABLED=1       -DPOPCNT_ENABLED=1      -DCX16_ENABLED=1 -O3 -DNDEBUG -isysroot /Library/Developer/CommandLineTools/SDKs/MacOSX12.1.sdk -mmacosx-version-min=11.0 -fPIC -Wno-everything -MD -MT contrib/libs/cxxsupp/builtins/CMakeFiles/libs-cxxsupp-builtins.dir/fixtfsi.c.o -MF contrib/libs/cxxsupp/builtins/CMakeFiles/libs-cxxsupp-builtins.dir/fixtfsi.c.o.d -o contrib/libs/cxxsupp/builtins/CMakeFiles/libs-cxxsupp-builtins.dir/fixtfsi.c.o -c /private/var/folders/0t/d3pxkghn5d920blj72_db9mr0000gn/T/pip-install-yc98cc5v/catboost_2090f1ce70344f2bb47bbf567a5d5b4a/catboost_all_src/contrib/libs/cxxsupp/builtins/fixtfsi.c\n",
      "  \u001b[31m   \u001b[0m [20/3724] /usr/bin/clang -DCATBOOST_OPENSOURCE=yes -I/private/var/folders/0t/d3pxkghn5d920blj72_db9mr0000gn/T/pip-install-yc98cc5v/catboost_2090f1ce70344f2bb47bbf567a5d5b4a/catboost_all_src -I/private/var/folders/0t/d3pxkghn5d920blj72_db9mr0000gn/T/pip-install-yc98cc5v/catboost_2090f1ce70344f2bb47bbf567a5d5b4a/build/temp.macosx-10.9-x86_64-cpython-311 -fexceptions   -fno-common   -fcolor-diagnostics   -faligned-allocation   -fdebug-default-version=4   -ffunction-sections   -fdata-sections   -Wall   -Wextra   -Wno-parentheses   -Wno-implicit-const-int-float-conversion   -Wno-unknown-warning-option   -pipe   -D_THREAD_SAFE   -D_PTHREADS   -D_REENTRANT   -D_LARGEFILE_SOURCE   -D__STDC_CONSTANT_MACROS   -D__STDC_FORMAT_MACROS   -D__LONG_LONG_SUPPORTED  -DLIBCXX_BUILDING_LIBCXXRT -D_FILE_OFFSET_BITS=64  -m64    -msse2     -msse3     -mssse3         -msse4.1       -msse4.2       -mpopcnt      -mcx16     -DSSE_ENABLED=1     -DSSE3_ENABLED=1     -DSSSE3_ENABLED=1         -DSSE41_ENABLED=1       -DSSE42_ENABLED=1       -DPOPCNT_ENABLED=1      -DCX16_ENABLED=1 -O3 -DNDEBUG -isysroot /Library/Developer/CommandLineTools/SDKs/MacOSX12.1.sdk -mmacosx-version-min=11.0 -fPIC -Wno-everything -MD -MT contrib/libs/cxxsupp/builtins/CMakeFiles/libs-cxxsupp-builtins.dir/fixtfdi.c.o -MF contrib/libs/cxxsupp/builtins/CMakeFiles/libs-cxxsupp-builtins.dir/fixtfdi.c.o.d -o contrib/libs/cxxsupp/builtins/CMakeFiles/libs-cxxsupp-builtins.dir/fixtfdi.c.o -c /private/var/folders/0t/d3pxkghn5d920blj72_db9mr0000gn/T/pip-install-yc98cc5v/catboost_2090f1ce70344f2bb47bbf567a5d5b4a/catboost_all_src/contrib/libs/cxxsupp/builtins/fixtfdi.c\n",
      "  \u001b[31m   \u001b[0m [21/3724] /usr/bin/clang -DCATBOOST_OPENSOURCE=yes -I/private/var/folders/0t/d3pxkghn5d920blj72_db9mr0000gn/T/pip-install-yc98cc5v/catboost_2090f1ce70344f2bb47bbf567a5d5b4a/catboost_all_src -I/private/var/folders/0t/d3pxkghn5d920blj72_db9mr0000gn/T/pip-install-yc98cc5v/catboost_2090f1ce70344f2bb47bbf567a5d5b4a/build/temp.macosx-10.9-x86_64-cpython-311 -fexceptions   -fno-common   -fcolor-diagnostics   -faligned-allocation   -fdebug-default-version=4   -ffunction-sections   -fdata-sections   -Wall   -Wextra   -Wno-parentheses   -Wno-implicit-const-int-float-conversion   -Wno-unknown-warning-option   -pipe   -D_THREAD_SAFE   -D_PTHREADS   -D_REENTRANT   -D_LARGEFILE_SOURCE   -D__STDC_CONSTANT_MACROS   -D__STDC_FORMAT_MACROS   -D__LONG_LONG_SUPPORTED  -DLIBCXX_BUILDING_LIBCXXRT -D_FILE_OFFSET_BITS=64  -m64    -msse2     -msse3     -mssse3         -msse4.1       -msse4.2       -mpopcnt      -mcx16     -DSSE_ENABLED=1     -DSSE3_ENABLED=1     -DSSSE3_ENABLED=1         -DSSE41_ENABLED=1       -DSSE42_ENABLED=1       -DPOPCNT_ENABLED=1      -DCX16_ENABLED=1 -O3 -DNDEBUG -isysroot /Library/Developer/CommandLineTools/SDKs/MacOSX12.1.sdk -mmacosx-version-min=11.0 -fPIC -Wno-everything -MD -MT contrib/libs/cxxsupp/builtins/CMakeFiles/libs-cxxsupp-builtins.dir/fixdfti.c.o -MF contrib/libs/cxxsupp/builtins/CMakeFiles/libs-cxxsupp-builtins.dir/fixdfti.c.o.d -o contrib/libs/cxxsupp/builtins/CMakeFiles/libs-cxxsupp-builtins.dir/fixdfti.c.o -c /private/var/folders/0t/d3pxkghn5d920blj72_db9mr0000gn/T/pip-install-yc98cc5v/catboost_2090f1ce70344f2bb47bbf567a5d5b4a/catboost_all_src/contrib/libs/cxxsupp/builtins/fixdfti.c\n",
      "  \u001b[31m   \u001b[0m [22/3724] /usr/bin/clang -DCATBOOST_OPENSOURCE=yes -I/private/var/folders/0t/d3pxkghn5d920blj72_db9mr0000gn/T/pip-install-yc98cc5v/catboost_2090f1ce70344f2bb47bbf567a5d5b4a/catboost_all_src -I/private/var/folders/0t/d3pxkghn5d920blj72_db9mr0000gn/T/pip-install-yc98cc5v/catboost_2090f1ce70344f2bb47bbf567a5d5b4a/build/temp.macosx-10.9-x86_64-cpython-311 -fexceptions   -fno-common   -fcolor-diagnostics   -faligned-allocation   -fdebug-default-version=4   -ffunction-sections   -fdata-sections   -Wall   -Wextra   -Wno-parentheses   -Wno-implicit-const-int-float-conversion   -Wno-unknown-warning-option   -pipe   -D_THREAD_SAFE   -D_PTHREADS   -D_REENTRANT   -D_LARGEFILE_SOURCE   -D__STDC_CONSTANT_MACROS   -D__STDC_FORMAT_MACROS   -D__LONG_LONG_SUPPORTED  -DLIBCXX_BUILDING_LIBCXXRT -D_FILE_OFFSET_BITS=64  -m64    -msse2     -msse3     -mssse3         -msse4.1       -msse4.2       -mpopcnt      -mcx16     -DSSE_ENABLED=1     -DSSE3_ENABLED=1     -DSSSE3_ENABLED=1         -DSSE41_ENABLED=1       -DSSE42_ENABLED=1       -DPOPCNT_ENABLED=1      -DCX16_ENABLED=1 -O3 -DNDEBUG -isysroot /Library/Developer/CommandLineTools/SDKs/MacOSX12.1.sdk -mmacosx-version-min=11.0 -fPIC -Wno-everything -MD -MT contrib/libs/cxxsupp/builtins/CMakeFiles/libs-cxxsupp-builtins.dir/fixunsdfti.c.o -MF contrib/libs/cxxsupp/builtins/CMakeFiles/libs-cxxsupp-builtins.dir/fixunsdfti.c.o.d -o contrib/libs/cxxsupp/builtins/CMakeFiles/libs-cxxsupp-builtins.dir/fixunsdfti.c.o -c /private/var/folders/0t/d3pxkghn5d920blj72_db9mr0000gn/T/pip-install-yc98cc5v/catboost_2090f1ce70344f2bb47bbf567a5d5b4a/catboost_all_src/contrib/libs/cxxsupp/builtins/fixunsdfti.c\n",
      "  \u001b[31m   \u001b[0m [23/3724] /usr/bin/clang -DCATBOOST_OPENSOURCE=yes -I/private/var/folders/0t/d3pxkghn5d920blj72_db9mr0000gn/T/pip-install-yc98cc5v/catboost_2090f1ce70344f2bb47bbf567a5d5b4a/catboost_all_src -I/private/var/folders/0t/d3pxkghn5d920blj72_db9mr0000gn/T/pip-install-yc98cc5v/catboost_2090f1ce70344f2bb47bbf567a5d5b4a/build/temp.macosx-10.9-x86_64-cpython-311 -fexceptions   -fno-common   -fcolor-diagnostics   -faligned-allocation   -fdebug-default-version=4   -ffunction-sections   -fdata-sections   -Wall   -Wextra   -Wno-parentheses   -Wno-implicit-const-int-float-conversion   -Wno-unknown-warning-option   -pipe   -D_THREAD_SAFE   -D_PTHREADS   -D_REENTRANT   -D_LARGEFILE_SOURCE   -D__STDC_CONSTANT_MACROS   -D__STDC_FORMAT_MACROS   -D__LONG_LONG_SUPPORTED  -DLIBCXX_BUILDING_LIBCXXRT -D_FILE_OFFSET_BITS=64  -m64    -msse2     -msse3     -mssse3         -msse4.1       -msse4.2       -mpopcnt      -mcx16     -DSSE_ENABLED=1     -DSSE3_ENABLED=1     -DSSSE3_ENABLED=1         -DSSE41_ENABLED=1       -DSSE42_ENABLED=1       -DPOPCNT_ENABLED=1      -DCX16_ENABLED=1 -O3 -DNDEBUG -isysroot /Library/Developer/CommandLineTools/SDKs/MacOSX12.1.sdk -mmacosx-version-min=11.0 -fPIC -Wno-everything -MD -MT contrib/libs/cxxsupp/builtins/CMakeFiles/libs-cxxsupp-builtins.dir/fixsfti.c.o -MF contrib/libs/cxxsupp/builtins/CMakeFiles/libs-cxxsupp-builtins.dir/fixsfti.c.o.d -o contrib/libs/cxxsupp/builtins/CMakeFiles/libs-cxxsupp-builtins.dir/fixsfti.c.o -c /private/var/folders/0t/d3pxkghn5d920blj72_db9mr0000gn/T/pip-install-yc98cc5v/catboost_2090f1ce70344f2bb47bbf567a5d5b4a/catboost_all_src/contrib/libs/cxxsupp/builtins/fixsfti.c\n",
      "  \u001b[31m   \u001b[0m [24/3724] /usr/bin/clang -DCATBOOST_OPENSOURCE=yes -I/private/var/folders/0t/d3pxkghn5d920blj72_db9mr0000gn/T/pip-install-yc98cc5v/catboost_2090f1ce70344f2bb47bbf567a5d5b4a/catboost_all_src -I/private/var/folders/0t/d3pxkghn5d920blj72_db9mr0000gn/T/pip-install-yc98cc5v/catboost_2090f1ce70344f2bb47bbf567a5d5b4a/build/temp.macosx-10.9-x86_64-cpython-311 -fexceptions   -fno-common   -fcolor-diagnostics   -faligned-allocation   -fdebug-default-version=4   -ffunction-sections   -fdata-sections   -Wall   -Wextra   -Wno-parentheses   -Wno-implicit-const-int-float-conversion   -Wno-unknown-warning-option   -pipe   -D_THREAD_SAFE   -D_PTHREADS   -D_REENTRANT   -D_LARGEFILE_SOURCE   -D__STDC_CONSTANT_MACROS   -D__STDC_FORMAT_MACROS   -D__LONG_LONG_SUPPORTED  -DLIBCXX_BUILDING_LIBCXXRT -D_FILE_OFFSET_BITS=64  -m64    -msse2     -msse3     -mssse3         -msse4.1       -msse4.2       -mpopcnt      -mcx16     -DSSE_ENABLED=1     -DSSE3_ENABLED=1     -DSSSE3_ENABLED=1         -DSSE41_ENABLED=1       -DSSE42_ENABLED=1       -DPOPCNT_ENABLED=1      -DCX16_ENABLED=1 -O3 -DNDEBUG -isysroot /Library/Developer/CommandLineTools/SDKs/MacOSX12.1.sdk -mmacosx-version-min=11.0 -fPIC -Wno-everything -MD -MT contrib/libs/cxxsupp/builtins/CMakeFiles/libs-cxxsupp-builtins.dir/fixunstfdi.c.o -MF contrib/libs/cxxsupp/builtins/CMakeFiles/libs-cxxsupp-builtins.dir/fixunstfdi.c.o.d -o contrib/libs/cxxsupp/builtins/CMakeFiles/libs-cxxsupp-builtins.dir/fixunstfdi.c.o -c /private/var/folders/0t/d3pxkghn5d920blj72_db9mr0000gn/T/pip-install-yc98cc5v/catboost_2090f1ce70344f2bb47bbf567a5d5b4a/catboost_all_src/contrib/libs/cxxsupp/builtins/fixunstfdi.c\n",
      "  \u001b[31m   \u001b[0m [25/3724] /usr/bin/clang -DCATBOOST_OPENSOURCE=yes -I/private/var/folders/0t/d3pxkghn5d920blj72_db9mr0000gn/T/pip-install-yc98cc5v/catboost_2090f1ce70344f2bb47bbf567a5d5b4a/catboost_all_src -I/private/var/folders/0t/d3pxkghn5d920blj72_db9mr0000gn/T/pip-install-yc98cc5v/catboost_2090f1ce70344f2bb47bbf567a5d5b4a/build/temp.macosx-10.9-x86_64-cpython-311 -fexceptions   -fno-common   -fcolor-diagnostics   -faligned-allocation   -fdebug-default-version=4   -ffunction-sections   -fdata-sections   -Wall   -Wextra   -Wno-parentheses   -Wno-implicit-const-int-float-conversion   -Wno-unknown-warning-option   -pipe   -D_THREAD_SAFE   -D_PTHREADS   -D_REENTRANT   -D_LARGEFILE_SOURCE   -D__STDC_CONSTANT_MACROS   -D__STDC_FORMAT_MACROS   -D__LONG_LONG_SUPPORTED  -DLIBCXX_BUILDING_LIBCXXRT -D_FILE_OFFSET_BITS=64  -m64    -msse2     -msse3     -mssse3         -msse4.1       -msse4.2       -mpopcnt      -mcx16     -DSSE_ENABLED=1     -DSSE3_ENABLED=1     -DSSSE3_ENABLED=1         -DSSE41_ENABLED=1       -DSSE42_ENABLED=1       -DPOPCNT_ENABLED=1      -DCX16_ENABLED=1 -O3 -DNDEBUG -isysroot /Library/Developer/CommandLineTools/SDKs/MacOSX12.1.sdk -mmacosx-version-min=11.0 -fPIC -Wno-everything -MD -MT contrib/libs/cxxsupp/builtins/CMakeFiles/libs-cxxsupp-builtins.dir/fixunstfsi.c.o -MF contrib/libs/cxxsupp/builtins/CMakeFiles/libs-cxxsupp-builtins.dir/fixunstfsi.c.o.d -o contrib/libs/cxxsupp/builtins/CMakeFiles/libs-cxxsupp-builtins.dir/fixunstfsi.c.o -c /private/var/folders/0t/d3pxkghn5d920blj72_db9mr0000gn/T/pip-install-yc98cc5v/catboost_2090f1ce70344f2bb47bbf567a5d5b4a/catboost_all_src/contrib/libs/cxxsupp/builtins/fixunstfsi.c\n",
      "  \u001b[31m   \u001b[0m [26/3724] /usr/bin/clang -DCATBOOST_OPENSOURCE=yes -I/private/var/folders/0t/d3pxkghn5d920blj72_db9mr0000gn/T/pip-install-yc98cc5v/catboost_2090f1ce70344f2bb47bbf567a5d5b4a/catboost_all_src -I/private/var/folders/0t/d3pxkghn5d920blj72_db9mr0000gn/T/pip-install-yc98cc5v/catboost_2090f1ce70344f2bb47bbf567a5d5b4a/build/temp.macosx-10.9-x86_64-cpython-311 -fexceptions   -fno-common   -fcolor-diagnostics   -faligned-allocation   -fdebug-default-version=4   -ffunction-sections   -fdata-sections   -Wall   -Wextra   -Wno-parentheses   -Wno-implicit-const-int-float-conversion   -Wno-unknown-warning-option   -pipe   -D_THREAD_SAFE   -D_PTHREADS   -D_REENTRANT   -D_LARGEFILE_SOURCE   -D__STDC_CONSTANT_MACROS   -D__STDC_FORMAT_MACROS   -D__LONG_LONG_SUPPORTED  -DLIBCXX_BUILDING_LIBCXXRT -D_FILE_OFFSET_BITS=64  -m64    -msse2     -msse3     -mssse3         -msse4.1       -msse4.2       -mpopcnt      -mcx16     -DSSE_ENABLED=1     -DSSE3_ENABLED=1     -DSSSE3_ENABLED=1         -DSSE41_ENABLED=1       -DSSE42_ENABLED=1       -DPOPCNT_ENABLED=1      -DCX16_ENABLED=1 -O3 -DNDEBUG -isysroot /Library/Developer/CommandLineTools/SDKs/MacOSX12.1.sdk -mmacosx-version-min=11.0 -fPIC -Wno-everything -MD -MT contrib/libs/cxxsupp/builtins/CMakeFiles/libs-cxxsupp-builtins.dir/fixunssfti.c.o -MF contrib/libs/cxxsupp/builtins/CMakeFiles/libs-cxxsupp-builtins.dir/fixunssfti.c.o.d -o contrib/libs/cxxsupp/builtins/CMakeFiles/libs-cxxsupp-builtins.dir/fixunssfti.c.o -c /private/var/folders/0t/d3pxkghn5d920blj72_db9mr0000gn/T/pip-install-yc98cc5v/catboost_2090f1ce70344f2bb47bbf567a5d5b4a/catboost_all_src/contrib/libs/cxxsupp/builtins/fixunssfti.c\n",
      "  \u001b[31m   \u001b[0m [27/3724] /usr/bin/clang -DCATBOOST_OPENSOURCE=yes -I/private/var/folders/0t/d3pxkghn5d920blj72_db9mr0000gn/T/pip-install-yc98cc5v/catboost_2090f1ce70344f2bb47bbf567a5d5b4a/catboost_all_src -I/private/var/folders/0t/d3pxkghn5d920blj72_db9mr0000gn/T/pip-install-yc98cc5v/catboost_2090f1ce70344f2bb47bbf567a5d5b4a/build/temp.macosx-10.9-x86_64-cpython-311 -fexceptions   -fno-common   -fcolor-diagnostics   -faligned-allocation   -fdebug-default-version=4   -ffunction-sections   -fdata-sections   -Wall   -Wextra   -Wno-parentheses   -Wno-implicit-const-int-float-conversion   -Wno-unknown-warning-option   -pipe   -D_THREAD_SAFE   -D_PTHREADS   -D_REENTRANT   -D_LARGEFILE_SOURCE   -D__STDC_CONSTANT_MACROS   -D__STDC_FORMAT_MACROS   -D__LONG_LONG_SUPPORTED  -DLIBCXX_BUILDING_LIBCXXRT -D_FILE_OFFSET_BITS=64  -m64    -msse2     -msse3     -mssse3         -msse4.1       -msse4.2       -mpopcnt      -mcx16     -DSSE_ENABLED=1     -DSSE3_ENABLED=1     -DSSSE3_ENABLED=1         -DSSE41_ENABLED=1       -DSSE42_ENABLED=1       -DPOPCNT_ENABLED=1      -DCX16_ENABLED=1 -O3 -DNDEBUG -isysroot /Library/Developer/CommandLineTools/SDKs/MacOSX12.1.sdk -mmacosx-version-min=11.0 -fPIC -Wno-everything -MD -MT contrib/libs/cxxsupp/builtins/CMakeFiles/libs-cxxsupp-builtins.dir/fixunstfti.c.o -MF contrib/libs/cxxsupp/builtins/CMakeFiles/libs-cxxsupp-builtins.dir/fixunstfti.c.o.d -o contrib/libs/cxxsupp/builtins/CMakeFiles/libs-cxxsupp-builtins.dir/fixunstfti.c.o -c /private/var/folders/0t/d3pxkghn5d920blj72_db9mr0000gn/T/pip-install-yc98cc5v/catboost_2090f1ce70344f2bb47bbf567a5d5b4a/catboost_all_src/contrib/libs/cxxsupp/builtins/fixunstfti.c\n",
      "  \u001b[31m   \u001b[0m [28/3724] /usr/bin/clang -DCATBOOST_OPENSOURCE=yes -I/private/var/folders/0t/d3pxkghn5d920blj72_db9mr0000gn/T/pip-install-yc98cc5v/catboost_2090f1ce70344f2bb47bbf567a5d5b4a/catboost_all_src -I/private/var/folders/0t/d3pxkghn5d920blj72_db9mr0000gn/T/pip-install-yc98cc5v/catboost_2090f1ce70344f2bb47bbf567a5d5b4a/build/temp.macosx-10.9-x86_64-cpython-311 -fexceptions   -fno-common   -fcolor-diagnostics   -faligned-allocation   -fdebug-default-version=4   -ffunction-sections   -fdata-sections   -Wall   -Wextra   -Wno-parentheses   -Wno-implicit-const-int-float-conversion   -Wno-unknown-warning-option   -pipe   -D_THREAD_SAFE   -D_PTHREADS   -D_REENTRANT   -D_LARGEFILE_SOURCE   -D__STDC_CONSTANT_MACROS   -D__STDC_FORMAT_MACROS   -D__LONG_LONG_SUPPORTED  -DLIBCXX_BUILDING_LIBCXXRT -D_FILE_OFFSET_BITS=64  -m64    -msse2     -msse3     -mssse3         -msse4.1       -msse4.2       -mpopcnt      -mcx16     -DSSE_ENABLED=1     -DSSE3_ENABLED=1     -DSSSE3_ENABLED=1         -DSSE41_ENABLED=1       -DSSE42_ENABLED=1       -DPOPCNT_ENABLED=1      -DCX16_ENABLED=1 -O3 -DNDEBUG -isysroot /Library/Developer/CommandLineTools/SDKs/MacOSX12.1.sdk -mmacosx-version-min=11.0 -fPIC -Wno-everything -MD -MT contrib/libs/cxxsupp/builtins/CMakeFiles/libs-cxxsupp-builtins.dir/floatditf.c.o -MF contrib/libs/cxxsupp/builtins/CMakeFiles/libs-cxxsupp-builtins.dir/floatditf.c.o.d -o contrib/libs/cxxsupp/builtins/CMakeFiles/libs-cxxsupp-builtins.dir/floatditf.c.o -c /private/var/folders/0t/d3pxkghn5d920blj72_db9mr0000gn/T/pip-install-yc98cc5v/catboost_2090f1ce70344f2bb47bbf567a5d5b4a/catboost_all_src/contrib/libs/cxxsupp/builtins/floatditf.c\n",
      "  \u001b[31m   \u001b[0m [29/3724] /usr/bin/clang -DCATBOOST_OPENSOURCE=yes -I/private/var/folders/0t/d3pxkghn5d920blj72_db9mr0000gn/T/pip-install-yc98cc5v/catboost_2090f1ce70344f2bb47bbf567a5d5b4a/catboost_all_src -I/private/var/folders/0t/d3pxkghn5d920blj72_db9mr0000gn/T/pip-install-yc98cc5v/catboost_2090f1ce70344f2bb47bbf567a5d5b4a/build/temp.macosx-10.9-x86_64-cpython-311 -fexceptions   -fno-common   -fcolor-diagnostics   -faligned-allocation   -fdebug-default-version=4   -ffunction-sections   -fdata-sections   -Wall   -Wextra   -Wno-parentheses   -Wno-implicit-const-int-float-conversion   -Wno-unknown-warning-option   -pipe   -D_THREAD_SAFE   -D_PTHREADS   -D_REENTRANT   -D_LARGEFILE_SOURCE   -D__STDC_CONSTANT_MACROS   -D__STDC_FORMAT_MACROS   -D__LONG_LONG_SUPPORTED  -DLIBCXX_BUILDING_LIBCXXRT -D_FILE_OFFSET_BITS=64  -m64    -msse2     -msse3     -mssse3         -msse4.1       -msse4.2       -mpopcnt      -mcx16     -DSSE_ENABLED=1     -DSSE3_ENABLED=1     -DSSSE3_ENABLED=1         -DSSE41_ENABLED=1       -DSSE42_ENABLED=1       -DPOPCNT_ENABLED=1      -DCX16_ENABLED=1 -O3 -DNDEBUG -isysroot /Library/Developer/CommandLineTools/SDKs/MacOSX12.1.sdk -mmacosx-version-min=11.0 -fPIC -Wno-everything -MD -MT contrib/libs/cxxsupp/builtins/CMakeFiles/libs-cxxsupp-builtins.dir/floatsitf.c.o -MF contrib/libs/cxxsupp/builtins/CMakeFiles/libs-cxxsupp-builtins.dir/floatsitf.c.o.d -o contrib/libs/cxxsupp/builtins/CMakeFiles/libs-cxxsupp-builtins.dir/floatsitf.c.o -c /private/var/folders/0t/d3pxkghn5d920blj72_db9mr0000gn/T/pip-install-yc98cc5v/catboost_2090f1ce70344f2bb47bbf567a5d5b4a/catboost_all_src/contrib/libs/cxxsupp/builtins/floatsitf.c\n",
      "  \u001b[31m   \u001b[0m [30/3724] /usr/bin/clang -DCATBOOST_OPENSOURCE=yes -I/private/var/folders/0t/d3pxkghn5d920blj72_db9mr0000gn/T/pip-install-yc98cc5v/catboost_2090f1ce70344f2bb47bbf567a5d5b4a/catboost_all_src -I/private/var/folders/0t/d3pxkghn5d920blj72_db9mr0000gn/T/pip-install-yc98cc5v/catboost_2090f1ce70344f2bb47bbf567a5d5b4a/build/temp.macosx-10.9-x86_64-cpython-311 -fexceptions   -fno-common   -fcolor-diagnostics   -faligned-allocation   -fdebug-default-version=4   -ffunction-sections   -fdata-sections   -Wall   -Wextra   -Wno-parentheses   -Wno-implicit-const-int-float-conversion   -Wno-unknown-warning-option   -pipe   -D_THREAD_SAFE   -D_PTHREADS   -D_REENTRANT   -D_LARGEFILE_SOURCE   -D__STDC_CONSTANT_MACROS   -D__STDC_FORMAT_MACROS   -D__LONG_LONG_SUPPORTED  -DLIBCXX_BUILDING_LIBCXXRT -D_FILE_OFFSET_BITS=64  -m64    -msse2     -msse3     -mssse3         -msse4.1       -msse4.2       -mpopcnt      -mcx16     -DSSE_ENABLED=1     -DSSE3_ENABLED=1     -DSSSE3_ENABLED=1         -DSSE41_ENABLED=1       -DSSE42_ENABLED=1       -DPOPCNT_ENABLED=1      -DCX16_ENABLED=1 -O3 -DNDEBUG -isysroot /Library/Developer/CommandLineTools/SDKs/MacOSX12.1.sdk -mmacosx-version-min=11.0 -fPIC -Wno-everything -MD -MT contrib/libs/cxxsupp/builtins/CMakeFiles/libs-cxxsupp-builtins.dir/fixunsxfti.c.o -MF contrib/libs/cxxsupp/builtins/CMakeFiles/libs-cxxsupp-builtins.dir/fixunsxfti.c.o.d -o contrib/libs/cxxsupp/builtins/CMakeFiles/libs-cxxsupp-builtins.dir/fixunsxfti.c.o -c /private/var/folders/0t/d3pxkghn5d920blj72_db9mr0000gn/T/pip-install-yc98cc5v/catboost_2090f1ce70344f2bb47bbf567a5d5b4a/catboost_all_src/contrib/libs/cxxsupp/builtins/fixunsxfti.c\n",
      "  \u001b[31m   \u001b[0m [31/3724] /usr/bin/clang -DCATBOOST_OPENSOURCE=yes -I/private/var/folders/0t/d3pxkghn5d920blj72_db9mr0000gn/T/pip-install-yc98cc5v/catboost_2090f1ce70344f2bb47bbf567a5d5b4a/catboost_all_src -I/private/var/folders/0t/d3pxkghn5d920blj72_db9mr0000gn/T/pip-install-yc98cc5v/catboost_2090f1ce70344f2bb47bbf567a5d5b4a/build/temp.macosx-10.9-x86_64-cpython-311 -I/private/var/folders/0t/d3pxkghn5d920blj72_db9mr0000gn/T/pip-install-yc98cc5v/catboost_2090f1ce70344f2bb47bbf567a5d5b4a/catboost_all_src/contrib/libs/libunwind/include -I/private/var/folders/0t/d3pxkghn5d920blj72_db9mr0000gn/T/pip-install-yc98cc5v/catboost_2090f1ce70344f2bb47bbf567a5d5b4a/catboost_all_src/contrib/libs/clang16-rt/include -fexceptions   -fno-common   -fcolor-diagnostics   -faligned-allocation   -fdebug-default-version=4   -ffunction-sections   -fdata-sections   -Wall   -Wextra   -Wno-parentheses   -Wno-implicit-const-int-float-conversion   -Wno-unknown-warning-option   -pipe   -D_THREAD_SAFE   -D_PTHREADS   -D_REENTRANT   -D_LARGEFILE_SOURCE   -D__STDC_CONSTANT_MACROS   -D__STDC_FORMAT_MACROS   -D__LONG_LONG_SUPPORTED  -DLIBCXX_BUILDING_LIBCXXRT -D_FILE_OFFSET_BITS=64  -m64    -msse2     -msse3     -mssse3         -msse4.1       -msse4.2       -mpopcnt      -mcx16     -DSSE_ENABLED=1     -DSSE3_ENABLED=1     -DSSSE3_ENABLED=1         -DSSE41_ENABLED=1       -DSSE42_ENABLED=1       -DPOPCNT_ENABLED=1      -DCX16_ENABLED=1 -O3 -DNDEBUG -isysroot /Library/Developer/CommandLineTools/SDKs/MacOSX12.1.sdk -mmacosx-version-min=11.0 -fPIC -D_libunwind_ -fno-exceptions -fno-rtti -funwind-tables -D_LIBUNWIND_IS_NATIVE_ONLY -MD -MT contrib/libs/libunwind/CMakeFiles/contrib-libs-libunwind.dir/src/UnwindLevel1.c.o -MF contrib/libs/libunwind/CMakeFiles/contrib-libs-libunwind.dir/src/UnwindLevel1.c.o.d -o contrib/libs/libunwind/CMakeFiles/contrib-libs-libunwind.dir/src/UnwindLevel1.c.o -c /private/var/folders/0t/d3pxkghn5d920blj72_db9mr0000gn/T/pip-install-yc98cc5v/catboost_2090f1ce70344f2bb47bbf567a5d5b4a/catboost_all_src/contrib/libs/libunwind/src/UnwindLevel1.c\n",
      "  \u001b[31m   \u001b[0m [32/3724] /usr/bin/clang -DCATBOOST_OPENSOURCE=yes -I/private/var/folders/0t/d3pxkghn5d920blj72_db9mr0000gn/T/pip-install-yc98cc5v/catboost_2090f1ce70344f2bb47bbf567a5d5b4a/catboost_all_src -I/private/var/folders/0t/d3pxkghn5d920blj72_db9mr0000gn/T/pip-install-yc98cc5v/catboost_2090f1ce70344f2bb47bbf567a5d5b4a/build/temp.macosx-10.9-x86_64-cpython-311 -fexceptions   -fno-common   -fcolor-diagnostics   -faligned-allocation   -fdebug-default-version=4   -ffunction-sections   -fdata-sections   -Wall   -Wextra   -Wno-parentheses   -Wno-implicit-const-int-float-conversion   -Wno-unknown-warning-option   -pipe   -D_THREAD_SAFE   -D_PTHREADS   -D_REENTRANT   -D_LARGEFILE_SOURCE   -D__STDC_CONSTANT_MACROS   -D__STDC_FORMAT_MACROS   -D__LONG_LONG_SUPPORTED  -DLIBCXX_BUILDING_LIBCXXRT -D_FILE_OFFSET_BITS=64  -m64    -msse2     -msse3     -mssse3         -msse4.1       -msse4.2       -mpopcnt      -mcx16     -DSSE_ENABLED=1     -DSSE3_ENABLED=1     -DSSSE3_ENABLED=1         -DSSE41_ENABLED=1       -DSSE42_ENABLED=1       -DPOPCNT_ENABLED=1      -DCX16_ENABLED=1 -O3 -DNDEBUG -isysroot /Library/Developer/CommandLineTools/SDKs/MacOSX12.1.sdk -mmacosx-version-min=11.0 -fPIC -Wno-everything -MD -MT contrib/libs/cxxsupp/builtins/CMakeFiles/libs-cxxsupp-builtins.dir/floatunditf.c.o -MF contrib/libs/cxxsupp/builtins/CMakeFiles/libs-cxxsupp-builtins.dir/floatunditf.c.o.d -o contrib/libs/cxxsupp/builtins/CMakeFiles/libs-cxxsupp-builtins.dir/floatunditf.c.o -c /private/var/folders/0t/d3pxkghn5d920blj72_db9mr0000gn/T/pip-install-yc98cc5v/catboost_2090f1ce70344f2bb47bbf567a5d5b4a/catboost_all_src/contrib/libs/cxxsupp/builtins/floatunditf.c\n",
      "  \u001b[31m   \u001b[0m [33/3724] /usr/bin/clang -DCATBOOST_OPENSOURCE=yes -I/private/var/folders/0t/d3pxkghn5d920blj72_db9mr0000gn/T/pip-install-yc98cc5v/catboost_2090f1ce70344f2bb47bbf567a5d5b4a/catboost_all_src -I/private/var/folders/0t/d3pxkghn5d920blj72_db9mr0000gn/T/pip-install-yc98cc5v/catboost_2090f1ce70344f2bb47bbf567a5d5b4a/build/temp.macosx-10.9-x86_64-cpython-311 -fexceptions   -fno-common   -fcolor-diagnostics   -faligned-allocation   -fdebug-default-version=4   -ffunction-sections   -fdata-sections   -Wall   -Wextra   -Wno-parentheses   -Wno-implicit-const-int-float-conversion   -Wno-unknown-warning-option   -pipe   -D_THREAD_SAFE   -D_PTHREADS   -D_REENTRANT   -D_LARGEFILE_SOURCE   -D__STDC_CONSTANT_MACROS   -D__STDC_FORMAT_MACROS   -D__LONG_LONG_SUPPORTED  -DLIBCXX_BUILDING_LIBCXXRT -D_FILE_OFFSET_BITS=64  -m64    -msse2     -msse3     -mssse3         -msse4.1       -msse4.2       -mpopcnt      -mcx16     -DSSE_ENABLED=1     -DSSE3_ENABLED=1     -DSSSE3_ENABLED=1         -DSSE41_ENABLED=1       -DSSE42_ENABLED=1       -DPOPCNT_ENABLED=1      -DCX16_ENABLED=1 -O3 -DNDEBUG -isysroot /Library/Developer/CommandLineTools/SDKs/MacOSX12.1.sdk -mmacosx-version-min=11.0 -fPIC -Wno-everything -MD -MT contrib/libs/cxxsupp/builtins/CMakeFiles/libs-cxxsupp-builtins.dir/floattisf.c.o -MF contrib/libs/cxxsupp/builtins/CMakeFiles/libs-cxxsupp-builtins.dir/floattisf.c.o.d -o contrib/libs/cxxsupp/builtins/CMakeFiles/libs-cxxsupp-builtins.dir/floattisf.c.o -c /private/var/folders/0t/d3pxkghn5d920blj72_db9mr0000gn/T/pip-install-yc98cc5v/catboost_2090f1ce70344f2bb47bbf567a5d5b4a/catboost_all_src/contrib/libs/cxxsupp/builtins/floattisf.c\n",
      "  \u001b[31m   \u001b[0m [34/3724] /usr/bin/clang -DCATBOOST_OPENSOURCE=yes -I/private/var/folders/0t/d3pxkghn5d920blj72_db9mr0000gn/T/pip-install-yc98cc5v/catboost_2090f1ce70344f2bb47bbf567a5d5b4a/catboost_all_src -I/private/var/folders/0t/d3pxkghn5d920blj72_db9mr0000gn/T/pip-install-yc98cc5v/catboost_2090f1ce70344f2bb47bbf567a5d5b4a/build/temp.macosx-10.9-x86_64-cpython-311 -fexceptions   -fno-common   -fcolor-diagnostics   -faligned-allocation   -fdebug-default-version=4   -ffunction-sections   -fdata-sections   -Wall   -Wextra   -Wno-parentheses   -Wno-implicit-const-int-float-conversion   -Wno-unknown-warning-option   -pipe   -D_THREAD_SAFE   -D_PTHREADS   -D_REENTRANT   -D_LARGEFILE_SOURCE   -D__STDC_CONSTANT_MACROS   -D__STDC_FORMAT_MACROS   -D__LONG_LONG_SUPPORTED  -DLIBCXX_BUILDING_LIBCXXRT -D_FILE_OFFSET_BITS=64  -m64    -msse2     -msse3     -mssse3         -msse4.1       -msse4.2       -mpopcnt      -mcx16     -DSSE_ENABLED=1     -DSSE3_ENABLED=1     -DSSSE3_ENABLED=1         -DSSE41_ENABLED=1       -DSSE42_ENABLED=1       -DPOPCNT_ENABLED=1      -DCX16_ENABLED=1 -O3 -DNDEBUG -isysroot /Library/Developer/CommandLineTools/SDKs/MacOSX12.1.sdk -mmacosx-version-min=11.0 -fPIC -Wno-everything -MD -MT contrib/libs/cxxsupp/builtins/CMakeFiles/libs-cxxsupp-builtins.dir/floattidf.c.o -MF contrib/libs/cxxsupp/builtins/CMakeFiles/libs-cxxsupp-builtins.dir/floattidf.c.o.d -o contrib/libs/cxxsupp/builtins/CMakeFiles/libs-cxxsupp-builtins.dir/floattidf.c.o -c /private/var/folders/0t/d3pxkghn5d920blj72_db9mr0000gn/T/pip-install-yc98cc5v/catboost_2090f1ce70344f2bb47bbf567a5d5b4a/catboost_all_src/contrib/libs/cxxsupp/builtins/floattidf.c\n",
      "  \u001b[31m   \u001b[0m [35/3724] /usr/bin/clang -DCATBOOST_OPENSOURCE=yes -I/private/var/folders/0t/d3pxkghn5d920blj72_db9mr0000gn/T/pip-install-yc98cc5v/catboost_2090f1ce70344f2bb47bbf567a5d5b4a/catboost_all_src -I/private/var/folders/0t/d3pxkghn5d920blj72_db9mr0000gn/T/pip-install-yc98cc5v/catboost_2090f1ce70344f2bb47bbf567a5d5b4a/build/temp.macosx-10.9-x86_64-cpython-311 -fexceptions   -fno-common   -fcolor-diagnostics   -faligned-allocation   -fdebug-default-version=4   -ffunction-sections   -fdata-sections   -Wall   -Wextra   -Wno-parentheses   -Wno-implicit-const-int-float-conversion   -Wno-unknown-warning-option   -pipe   -D_THREAD_SAFE   -D_PTHREADS   -D_REENTRANT   -D_LARGEFILE_SOURCE   -D__STDC_CONSTANT_MACROS   -D__STDC_FORMAT_MACROS   -D__LONG_LONG_SUPPORTED  -DLIBCXX_BUILDING_LIBCXXRT -D_FILE_OFFSET_BITS=64  -m64    -msse2     -msse3     -mssse3         -msse4.1       -msse4.2       -mpopcnt      -mcx16     -DSSE_ENABLED=1     -DSSE3_ENABLED=1     -DSSSE3_ENABLED=1         -DSSE41_ENABLED=1       -DSSE42_ENABLED=1       -DPOPCNT_ENABLED=1      -DCX16_ENABLED=1 -O3 -DNDEBUG -isysroot /Library/Developer/CommandLineTools/SDKs/MacOSX12.1.sdk -mmacosx-version-min=11.0 -fPIC -Wno-everything -MD -MT contrib/libs/cxxsupp/builtins/CMakeFiles/libs-cxxsupp-builtins.dir/floattixf.c.o -MF contrib/libs/cxxsupp/builtins/CMakeFiles/libs-cxxsupp-builtins.dir/floattixf.c.o.d -o contrib/libs/cxxsupp/builtins/CMakeFiles/libs-cxxsupp-builtins.dir/floattixf.c.o -c /private/var/folders/0t/d3pxkghn5d920blj72_db9mr0000gn/T/pip-install-yc98cc5v/catboost_2090f1ce70344f2bb47bbf567a5d5b4a/catboost_all_src/contrib/libs/cxxsupp/builtins/floattixf.c\n",
      "  \u001b[31m   \u001b[0m [36/3724] /usr/bin/clang -DCATBOOST_OPENSOURCE=yes -I/private/var/folders/0t/d3pxkghn5d920blj72_db9mr0000gn/T/pip-install-yc98cc5v/catboost_2090f1ce70344f2bb47bbf567a5d5b4a/catboost_all_src -I/private/var/folders/0t/d3pxkghn5d920blj72_db9mr0000gn/T/pip-install-yc98cc5v/catboost_2090f1ce70344f2bb47bbf567a5d5b4a/build/temp.macosx-10.9-x86_64-cpython-311 -fexceptions   -fno-common   -fcolor-diagnostics   -faligned-allocation   -fdebug-default-version=4   -ffunction-sections   -fdata-sections   -Wall   -Wextra   -Wno-parentheses   -Wno-implicit-const-int-float-conversion   -Wno-unknown-warning-option   -pipe   -D_THREAD_SAFE   -D_PTHREADS   -D_REENTRANT   -D_LARGEFILE_SOURCE   -D__STDC_CONSTANT_MACROS   -D__STDC_FORMAT_MACROS   -D__LONG_LONG_SUPPORTED  -DLIBCXX_BUILDING_LIBCXXRT -D_FILE_OFFSET_BITS=64  -m64    -msse2     -msse3     -mssse3         -msse4.1       -msse4.2       -mpopcnt      -mcx16     -DSSE_ENABLED=1     -DSSE3_ENABLED=1     -DSSSE3_ENABLED=1         -DSSE41_ENABLED=1       -DSSE42_ENABLED=1       -DPOPCNT_ENABLED=1      -DCX16_ENABLED=1 -O3 -DNDEBUG -isysroot /Library/Developer/CommandLineTools/SDKs/MacOSX12.1.sdk -mmacosx-version-min=11.0 -fPIC -Wno-everything -MD -MT contrib/libs/cxxsupp/builtins/CMakeFiles/libs-cxxsupp-builtins.dir/floatunsitf.c.o -MF contrib/libs/cxxsupp/builtins/CMakeFiles/libs-cxxsupp-builtins.dir/floatunsitf.c.o.d -o contrib/libs/cxxsupp/builtins/CMakeFiles/libs-cxxsupp-builtins.dir/floatunsitf.c.o -c /private/var/folders/0t/d3pxkghn5d920blj72_db9mr0000gn/T/pip-install-yc98cc5v/catboost_2090f1ce70344f2bb47bbf567a5d5b4a/catboost_all_src/contrib/libs/cxxsupp/builtins/floatunsitf.c\n",
      "  \u001b[31m   \u001b[0m [37/3724] /usr/bin/clang -DCATBOOST_OPENSOURCE=yes -I/private/var/folders/0t/d3pxkghn5d920blj72_db9mr0000gn/T/pip-install-yc98cc5v/catboost_2090f1ce70344f2bb47bbf567a5d5b4a/catboost_all_src -I/private/var/folders/0t/d3pxkghn5d920blj72_db9mr0000gn/T/pip-install-yc98cc5v/catboost_2090f1ce70344f2bb47bbf567a5d5b4a/build/temp.macosx-10.9-x86_64-cpython-311 -fexceptions   -fno-common   -fcolor-diagnostics   -faligned-allocation   -fdebug-default-version=4   -ffunction-sections   -fdata-sections   -Wall   -Wextra   -Wno-parentheses   -Wno-implicit-const-int-float-conversion   -Wno-unknown-warning-option   -pipe   -D_THREAD_SAFE   -D_PTHREADS   -D_REENTRANT   -D_LARGEFILE_SOURCE   -D__STDC_CONSTANT_MACROS   -D__STDC_FORMAT_MACROS   -D__LONG_LONG_SUPPORTED  -DLIBCXX_BUILDING_LIBCXXRT -D_FILE_OFFSET_BITS=64  -m64    -msse2     -msse3     -mssse3         -msse4.1       -msse4.2       -mpopcnt      -mcx16     -DSSE_ENABLED=1     -DSSE3_ENABLED=1     -DSSSE3_ENABLED=1         -DSSE41_ENABLED=1       -DSSE42_ENABLED=1       -DPOPCNT_ENABLED=1      -DCX16_ENABLED=1 -O3 -DNDEBUG -isysroot /Library/Developer/CommandLineTools/SDKs/MacOSX12.1.sdk -mmacosx-version-min=11.0 -fPIC -Wno-everything -MD -MT contrib/libs/cxxsupp/builtins/CMakeFiles/libs-cxxsupp-builtins.dir/int_util.c.o -MF contrib/libs/cxxsupp/builtins/CMakeFiles/libs-cxxsupp-builtins.dir/int_util.c.o.d -o contrib/libs/cxxsupp/builtins/CMakeFiles/libs-cxxsupp-builtins.dir/int_util.c.o -c /private/var/folders/0t/d3pxkghn5d920blj72_db9mr0000gn/T/pip-install-yc98cc5v/catboost_2090f1ce70344f2bb47bbf567a5d5b4a/catboost_all_src/contrib/libs/cxxsupp/builtins/int_util.c\n",
      "  \u001b[31m   \u001b[0m [38/3724] /usr/bin/clang -DCATBOOST_OPENSOURCE=yes -I/private/var/folders/0t/d3pxkghn5d920blj72_db9mr0000gn/T/pip-install-yc98cc5v/catboost_2090f1ce70344f2bb47bbf567a5d5b4a/catboost_all_src -I/private/var/folders/0t/d3pxkghn5d920blj72_db9mr0000gn/T/pip-install-yc98cc5v/catboost_2090f1ce70344f2bb47bbf567a5d5b4a/build/temp.macosx-10.9-x86_64-cpython-311 -fexceptions   -fno-common   -fcolor-diagnostics   -faligned-allocation   -fdebug-default-version=4   -ffunction-sections   -fdata-sections   -Wall   -Wextra   -Wno-parentheses   -Wno-implicit-const-int-float-conversion   -Wno-unknown-warning-option   -pipe   -D_THREAD_SAFE   -D_PTHREADS   -D_REENTRANT   -D_LARGEFILE_SOURCE   -D__STDC_CONSTANT_MACROS   -D__STDC_FORMAT_MACROS   -D__LONG_LONG_SUPPORTED  -DLIBCXX_BUILDING_LIBCXXRT -D_FILE_OFFSET_BITS=64  -m64    -msse2     -msse3     -mssse3         -msse4.1       -msse4.2       -mpopcnt      -mcx16     -DSSE_ENABLED=1     -DSSE3_ENABLED=1     -DSSSE3_ENABLED=1         -DSSE41_ENABLED=1       -DSSE42_ENABLED=1       -DPOPCNT_ENABLED=1      -DCX16_ENABLED=1 -O3 -DNDEBUG -isysroot /Library/Developer/CommandLineTools/SDKs/MacOSX12.1.sdk -mmacosx-version-min=11.0 -fPIC -Wno-everything -MD -MT contrib/libs/cxxsupp/builtins/CMakeFiles/libs-cxxsupp-builtins.dir/floatuntidf.c.o -MF contrib/libs/cxxsupp/builtins/CMakeFiles/libs-cxxsupp-builtins.dir/floatuntidf.c.o.d -o contrib/libs/cxxsupp/builtins/CMakeFiles/libs-cxxsupp-builtins.dir/floatuntidf.c.o -c /private/var/folders/0t/d3pxkghn5d920blj72_db9mr0000gn/T/pip-install-yc98cc5v/catboost_2090f1ce70344f2bb47bbf567a5d5b4a/catboost_all_src/contrib/libs/cxxsupp/builtins/floatuntidf.c\n",
      "  \u001b[31m   \u001b[0m [39/3724] /usr/bin/clang -DCATBOOST_OPENSOURCE=yes -I/private/var/folders/0t/d3pxkghn5d920blj72_db9mr0000gn/T/pip-install-yc98cc5v/catboost_2090f1ce70344f2bb47bbf567a5d5b4a/catboost_all_src -I/private/var/folders/0t/d3pxkghn5d920blj72_db9mr0000gn/T/pip-install-yc98cc5v/catboost_2090f1ce70344f2bb47bbf567a5d5b4a/build/temp.macosx-10.9-x86_64-cpython-311 -fexceptions   -fno-common   -fcolor-diagnostics   -faligned-allocation   -fdebug-default-version=4   -ffunction-sections   -fdata-sections   -Wall   -Wextra   -Wno-parentheses   -Wno-implicit-const-int-float-conversion   -Wno-unknown-warning-option   -pipe   -D_THREAD_SAFE   -D_PTHREADS   -D_REENTRANT   -D_LARGEFILE_SOURCE   -D__STDC_CONSTANT_MACROS   -D__STDC_FORMAT_MACROS   -D__LONG_LONG_SUPPORTED  -DLIBCXX_BUILDING_LIBCXXRT -D_FILE_OFFSET_BITS=64  -m64    -msse2     -msse3     -mssse3         -msse4.1       -msse4.2       -mpopcnt      -mcx16     -DSSE_ENABLED=1     -DSSE3_ENABLED=1     -DSSSE3_ENABLED=1         -DSSE41_ENABLED=1       -DSSE42_ENABLED=1       -DPOPCNT_ENABLED=1      -DCX16_ENABLED=1 -O3 -DNDEBUG -isysroot /Library/Developer/CommandLineTools/SDKs/MacOSX12.1.sdk -mmacosx-version-min=11.0 -fPIC -Wno-everything -MD -MT contrib/libs/cxxsupp/builtins/CMakeFiles/libs-cxxsupp-builtins.dir/floatuntisf.c.o -MF contrib/libs/cxxsupp/builtins/CMakeFiles/libs-cxxsupp-builtins.dir/floatuntisf.c.o.d -o contrib/libs/cxxsupp/builtins/CMakeFiles/libs-cxxsupp-builtins.dir/floatuntisf.c.o -c /private/var/folders/0t/d3pxkghn5d920blj72_db9mr0000gn/T/pip-install-yc98cc5v/catboost_2090f1ce70344f2bb47bbf567a5d5b4a/catboost_all_src/contrib/libs/cxxsupp/builtins/floatuntisf.c\n",
      "  \u001b[31m   \u001b[0m [40/3724] /usr/bin/clang -DCATBOOST_OPENSOURCE=yes -I/private/var/folders/0t/d3pxkghn5d920blj72_db9mr0000gn/T/pip-install-yc98cc5v/catboost_2090f1ce70344f2bb47bbf567a5d5b4a/catboost_all_src -I/private/var/folders/0t/d3pxkghn5d920blj72_db9mr0000gn/T/pip-install-yc98cc5v/catboost_2090f1ce70344f2bb47bbf567a5d5b4a/build/temp.macosx-10.9-x86_64-cpython-311 -fexceptions   -fno-common   -fcolor-diagnostics   -faligned-allocation   -fdebug-default-version=4   -ffunction-sections   -fdata-sections   -Wall   -Wextra   -Wno-parentheses   -Wno-implicit-const-int-float-conversion   -Wno-unknown-warning-option   -pipe   -D_THREAD_SAFE   -D_PTHREADS   -D_REENTRANT   -D_LARGEFILE_SOURCE   -D__STDC_CONSTANT_MACROS   -D__STDC_FORMAT_MACROS   -D__LONG_LONG_SUPPORTED  -DLIBCXX_BUILDING_LIBCXXRT -D_FILE_OFFSET_BITS=64  -m64    -msse2     -msse3     -mssse3         -msse4.1       -msse4.2       -mpopcnt      -mcx16     -DSSE_ENABLED=1     -DSSE3_ENABLED=1     -DSSSE3_ENABLED=1         -DSSE41_ENABLED=1       -DSSE42_ENABLED=1       -DPOPCNT_ENABLED=1      -DCX16_ENABLED=1 -O3 -DNDEBUG -isysroot /Library/Developer/CommandLineTools/SDKs/MacOSX12.1.sdk -mmacosx-version-min=11.0 -fPIC -Wno-everything -MD -MT contrib/libs/cxxsupp/builtins/CMakeFiles/libs-cxxsupp-builtins.dir/lshrti3.c.o -MF contrib/libs/cxxsupp/builtins/CMakeFiles/libs-cxxsupp-builtins.dir/lshrti3.c.o.d -o contrib/libs/cxxsupp/builtins/CMakeFiles/libs-cxxsupp-builtins.dir/lshrti3.c.o -c /private/var/folders/0t/d3pxkghn5d920blj72_db9mr0000gn/T/pip-install-yc98cc5v/catboost_2090f1ce70344f2bb47bbf567a5d5b4a/catboost_all_src/contrib/libs/cxxsupp/builtins/lshrti3.c\n",
      "  \u001b[31m   \u001b[0m [41/3724] /usr/bin/clang -DCATBOOST_OPENSOURCE=yes -I/private/var/folders/0t/d3pxkghn5d920blj72_db9mr0000gn/T/pip-install-yc98cc5v/catboost_2090f1ce70344f2bb47bbf567a5d5b4a/catboost_all_src -I/private/var/folders/0t/d3pxkghn5d920blj72_db9mr0000gn/T/pip-install-yc98cc5v/catboost_2090f1ce70344f2bb47bbf567a5d5b4a/build/temp.macosx-10.9-x86_64-cpython-311 -fexceptions   -fno-common   -fcolor-diagnostics   -faligned-allocation   -fdebug-default-version=4   -ffunction-sections   -fdata-sections   -Wall   -Wextra   -Wno-parentheses   -Wno-implicit-const-int-float-conversion   -Wno-unknown-warning-option   -pipe   -D_THREAD_SAFE   -D_PTHREADS   -D_REENTRANT   -D_LARGEFILE_SOURCE   -D__STDC_CONSTANT_MACROS   -D__STDC_FORMAT_MACROS   -D__LONG_LONG_SUPPORTED  -DLIBCXX_BUILDING_LIBCXXRT -D_FILE_OFFSET_BITS=64  -m64    -msse2     -msse3     -mssse3         -msse4.1       -msse4.2       -mpopcnt      -mcx16     -DSSE_ENABLED=1     -DSSE3_ENABLED=1     -DSSSE3_ENABLED=1         -DSSE41_ENABLED=1       -DSSE42_ENABLED=1       -DPOPCNT_ENABLED=1      -DCX16_ENABLED=1 -O3 -DNDEBUG -isysroot /Library/Developer/CommandLineTools/SDKs/MacOSX12.1.sdk -mmacosx-version-min=11.0 -fPIC -Wno-everything -MD -MT contrib/libs/cxxsupp/builtins/CMakeFiles/libs-cxxsupp-builtins.dir/muldc3.c.o -MF contrib/libs/cxxsupp/builtins/CMakeFiles/libs-cxxsupp-builtins.dir/muldc3.c.o.d -o contrib/libs/cxxsupp/builtins/CMakeFiles/libs-cxxsupp-builtins.dir/muldc3.c.o -c /private/var/folders/0t/d3pxkghn5d920blj72_db9mr0000gn/T/pip-install-yc98cc5v/catboost_2090f1ce70344f2bb47bbf567a5d5b4a/catboost_all_src/contrib/libs/cxxsupp/builtins/muldc3.c\n",
      "  \u001b[31m   \u001b[0m [42/3724] /usr/bin/clang -DCATBOOST_OPENSOURCE=yes -I/private/var/folders/0t/d3pxkghn5d920blj72_db9mr0000gn/T/pip-install-yc98cc5v/catboost_2090f1ce70344f2bb47bbf567a5d5b4a/catboost_all_src -I/private/var/folders/0t/d3pxkghn5d920blj72_db9mr0000gn/T/pip-install-yc98cc5v/catboost_2090f1ce70344f2bb47bbf567a5d5b4a/build/temp.macosx-10.9-x86_64-cpython-311 -fexceptions   -fno-common   -fcolor-diagnostics   -faligned-allocation   -fdebug-default-version=4   -ffunction-sections   -fdata-sections   -Wall   -Wextra   -Wno-parentheses   -Wno-implicit-const-int-float-conversion   -Wno-unknown-warning-option   -pipe   -D_THREAD_SAFE   -D_PTHREADS   -D_REENTRANT   -D_LARGEFILE_SOURCE   -D__STDC_CONSTANT_MACROS   -D__STDC_FORMAT_MACROS   -D__LONG_LONG_SUPPORTED  -DLIBCXX_BUILDING_LIBCXXRT -D_FILE_OFFSET_BITS=64  -m64    -msse2     -msse3     -mssse3         -msse4.1       -msse4.2       -mpopcnt      -mcx16     -DSSE_ENABLED=1     -DSSE3_ENABLED=1     -DSSSE3_ENABLED=1         -DSSE41_ENABLED=1       -DSSE42_ENABLED=1       -DPOPCNT_ENABLED=1      -DCX16_ENABLED=1 -O3 -DNDEBUG -isysroot /Library/Developer/CommandLineTools/SDKs/MacOSX12.1.sdk -mmacosx-version-min=11.0 -fPIC -Wno-everything -MD -MT contrib/libs/cxxsupp/builtins/CMakeFiles/libs-cxxsupp-builtins.dir/modti3.c.o -MF contrib/libs/cxxsupp/builtins/CMakeFiles/libs-cxxsupp-builtins.dir/modti3.c.o.d -o contrib/libs/cxxsupp/builtins/CMakeFiles/libs-cxxsupp-builtins.dir/modti3.c.o -c /private/var/folders/0t/d3pxkghn5d920blj72_db9mr0000gn/T/pip-install-yc98cc5v/catboost_2090f1ce70344f2bb47bbf567a5d5b4a/catboost_all_src/contrib/libs/cxxsupp/builtins/modti3.c\n",
      "  \u001b[31m   \u001b[0m [43/3724] /usr/bin/clang -DCATBOOST_OPENSOURCE=yes -I/private/var/folders/0t/d3pxkghn5d920blj72_db9mr0000gn/T/pip-install-yc98cc5v/catboost_2090f1ce70344f2bb47bbf567a5d5b4a/catboost_all_src -I/private/var/folders/0t/d3pxkghn5d920blj72_db9mr0000gn/T/pip-install-yc98cc5v/catboost_2090f1ce70344f2bb47bbf567a5d5b4a/build/temp.macosx-10.9-x86_64-cpython-311 -fexceptions   -fno-common   -fcolor-diagnostics   -faligned-allocation   -fdebug-default-version=4   -ffunction-sections   -fdata-sections   -Wall   -Wextra   -Wno-parentheses   -Wno-implicit-const-int-float-conversion   -Wno-unknown-warning-option   -pipe   -D_THREAD_SAFE   -D_PTHREADS   -D_REENTRANT   -D_LARGEFILE_SOURCE   -D__STDC_CONSTANT_MACROS   -D__STDC_FORMAT_MACROS   -D__LONG_LONG_SUPPORTED  -DLIBCXX_BUILDING_LIBCXXRT -D_FILE_OFFSET_BITS=64  -m64    -msse2     -msse3     -mssse3         -msse4.1       -msse4.2       -mpopcnt      -mcx16     -DSSE_ENABLED=1     -DSSE3_ENABLED=1     -DSSSE3_ENABLED=1         -DSSE41_ENABLED=1       -DSSE42_ENABLED=1       -DPOPCNT_ENABLED=1      -DCX16_ENABLED=1 -O3 -DNDEBUG -isysroot /Library/Developer/CommandLineTools/SDKs/MacOSX12.1.sdk -mmacosx-version-min=11.0 -fPIC -Wno-everything -MD -MT contrib/libs/cxxsupp/builtins/CMakeFiles/libs-cxxsupp-builtins.dir/mulsc3.c.o -MF contrib/libs/cxxsupp/builtins/CMakeFiles/libs-cxxsupp-builtins.dir/mulsc3.c.o.d -o contrib/libs/cxxsupp/builtins/CMakeFiles/libs-cxxsupp-builtins.dir/mulsc3.c.o -c /private/var/folders/0t/d3pxkghn5d920blj72_db9mr0000gn/T/pip-install-yc98cc5v/catboost_2090f1ce70344f2bb47bbf567a5d5b4a/catboost_all_src/contrib/libs/cxxsupp/builtins/mulsc3.c\n",
      "  \u001b[31m   \u001b[0m [44/3724] /usr/bin/clang -DCATBOOST_OPENSOURCE=yes -I/private/var/folders/0t/d3pxkghn5d920blj72_db9mr0000gn/T/pip-install-yc98cc5v/catboost_2090f1ce70344f2bb47bbf567a5d5b4a/catboost_all_src -I/private/var/folders/0t/d3pxkghn5d920blj72_db9mr0000gn/T/pip-install-yc98cc5v/catboost_2090f1ce70344f2bb47bbf567a5d5b4a/build/temp.macosx-10.9-x86_64-cpython-311 -fexceptions   -fno-common   -fcolor-diagnostics   -faligned-allocation   -fdebug-default-version=4   -ffunction-sections   -fdata-sections   -Wall   -Wextra   -Wno-parentheses   -Wno-implicit-const-int-float-conversion   -Wno-unknown-warning-option   -pipe   -D_THREAD_SAFE   -D_PTHREADS   -D_REENTRANT   -D_LARGEFILE_SOURCE   -D__STDC_CONSTANT_MACROS   -D__STDC_FORMAT_MACROS   -D__LONG_LONG_SUPPORTED  -DLIBCXX_BUILDING_LIBCXXRT -D_FILE_OFFSET_BITS=64  -m64    -msse2     -msse3     -mssse3         -msse4.1       -msse4.2       -mpopcnt      -mcx16     -DSSE_ENABLED=1     -DSSE3_ENABLED=1     -DSSSE3_ENABLED=1         -DSSE41_ENABLED=1       -DSSE42_ENABLED=1       -DPOPCNT_ENABLED=1      -DCX16_ENABLED=1 -O3 -DNDEBUG -isysroot /Library/Developer/CommandLineTools/SDKs/MacOSX12.1.sdk -mmacosx-version-min=11.0 -fPIC -Wno-everything -MD -MT contrib/libs/cxxsupp/builtins/CMakeFiles/libs-cxxsupp-builtins.dir/multf3.c.o -MF contrib/libs/cxxsupp/builtins/CMakeFiles/libs-cxxsupp-builtins.dir/multf3.c.o.d -o contrib/libs/cxxsupp/builtins/CMakeFiles/libs-cxxsupp-builtins.dir/multf3.c.o -c /private/var/folders/0t/d3pxkghn5d920blj72_db9mr0000gn/T/pip-install-yc98cc5v/catboost_2090f1ce70344f2bb47bbf567a5d5b4a/catboost_all_src/contrib/libs/cxxsupp/builtins/multf3.c\n",
      "  \u001b[31m   \u001b[0m [45/3724] /usr/bin/clang -DCATBOOST_OPENSOURCE=yes -I/private/var/folders/0t/d3pxkghn5d920blj72_db9mr0000gn/T/pip-install-yc98cc5v/catboost_2090f1ce70344f2bb47bbf567a5d5b4a/catboost_all_src -I/private/var/folders/0t/d3pxkghn5d920blj72_db9mr0000gn/T/pip-install-yc98cc5v/catboost_2090f1ce70344f2bb47bbf567a5d5b4a/build/temp.macosx-10.9-x86_64-cpython-311 -fexceptions   -fno-common   -fcolor-diagnostics   -faligned-allocation   -fdebug-default-version=4   -ffunction-sections   -fdata-sections   -Wall   -Wextra   -Wno-parentheses   -Wno-implicit-const-int-float-conversion   -Wno-unknown-warning-option   -pipe   -D_THREAD_SAFE   -D_PTHREADS   -D_REENTRANT   -D_LARGEFILE_SOURCE   -D__STDC_CONSTANT_MACROS   -D__STDC_FORMAT_MACROS   -D__LONG_LONG_SUPPORTED  -DLIBCXX_BUILDING_LIBCXXRT -D_FILE_OFFSET_BITS=64  -m64    -msse2     -msse3     -mssse3         -msse4.1       -msse4.2       -mpopcnt      -mcx16     -DSSE_ENABLED=1     -DSSE3_ENABLED=1     -DSSSE3_ENABLED=1         -DSSE41_ENABLED=1       -DSSE42_ENABLED=1       -DPOPCNT_ENABLED=1      -DCX16_ENABLED=1 -O3 -DNDEBUG -isysroot /Library/Developer/CommandLineTools/SDKs/MacOSX12.1.sdk -mmacosx-version-min=11.0 -fPIC -Wno-everything -MD -MT contrib/libs/cxxsupp/builtins/CMakeFiles/libs-cxxsupp-builtins.dir/muloti4.c.o -MF contrib/libs/cxxsupp/builtins/CMakeFiles/libs-cxxsupp-builtins.dir/muloti4.c.o.d -o contrib/libs/cxxsupp/builtins/CMakeFiles/libs-cxxsupp-builtins.dir/muloti4.c.o -c /private/var/folders/0t/d3pxkghn5d920blj72_db9mr0000gn/T/pip-install-yc98cc5v/catboost_2090f1ce70344f2bb47bbf567a5d5b4a/catboost_all_src/contrib/libs/cxxsupp/builtins/muloti4.c\n",
      "  \u001b[31m   \u001b[0m [46/3724] /usr/bin/clang -DCATBOOST_OPENSOURCE=yes -I/private/var/folders/0t/d3pxkghn5d920blj72_db9mr0000gn/T/pip-install-yc98cc5v/catboost_2090f1ce70344f2bb47bbf567a5d5b4a/catboost_all_src -I/private/var/folders/0t/d3pxkghn5d920blj72_db9mr0000gn/T/pip-install-yc98cc5v/catboost_2090f1ce70344f2bb47bbf567a5d5b4a/build/temp.macosx-10.9-x86_64-cpython-311 -fexceptions   -fno-common   -fcolor-diagnostics   -faligned-allocation   -fdebug-default-version=4   -ffunction-sections   -fdata-sections   -Wall   -Wextra   -Wno-parentheses   -Wno-implicit-const-int-float-conversion   -Wno-unknown-warning-option   -pipe   -D_THREAD_SAFE   -D_PTHREADS   -D_REENTRANT   -D_LARGEFILE_SOURCE   -D__STDC_CONSTANT_MACROS   -D__STDC_FORMAT_MACROS   -D__LONG_LONG_SUPPORTED  -DLIBCXX_BUILDING_LIBCXXRT -D_FILE_OFFSET_BITS=64  -m64    -msse2     -msse3     -mssse3         -msse4.1       -msse4.2       -mpopcnt      -mcx16     -DSSE_ENABLED=1     -DSSE3_ENABLED=1     -DSSSE3_ENABLED=1         -DSSE41_ENABLED=1       -DSSE42_ENABLED=1       -DPOPCNT_ENABLED=1      -DCX16_ENABLED=1 -O3 -DNDEBUG -isysroot /Library/Developer/CommandLineTools/SDKs/MacOSX12.1.sdk -mmacosx-version-min=11.0 -fPIC -Wno-everything -MD -MT contrib/libs/cxxsupp/builtins/CMakeFiles/libs-cxxsupp-builtins.dir/subtf3.c.o -MF contrib/libs/cxxsupp/builtins/CMakeFiles/libs-cxxsupp-builtins.dir/subtf3.c.o.d -o contrib/libs/cxxsupp/builtins/CMakeFiles/libs-cxxsupp-builtins.dir/subtf3.c.o -c /private/var/folders/0t/d3pxkghn5d920blj72_db9mr0000gn/T/pip-install-yc98cc5v/catboost_2090f1ce70344f2bb47bbf567a5d5b4a/catboost_all_src/contrib/libs/cxxsupp/builtins/subtf3.c\n",
      "  \u001b[31m   \u001b[0m [47/3724] /usr/bin/clang -DCATBOOST_OPENSOURCE=yes -I/private/var/folders/0t/d3pxkghn5d920blj72_db9mr0000gn/T/pip-install-yc98cc5v/catboost_2090f1ce70344f2bb47bbf567a5d5b4a/catboost_all_src -I/private/var/folders/0t/d3pxkghn5d920blj72_db9mr0000gn/T/pip-install-yc98cc5v/catboost_2090f1ce70344f2bb47bbf567a5d5b4a/build/temp.macosx-10.9-x86_64-cpython-311 -fexceptions   -fno-common   -fcolor-diagnostics   -faligned-allocation   -fdebug-default-version=4   -ffunction-sections   -fdata-sections   -Wall   -Wextra   -Wno-parentheses   -Wno-implicit-const-int-float-conversion   -Wno-unknown-warning-option   -pipe   -D_THREAD_SAFE   -D_PTHREADS   -D_REENTRANT   -D_LARGEFILE_SOURCE   -D__STDC_CONSTANT_MACROS   -D__STDC_FORMAT_MACROS   -D__LONG_LONG_SUPPORTED  -DLIBCXX_BUILDING_LIBCXXRT -D_FILE_OFFSET_BITS=64  -m64    -msse2     -msse3     -mssse3         -msse4.1       -msse4.2       -mpopcnt      -mcx16     -DSSE_ENABLED=1     -DSSE3_ENABLED=1     -DSSSE3_ENABLED=1         -DSSE41_ENABLED=1       -DSSE42_ENABLED=1       -DPOPCNT_ENABLED=1      -DCX16_ENABLED=1 -O3 -DNDEBUG -isysroot /Library/Developer/CommandLineTools/SDKs/MacOSX12.1.sdk -mmacosx-version-min=11.0 -fPIC -Wno-everything -MD -MT contrib/libs/cxxsupp/builtins/CMakeFiles/libs-cxxsupp-builtins.dir/popcountdi2.c.o -MF contrib/libs/cxxsupp/builtins/CMakeFiles/libs-cxxsupp-builtins.dir/popcountdi2.c.o.d -o contrib/libs/cxxsupp/builtins/CMakeFiles/libs-cxxsupp-builtins.dir/popcountdi2.c.o -c /private/var/folders/0t/d3pxkghn5d920blj72_db9mr0000gn/T/pip-install-yc98cc5v/catboost_2090f1ce70344f2bb47bbf567a5d5b4a/catboost_all_src/contrib/libs/cxxsupp/builtins/popcountdi2.c\n",
      "  \u001b[31m   \u001b[0m [48/3724] /usr/bin/clang -DCATBOOST_OPENSOURCE=yes -I/private/var/folders/0t/d3pxkghn5d920blj72_db9mr0000gn/T/pip-install-yc98cc5v/catboost_2090f1ce70344f2bb47bbf567a5d5b4a/catboost_all_src -I/private/var/folders/0t/d3pxkghn5d920blj72_db9mr0000gn/T/pip-install-yc98cc5v/catboost_2090f1ce70344f2bb47bbf567a5d5b4a/build/temp.macosx-10.9-x86_64-cpython-311 -fexceptions   -fno-common   -fcolor-diagnostics   -faligned-allocation   -fdebug-default-version=4   -ffunction-sections   -fdata-sections   -Wall   -Wextra   -Wno-parentheses   -Wno-implicit-const-int-float-conversion   -Wno-unknown-warning-option   -pipe   -D_THREAD_SAFE   -D_PTHREADS   -D_REENTRANT   -D_LARGEFILE_SOURCE   -D__STDC_CONSTANT_MACROS   -D__STDC_FORMAT_MACROS   -D__LONG_LONG_SUPPORTED  -DLIBCXX_BUILDING_LIBCXXRT -D_FILE_OFFSET_BITS=64  -m64    -msse2     -msse3     -mssse3         -msse4.1       -msse4.2       -mpopcnt      -mcx16     -DSSE_ENABLED=1     -DSSE3_ENABLED=1     -DSSSE3_ENABLED=1         -DSSE41_ENABLED=1       -DSSE42_ENABLED=1       -DPOPCNT_ENABLED=1      -DCX16_ENABLED=1 -O3 -DNDEBUG -isysroot /Library/Developer/CommandLineTools/SDKs/MacOSX12.1.sdk -mmacosx-version-min=11.0 -fPIC -Wno-everything -MD -MT contrib/libs/cxxsupp/builtins/CMakeFiles/libs-cxxsupp-builtins.dir/gcc_personality_v0.c.o -MF contrib/libs/cxxsupp/builtins/CMakeFiles/libs-cxxsupp-builtins.dir/gcc_personality_v0.c.o.d -o contrib/libs/cxxsupp/builtins/CMakeFiles/libs-cxxsupp-builtins.dir/gcc_personality_v0.c.o -c /private/var/folders/0t/d3pxkghn5d920blj72_db9mr0000gn/T/pip-install-yc98cc5v/catboost_2090f1ce70344f2bb47bbf567a5d5b4a/catboost_all_src/contrib/libs/cxxsupp/builtins/gcc_personality_v0.c\n",
      "  \u001b[31m   \u001b[0m [49/3724] /usr/bin/clang -DCATBOOST_OPENSOURCE=yes -I/private/var/folders/0t/d3pxkghn5d920blj72_db9mr0000gn/T/pip-install-yc98cc5v/catboost_2090f1ce70344f2bb47bbf567a5d5b4a/catboost_all_src -I/private/var/folders/0t/d3pxkghn5d920blj72_db9mr0000gn/T/pip-install-yc98cc5v/catboost_2090f1ce70344f2bb47bbf567a5d5b4a/build/temp.macosx-10.9-x86_64-cpython-311 -fexceptions   -fno-common   -fcolor-diagnostics   -faligned-allocation   -fdebug-default-version=4   -ffunction-sections   -fdata-sections   -Wall   -Wextra   -Wno-parentheses   -Wno-implicit-const-int-float-conversion   -Wno-unknown-warning-option   -pipe   -D_THREAD_SAFE   -D_PTHREADS   -D_REENTRANT   -D_LARGEFILE_SOURCE   -D__STDC_CONSTANT_MACROS   -D__STDC_FORMAT_MACROS   -D__LONG_LONG_SUPPORTED  -DLIBCXX_BUILDING_LIBCXXRT -D_FILE_OFFSET_BITS=64  -m64    -msse2     -msse3     -mssse3         -msse4.1       -msse4.2       -mpopcnt      -mcx16     -DSSE_ENABLED=1     -DSSE3_ENABLED=1     -DSSSE3_ENABLED=1         -DSSE41_ENABLED=1       -DSSE42_ENABLED=1       -DPOPCNT_ENABLED=1      -DCX16_ENABLED=1 -O3 -DNDEBUG -isysroot /Library/Developer/CommandLineTools/SDKs/MacOSX12.1.sdk -mmacosx-version-min=11.0 -fPIC -Wno-everything -MD -MT contrib/libs/cxxsupp/builtins/CMakeFiles/libs-cxxsupp-builtins.dir/mulxc3.c.o -MF contrib/libs/cxxsupp/builtins/CMakeFiles/libs-cxxsupp-builtins.dir/mulxc3.c.o.d -o contrib/libs/cxxsupp/builtins/CMakeFiles/libs-cxxsupp-builtins.dir/mulxc3.c.o -c /private/var/folders/0t/d3pxkghn5d920blj72_db9mr0000gn/T/pip-install-yc98cc5v/catboost_2090f1ce70344f2bb47bbf567a5d5b4a/catboost_all_src/contrib/libs/cxxsupp/builtins/mulxc3.c\n",
      "  \u001b[31m   \u001b[0m [50/3724] /usr/bin/clang -DCATBOOST_OPENSOURCE=yes -I/private/var/folders/0t/d3pxkghn5d920blj72_db9mr0000gn/T/pip-install-yc98cc5v/catboost_2090f1ce70344f2bb47bbf567a5d5b4a/catboost_all_src -I/private/var/folders/0t/d3pxkghn5d920blj72_db9mr0000gn/T/pip-install-yc98cc5v/catboost_2090f1ce70344f2bb47bbf567a5d5b4a/build/temp.macosx-10.9-x86_64-cpython-311 -fexceptions   -fno-common   -fcolor-diagnostics   -faligned-allocation   -fdebug-default-version=4   -ffunction-sections   -fdata-sections   -Wall   -Wextra   -Wno-parentheses   -Wno-implicit-const-int-float-conversion   -Wno-unknown-warning-option   -pipe   -D_THREAD_SAFE   -D_PTHREADS   -D_REENTRANT   -D_LARGEFILE_SOURCE   -D__STDC_CONSTANT_MACROS   -D__STDC_FORMAT_MACROS   -D__LONG_LONG_SUPPORTED  -DLIBCXX_BUILDING_LIBCXXRT -D_FILE_OFFSET_BITS=64  -m64    -msse2     -msse3     -mssse3         -msse4.1       -msse4.2       -mpopcnt      -mcx16     -DSSE_ENABLED=1     -DSSE3_ENABLED=1     -DSSSE3_ENABLED=1         -DSSE41_ENABLED=1       -DSSE42_ENABLED=1       -DPOPCNT_ENABLED=1      -DCX16_ENABLED=1 -O3 -DNDEBUG -isysroot /Library/Developer/CommandLineTools/SDKs/MacOSX12.1.sdk -mmacosx-version-min=11.0 -fPIC -Wno-everything -MD -MT contrib/libs/cxxsupp/builtins/CMakeFiles/libs-cxxsupp-builtins.dir/trunctfsf2.c.o -MF contrib/libs/cxxsupp/builtins/CMakeFiles/libs-cxxsupp-builtins.dir/trunctfsf2.c.o.d -o contrib/libs/cxxsupp/builtins/CMakeFiles/libs-cxxsupp-builtins.dir/trunctfsf2.c.o -c /private/var/folders/0t/d3pxkghn5d920blj72_db9mr0000gn/T/pip-install-yc98cc5v/catboost_2090f1ce70344f2bb47bbf567a5d5b4a/catboost_all_src/contrib/libs/cxxsupp/builtins/trunctfsf2.c\n",
      "  \u001b[31m   \u001b[0m [51/3724] /usr/bin/clang -DCATBOOST_OPENSOURCE=yes -I/private/var/folders/0t/d3pxkghn5d920blj72_db9mr0000gn/T/pip-install-yc98cc5v/catboost_2090f1ce70344f2bb47bbf567a5d5b4a/catboost_all_src -I/private/var/folders/0t/d3pxkghn5d920blj72_db9mr0000gn/T/pip-install-yc98cc5v/catboost_2090f1ce70344f2bb47bbf567a5d5b4a/build/temp.macosx-10.9-x86_64-cpython-311 -fexceptions   -fno-common   -fcolor-diagnostics   -faligned-allocation   -fdebug-default-version=4   -ffunction-sections   -fdata-sections   -Wall   -Wextra   -Wno-parentheses   -Wno-implicit-const-int-float-conversion   -Wno-unknown-warning-option   -pipe   -D_THREAD_SAFE   -D_PTHREADS   -D_REENTRANT   -D_LARGEFILE_SOURCE   -D__STDC_CONSTANT_MACROS   -D__STDC_FORMAT_MACROS   -D__LONG_LONG_SUPPORTED  -DLIBCXX_BUILDING_LIBCXXRT -D_FILE_OFFSET_BITS=64  -m64    -msse2     -msse3     -mssse3         -msse4.1       -msse4.2       -mpopcnt      -mcx16     -DSSE_ENABLED=1     -DSSE3_ENABLED=1     -DSSSE3_ENABLED=1         -DSSE41_ENABLED=1       -DSSE42_ENABLED=1       -DPOPCNT_ENABLED=1      -DCX16_ENABLED=1 -O3 -DNDEBUG -isysroot /Library/Developer/CommandLineTools/SDKs/MacOSX12.1.sdk -mmacosx-version-min=11.0 -fPIC -Wno-everything -MD -MT contrib/libs/cxxsupp/builtins/CMakeFiles/libs-cxxsupp-builtins.dir/trunctfdf2.c.o -MF contrib/libs/cxxsupp/builtins/CMakeFiles/libs-cxxsupp-builtins.dir/trunctfdf2.c.o.d -o contrib/libs/cxxsupp/builtins/CMakeFiles/libs-cxxsupp-builtins.dir/trunctfdf2.c.o -c /private/var/folders/0t/d3pxkghn5d920blj72_db9mr0000gn/T/pip-install-yc98cc5v/catboost_2090f1ce70344f2bb47bbf567a5d5b4a/catboost_all_src/contrib/libs/cxxsupp/builtins/trunctfdf2.c\n",
      "  \u001b[31m   \u001b[0m [52/3724] /usr/bin/clang -DCATBOOST_OPENSOURCE=yes -I/private/var/folders/0t/d3pxkghn5d920blj72_db9mr0000gn/T/pip-install-yc98cc5v/catboost_2090f1ce70344f2bb47bbf567a5d5b4a/catboost_all_src -I/private/var/folders/0t/d3pxkghn5d920blj72_db9mr0000gn/T/pip-install-yc98cc5v/catboost_2090f1ce70344f2bb47bbf567a5d5b4a/build/temp.macosx-10.9-x86_64-cpython-311 -fexceptions   -fno-common   -fcolor-diagnostics   -faligned-allocation   -fdebug-default-version=4   -ffunction-sections   -fdata-sections   -Wall   -Wextra   -Wno-parentheses   -Wno-implicit-const-int-float-conversion   -Wno-unknown-warning-option   -pipe   -D_THREAD_SAFE   -D_PTHREADS   -D_REENTRANT   -D_LARGEFILE_SOURCE   -D__STDC_CONSTANT_MACROS   -D__STDC_FORMAT_MACROS   -D__LONG_LONG_SUPPORTED  -DLIBCXX_BUILDING_LIBCXXRT -D_FILE_OFFSET_BITS=64  -m64    -msse2     -msse3     -mssse3         -msse4.1       -msse4.2       -mpopcnt      -mcx16     -DSSE_ENABLED=1     -DSSE3_ENABLED=1     -DSSSE3_ENABLED=1         -DSSE41_ENABLED=1       -DSSE42_ENABLED=1       -DPOPCNT_ENABLED=1      -DCX16_ENABLED=1 -O3 -DNDEBUG -isysroot /Library/Developer/CommandLineTools/SDKs/MacOSX12.1.sdk -mmacosx-version-min=11.0 -fPIC -Wno-everything -MD -MT contrib/libs/cxxsupp/builtins/CMakeFiles/libs-cxxsupp-builtins.dir/udivti3.c.o -MF contrib/libs/cxxsupp/builtins/CMakeFiles/libs-cxxsupp-builtins.dir/udivti3.c.o.d -o contrib/libs/cxxsupp/builtins/CMakeFiles/libs-cxxsupp-builtins.dir/udivti3.c.o -c /private/var/folders/0t/d3pxkghn5d920blj72_db9mr0000gn/T/pip-install-yc98cc5v/catboost_2090f1ce70344f2bb47bbf567a5d5b4a/catboost_all_src/contrib/libs/cxxsupp/builtins/udivti3.c\n",
      "  \u001b[31m   \u001b[0m [53/3724] /usr/bin/clang -DCATBOOST_OPENSOURCE=yes -I/private/var/folders/0t/d3pxkghn5d920blj72_db9mr0000gn/T/pip-install-yc98cc5v/catboost_2090f1ce70344f2bb47bbf567a5d5b4a/catboost_all_src -I/private/var/folders/0t/d3pxkghn5d920blj72_db9mr0000gn/T/pip-install-yc98cc5v/catboost_2090f1ce70344f2bb47bbf567a5d5b4a/build/temp.macosx-10.9-x86_64-cpython-311 -fexceptions   -fno-common   -fcolor-diagnostics   -faligned-allocation   -fdebug-default-version=4   -ffunction-sections   -fdata-sections   -Wall   -Wextra   -Wno-parentheses   -Wno-implicit-const-int-float-conversion   -Wno-unknown-warning-option   -pipe   -D_THREAD_SAFE   -D_PTHREADS   -D_REENTRANT   -D_LARGEFILE_SOURCE   -D__STDC_CONSTANT_MACROS   -D__STDC_FORMAT_MACROS   -D__LONG_LONG_SUPPORTED  -DLIBCXX_BUILDING_LIBCXXRT -D_FILE_OFFSET_BITS=64  -m64    -msse2     -msse3     -mssse3         -msse4.1       -msse4.2       -mpopcnt      -mcx16     -DSSE_ENABLED=1     -DSSE3_ENABLED=1     -DSSSE3_ENABLED=1         -DSSE41_ENABLED=1       -DSSE42_ENABLED=1       -DPOPCNT_ENABLED=1      -DCX16_ENABLED=1 -O3 -DNDEBUG -isysroot /Library/Developer/CommandLineTools/SDKs/MacOSX12.1.sdk -mmacosx-version-min=11.0 -fPIC -Wno-everything -MD -MT contrib/libs/cxxsupp/builtins/CMakeFiles/libs-cxxsupp-builtins.dir/umodti3.c.o -MF contrib/libs/cxxsupp/builtins/CMakeFiles/libs-cxxsupp-builtins.dir/umodti3.c.o.d -o contrib/libs/cxxsupp/builtins/CMakeFiles/libs-cxxsupp-builtins.dir/umodti3.c.o -c /private/var/folders/0t/d3pxkghn5d920blj72_db9mr0000gn/T/pip-install-yc98cc5v/catboost_2090f1ce70344f2bb47bbf567a5d5b4a/catboost_all_src/contrib/libs/cxxsupp/builtins/umodti3.c\n",
      "  \u001b[31m   \u001b[0m [54/3724] /usr/bin/clang++ -DCATBOOST_OPENSOURCE=yes -I/private/var/folders/0t/d3pxkghn5d920blj72_db9mr0000gn/T/pip-install-yc98cc5v/catboost_2090f1ce70344f2bb47bbf567a5d5b4a/catboost_all_src -I/private/var/folders/0t/d3pxkghn5d920blj72_db9mr0000gn/T/pip-install-yc98cc5v/catboost_2090f1ce70344f2bb47bbf567a5d5b4a/build/temp.macosx-10.9-x86_64-cpython-311 -I/private/var/folders/0t/d3pxkghn5d920blj72_db9mr0000gn/T/pip-install-yc98cc5v/catboost_2090f1ce70344f2bb47bbf567a5d5b4a/catboost_all_src/contrib/libs/cxxsupp/libcxxabi/include -I/private/var/folders/0t/d3pxkghn5d920blj72_db9mr0000gn/T/pip-install-yc98cc5v/catboost_2090f1ce70344f2bb47bbf567a5d5b4a/catboost_all_src/contrib/libs/cxxsupp/libcxx/include -I/private/var/folders/0t/d3pxkghn5d920blj72_db9mr0000gn/T/pip-install-yc98cc5v/catboost_2090f1ce70344f2bb47bbf567a5d5b4a/catboost_all_src/contrib/libs/cxxsupp/libcxx -fexceptions   -fno-common   -fcolor-diagnostics   -faligned-allocation   -fdebug-default-version=4   -ffunction-sections   -fdata-sections   -Wall   -Wextra   -Wno-parentheses   -Wno-implicit-const-int-float-conversion   -Wno-unknown-warning-option   -pipe   -D_THREAD_SAFE   -D_PTHREADS   -D_REENTRANT   -D_LARGEFILE_SOURCE   -D__STDC_CONSTANT_MACROS   -D__STDC_FORMAT_MACROS   -D__LONG_LONG_SUPPORTED  -DLIBCXX_BUILDING_LIBCXXRT -D_FILE_OFFSET_BITS=64  -m64    -msse2     -msse3     -mssse3         -msse4.1       -msse4.2       -mpopcnt      -mcx16   -Woverloaded-virtual   -Wimport-preprocessor-directive-pedantic   -Wno-undefined-var-template   -Wno-return-std-move   -Wno-defaulted-function-deleted   -Wno-pessimizing-move   -Wno-deprecated-anon-enum-enum-conversion   -Wno-deprecated-enum-enum-conversion   -Wno-deprecated-enum-float-conversion   -Wno-ambiguous-reversed-operator   -Wno-deprecated-volatile      -DSSE_ENABLED=1     -DSSE3_ENABLED=1     -DSSSE3_ENABLED=1         -DSSE41_ENABLED=1       -DSSE42_ENABLED=1       -DPOPCNT_ENABLED=1      -DCX16_ENABLED=1 -O3 -DNDEBUG -std=c++20 -isysroot /Library/Developer/CommandLineTools/SDKs/MacOSX12.1.sdk -mmacosx-version-min=11.0 -fPIC -nostdinc++ -D_LIBCXXABI_BUILDING_LIBRARY -Wno-everything -MD -MT contrib/libs/cxxsupp/libcxxabi-parts/CMakeFiles/libs-cxxsupp-libcxxabi-parts.dir/__/libcxxabi/src/abort_message.cpp.o -MF contrib/libs/cxxsupp/libcxxabi-parts/CMakeFiles/libs-cxxsupp-libcxxabi-parts.dir/__/libcxxabi/src/abort_message.cpp.o.d -o contrib/libs/cxxsupp/libcxxabi-parts/CMakeFiles/libs-cxxsupp-libcxxabi-parts.dir/__/libcxxabi/src/abort_message.cpp.o -c /private/var/folders/0t/d3pxkghn5d920blj72_db9mr0000gn/T/pip-install-yc98cc5v/catboost_2090f1ce70344f2bb47bbf567a5d5b4a/catboost_all_src/contrib/libs/cxxsupp/libcxxabi/src/abort_message.cpp\n",
      "  \u001b[31m   \u001b[0m [55/3724] /usr/bin/clang -DCATBOOST_OPENSOURCE=yes -I/private/var/folders/0t/d3pxkghn5d920blj72_db9mr0000gn/T/pip-install-yc98cc5v/catboost_2090f1ce70344f2bb47bbf567a5d5b4a/catboost_all_src -I/private/var/folders/0t/d3pxkghn5d920blj72_db9mr0000gn/T/pip-install-yc98cc5v/catboost_2090f1ce70344f2bb47bbf567a5d5b4a/build/temp.macosx-10.9-x86_64-cpython-311 -fexceptions   -fno-common   -fcolor-diagnostics   -faligned-allocation   -fdebug-default-version=4   -ffunction-sections   -fdata-sections   -Wall   -Wextra   -Wno-parentheses   -Wno-implicit-const-int-float-conversion   -Wno-unknown-warning-option   -pipe   -D_THREAD_SAFE   -D_PTHREADS   -D_REENTRANT   -D_LARGEFILE_SOURCE   -D__STDC_CONSTANT_MACROS   -D__STDC_FORMAT_MACROS   -D__LONG_LONG_SUPPORTED  -DLIBCXX_BUILDING_LIBCXXRT -D_FILE_OFFSET_BITS=64  -m64    -msse2     -msse3     -mssse3         -msse4.1       -msse4.2       -mpopcnt      -mcx16     -DSSE_ENABLED=1     -DSSE3_ENABLED=1     -DSSSE3_ENABLED=1         -DSSE41_ENABLED=1       -DSSE42_ENABLED=1       -DPOPCNT_ENABLED=1      -DCX16_ENABLED=1 -O3 -DNDEBUG -isysroot /Library/Developer/CommandLineTools/SDKs/MacOSX12.1.sdk -mmacosx-version-min=11.0 -fPIC -Wno-everything -MD -MT contrib/libs/cxxsupp/builtins/CMakeFiles/libs-cxxsupp-builtins.dir/udivmodti4.c.o -MF contrib/libs/cxxsupp/builtins/CMakeFiles/libs-cxxsupp-builtins.dir/udivmodti4.c.o.d -o contrib/libs/cxxsupp/builtins/CMakeFiles/libs-cxxsupp-builtins.dir/udivmodti4.c.o -c /private/var/folders/0t/d3pxkghn5d920blj72_db9mr0000gn/T/pip-install-yc98cc5v/catboost_2090f1ce70344f2bb47bbf567a5d5b4a/catboost_all_src/contrib/libs/cxxsupp/builtins/udivmodti4.c\n",
      "  \u001b[31m   \u001b[0m [56/3724] /usr/bin/clang++ -DCATBOOST_OPENSOURCE=yes -I/private/var/folders/0t/d3pxkghn5d920blj72_db9mr0000gn/T/pip-install-yc98cc5v/catboost_2090f1ce70344f2bb47bbf567a5d5b4a/catboost_all_src -I/private/var/folders/0t/d3pxkghn5d920blj72_db9mr0000gn/T/pip-install-yc98cc5v/catboost_2090f1ce70344f2bb47bbf567a5d5b4a/build/temp.macosx-10.9-x86_64-cpython-311 -I/private/var/folders/0t/d3pxkghn5d920blj72_db9mr0000gn/T/pip-install-yc98cc5v/catboost_2090f1ce70344f2bb47bbf567a5d5b4a/catboost_all_src/contrib/libs/cxxsupp/libcxxrt -I/private/var/folders/0t/d3pxkghn5d920blj72_db9mr0000gn/T/pip-install-yc98cc5v/catboost_2090f1ce70344f2bb47bbf567a5d5b4a/catboost_all_src/contrib/libs/clang16-rt/include -fexceptions   -fno-common   -fcolor-diagnostics   -faligned-allocation   -fdebug-default-version=4   -ffunction-sections   -fdata-sections   -Wall   -Wextra   -Wno-parentheses   -Wno-implicit-const-int-float-conversion   -Wno-unknown-warning-option   -pipe   -D_THREAD_SAFE   -D_PTHREADS   -D_REENTRANT   -D_LARGEFILE_SOURCE   -D__STDC_CONSTANT_MACROS   -D__STDC_FORMAT_MACROS   -D__LONG_LONG_SUPPORTED  -DLIBCXX_BUILDING_LIBCXXRT -D_FILE_OFFSET_BITS=64  -m64    -msse2     -msse3     -mssse3         -msse4.1       -msse4.2       -mpopcnt      -mcx16   -Woverloaded-virtual   -Wimport-preprocessor-directive-pedantic   -Wno-undefined-var-template   -Wno-return-std-move   -Wno-defaulted-function-deleted   -Wno-pessimizing-move   -Wno-deprecated-anon-enum-enum-conversion   -Wno-deprecated-enum-enum-conversion   -Wno-deprecated-enum-float-conversion   -Wno-ambiguous-reversed-operator   -Wno-deprecated-volatile      -DSSE_ENABLED=1     -DSSE3_ENABLED=1     -DSSSE3_ENABLED=1         -DSSE41_ENABLED=1       -DSSE42_ENABLED=1       -DPOPCNT_ENABLED=1      -DCX16_ENABLED=1 -O3 -DNDEBUG -std=c++20 -isysroot /Library/Developer/CommandLineTools/SDKs/MacOSX12.1.sdk -mmacosx-version-min=11.0 -fPIC -nostdinc++ -Wno-everything -D_libunwind_ -MD -MT contrib/libs/cxxsupp/libcxxrt/CMakeFiles/libs-cxxsupp-libcxxrt.dir/auxhelper.cc.o -MF contrib/libs/cxxsupp/libcxxrt/CMakeFiles/libs-cxxsupp-libcxxrt.dir/auxhelper.cc.o.d -o contrib/libs/cxxsupp/libcxxrt/CMakeFiles/libs-cxxsupp-libcxxrt.dir/auxhelper.cc.o -c /private/var/folders/0t/d3pxkghn5d920blj72_db9mr0000gn/T/pip-install-yc98cc5v/catboost_2090f1ce70344f2bb47bbf567a5d5b4a/catboost_all_src/contrib/libs/cxxsupp/libcxxrt/auxhelper.cc\n",
      "  \u001b[31m   \u001b[0m [57/3724] /usr/bin/clang++ -DCATBOOST_OPENSOURCE=yes -I/private/var/folders/0t/d3pxkghn5d920blj72_db9mr0000gn/T/pip-install-yc98cc5v/catboost_2090f1ce70344f2bb47bbf567a5d5b4a/catboost_all_src -I/private/var/folders/0t/d3pxkghn5d920blj72_db9mr0000gn/T/pip-install-yc98cc5v/catboost_2090f1ce70344f2bb47bbf567a5d5b4a/build/temp.macosx-10.9-x86_64-cpython-311 -I/private/var/folders/0t/d3pxkghn5d920blj72_db9mr0000gn/T/pip-install-yc98cc5v/catboost_2090f1ce70344f2bb47bbf567a5d5b4a/catboost_all_src/contrib/libs/cxxsupp/libcxxrt -I/private/var/folders/0t/d3pxkghn5d920blj72_db9mr0000gn/T/pip-install-yc98cc5v/catboost_2090f1ce70344f2bb47bbf567a5d5b4a/catboost_all_src/contrib/libs/clang16-rt/include -fexceptions   -fno-common   -fcolor-diagnostics   -faligned-allocation   -fdebug-default-version=4   -ffunction-sections   -fdata-sections   -Wall   -Wextra   -Wno-parentheses   -Wno-implicit-const-int-float-conversion   -Wno-unknown-warning-option   -pipe   -D_THREAD_SAFE   -D_PTHREADS   -D_REENTRANT   -D_LARGEFILE_SOURCE   -D__STDC_CONSTANT_MACROS   -D__STDC_FORMAT_MACROS   -D__LONG_LONG_SUPPORTED  -DLIBCXX_BUILDING_LIBCXXRT -D_FILE_OFFSET_BITS=64  -m64    -msse2     -msse3     -mssse3         -msse4.1       -msse4.2       -mpopcnt      -mcx16   -Woverloaded-virtual   -Wimport-preprocessor-directive-pedantic   -Wno-undefined-var-template   -Wno-return-std-move   -Wno-defaulted-function-deleted   -Wno-pessimizing-move   -Wno-deprecated-anon-enum-enum-conversion   -Wno-deprecated-enum-enum-conversion   -Wno-deprecated-enum-float-conversion   -Wno-ambiguous-reversed-operator   -Wno-deprecated-volatile      -DSSE_ENABLED=1     -DSSE3_ENABLED=1     -DSSSE3_ENABLED=1         -DSSE41_ENABLED=1       -DSSE42_ENABLED=1       -DPOPCNT_ENABLED=1      -DCX16_ENABLED=1 -O3 -DNDEBUG -std=c++20 -isysroot /Library/Developer/CommandLineTools/SDKs/MacOSX12.1.sdk -mmacosx-version-min=11.0 -fPIC -nostdinc++ -Wno-everything -D_libunwind_ -MD -MT contrib/libs/cxxsupp/libcxxrt/CMakeFiles/libs-cxxsupp-libcxxrt.dir/dynamic_cast.cc.o -MF contrib/libs/cxxsupp/libcxxrt/CMakeFiles/libs-cxxsupp-libcxxrt.dir/dynamic_cast.cc.o.d -o contrib/libs/cxxsupp/libcxxrt/CMakeFiles/libs-cxxsupp-libcxxrt.dir/dynamic_cast.cc.o -c /private/var/folders/0t/d3pxkghn5d920blj72_db9mr0000gn/T/pip-install-yc98cc5v/catboost_2090f1ce70344f2bb47bbf567a5d5b4a/catboost_all_src/contrib/libs/cxxsupp/libcxxrt/dynamic_cast.cc\n",
      "  \u001b[31m   \u001b[0m [58/3724] /usr/bin/clang++ -DCATBOOST_OPENSOURCE=yes -I/private/var/folders/0t/d3pxkghn5d920blj72_db9mr0000gn/T/pip-install-yc98cc5v/catboost_2090f1ce70344f2bb47bbf567a5d5b4a/catboost_all_src -I/private/var/folders/0t/d3pxkghn5d920blj72_db9mr0000gn/T/pip-install-yc98cc5v/catboost_2090f1ce70344f2bb47bbf567a5d5b4a/build/temp.macosx-10.9-x86_64-cpython-311 -I/private/var/folders/0t/d3pxkghn5d920blj72_db9mr0000gn/T/pip-install-yc98cc5v/catboost_2090f1ce70344f2bb47bbf567a5d5b4a/catboost_all_src/contrib/libs/cxxsupp/libcxxrt -I/private/var/folders/0t/d3pxkghn5d920blj72_db9mr0000gn/T/pip-install-yc98cc5v/catboost_2090f1ce70344f2bb47bbf567a5d5b4a/catboost_all_src/contrib/libs/clang16-rt/include -fexceptions   -fno-common   -fcolor-diagnostics   -faligned-allocation   -fdebug-default-version=4   -ffunction-sections   -fdata-sections   -Wall   -Wextra   -Wno-parentheses   -Wno-implicit-const-int-float-conversion   -Wno-unknown-warning-option   -pipe   -D_THREAD_SAFE   -D_PTHREADS   -D_REENTRANT   -D_LARGEFILE_SOURCE   -D__STDC_CONSTANT_MACROS   -D__STDC_FORMAT_MACROS   -D__LONG_LONG_SUPPORTED  -DLIBCXX_BUILDING_LIBCXXRT -D_FILE_OFFSET_BITS=64  -m64    -msse2     -msse3     -mssse3         -msse4.1       -msse4.2       -mpopcnt      -mcx16   -Woverloaded-virtual   -Wimport-preprocessor-directive-pedantic   -Wno-undefined-var-template   -Wno-return-std-move   -Wno-defaulted-function-deleted   -Wno-pessimizing-move   -Wno-deprecated-anon-enum-enum-conversion   -Wno-deprecated-enum-enum-conversion   -Wno-deprecated-enum-float-conversion   -Wno-ambiguous-reversed-operator   -Wno-deprecated-volatile      -DSSE_ENABLED=1     -DSSE3_ENABLED=1     -DSSSE3_ENABLED=1         -DSSE41_ENABLED=1       -DSSE42_ENABLED=1       -DPOPCNT_ENABLED=1      -DCX16_ENABLED=1 -O3 -DNDEBUG -std=c++20 -isysroot /Library/Developer/CommandLineTools/SDKs/MacOSX12.1.sdk -mmacosx-version-min=11.0 -fPIC -nostdinc++ -Wno-everything -D_libunwind_ -MD -MT contrib/libs/cxxsupp/libcxxrt/CMakeFiles/libs-cxxsupp-libcxxrt.dir/guard.cc.o -MF contrib/libs/cxxsupp/libcxxrt/CMakeFiles/libs-cxxsupp-libcxxrt.dir/guard.cc.o.d -o contrib/libs/cxxsupp/libcxxrt/CMakeFiles/libs-cxxsupp-libcxxrt.dir/guard.cc.o -c /private/var/folders/0t/d3pxkghn5d920blj72_db9mr0000gn/T/pip-install-yc98cc5v/catboost_2090f1ce70344f2bb47bbf567a5d5b4a/catboost_all_src/contrib/libs/cxxsupp/libcxxrt/guard.cc\n",
      "  \u001b[31m   \u001b[0m [59/3724] /usr/bin/clang -DCATBOOST_OPENSOURCE=yes -I/private/var/folders/0t/d3pxkghn5d920blj72_db9mr0000gn/T/pip-install-yc98cc5v/catboost_2090f1ce70344f2bb47bbf567a5d5b4a/catboost_all_src -I/private/var/folders/0t/d3pxkghn5d920blj72_db9mr0000gn/T/pip-install-yc98cc5v/catboost_2090f1ce70344f2bb47bbf567a5d5b4a/build/temp.macosx-10.9-x86_64-cpython-311 -fexceptions   -fno-common   -fcolor-diagnostics   -faligned-allocation   -fdebug-default-version=4   -ffunction-sections   -fdata-sections   -Wall   -Wextra   -Wno-parentheses   -Wno-implicit-const-int-float-conversion   -Wno-unknown-warning-option   -pipe   -D_THREAD_SAFE   -D_PTHREADS   -D_REENTRANT   -D_LARGEFILE_SOURCE   -D__STDC_CONSTANT_MACROS   -D__STDC_FORMAT_MACROS   -D__LONG_LONG_SUPPORTED  -DLIBCXX_BUILDING_LIBCXXRT -D_FILE_OFFSET_BITS=64  -m64    -msse2     -msse3     -mssse3         -msse4.1       -msse4.2       -mpopcnt      -mcx16     -DSSE_ENABLED=1     -DSSE3_ENABLED=1     -DSSSE3_ENABLED=1         -DSSE41_ENABLED=1       -DSSE42_ENABLED=1       -DPOPCNT_ENABLED=1      -DCX16_ENABLED=1 -O3 -DNDEBUG -isysroot /Library/Developer/CommandLineTools/SDKs/MacOSX12.1.sdk -mmacosx-version-min=11.0 -fPIC -Wno-everything -MD -MT contrib/libs/cxxsupp/builtins/CMakeFiles/libs-cxxsupp-builtins.dir/os_version_check.c.o -MF contrib/libs/cxxsupp/builtins/CMakeFiles/libs-cxxsupp-builtins.dir/os_version_check.c.o.d -o contrib/libs/cxxsupp/builtins/CMakeFiles/libs-cxxsupp-builtins.dir/os_version_check.c.o -c /private/var/folders/0t/d3pxkghn5d920blj72_db9mr0000gn/T/pip-install-yc98cc5v/catboost_2090f1ce70344f2bb47bbf567a5d5b4a/catboost_all_src/contrib/libs/cxxsupp/builtins/os_version_check.c\n",
      "  \u001b[31m   \u001b[0m [60/3724] /usr/bin/clang++ -DCATBOOST_OPENSOURCE=yes -I/private/var/folders/0t/d3pxkghn5d920blj72_db9mr0000gn/T/pip-install-yc98cc5v/catboost_2090f1ce70344f2bb47bbf567a5d5b4a/catboost_all_src -I/private/var/folders/0t/d3pxkghn5d920blj72_db9mr0000gn/T/pip-install-yc98cc5v/catboost_2090f1ce70344f2bb47bbf567a5d5b4a/build/temp.macosx-10.9-x86_64-cpython-311 -I/private/var/folders/0t/d3pxkghn5d920blj72_db9mr0000gn/T/pip-install-yc98cc5v/catboost_2090f1ce70344f2bb47bbf567a5d5b4a/catboost_all_src/contrib/libs/cxxsupp/libcxxrt -I/private/var/folders/0t/d3pxkghn5d920blj72_db9mr0000gn/T/pip-install-yc98cc5v/catboost_2090f1ce70344f2bb47bbf567a5d5b4a/catboost_all_src/contrib/libs/clang16-rt/include -fexceptions   -fno-common   -fcolor-diagnostics   -faligned-allocation   -fdebug-default-version=4   -ffunction-sections   -fdata-sections   -Wall   -Wextra   -Wno-parentheses   -Wno-implicit-const-int-float-conversion   -Wno-unknown-warning-option   -pipe   -D_THREAD_SAFE   -D_PTHREADS   -D_REENTRANT   -D_LARGEFILE_SOURCE   -D__STDC_CONSTANT_MACROS   -D__STDC_FORMAT_MACROS   -D__LONG_LONG_SUPPORTED  -DLIBCXX_BUILDING_LIBCXXRT -D_FILE_OFFSET_BITS=64  -m64    -msse2     -msse3     -mssse3         -msse4.1       -msse4.2       -mpopcnt      -mcx16   -Woverloaded-virtual   -Wimport-preprocessor-directive-pedantic   -Wno-undefined-var-template   -Wno-return-std-move   -Wno-defaulted-function-deleted   -Wno-pessimizing-move   -Wno-deprecated-anon-enum-enum-conversion   -Wno-deprecated-enum-enum-conversion   -Wno-deprecated-enum-float-conversion   -Wno-ambiguous-reversed-operator   -Wno-deprecated-volatile      -DSSE_ENABLED=1     -DSSE3_ENABLED=1     -DSSSE3_ENABLED=1         -DSSE41_ENABLED=1       -DSSE42_ENABLED=1       -DPOPCNT_ENABLED=1      -DCX16_ENABLED=1 -O3 -DNDEBUG -std=c++20 -isysroot /Library/Developer/CommandLineTools/SDKs/MacOSX12.1.sdk -mmacosx-version-min=11.0 -fPIC -nostdinc++ -Wno-everything -D_libunwind_ -MD -MT contrib/libs/cxxsupp/libcxxrt/CMakeFiles/libs-cxxsupp-libcxxrt.dir/memory.cc.o -MF contrib/libs/cxxsupp/libcxxrt/CMakeFiles/libs-cxxsupp-libcxxrt.dir/memory.cc.o.d -o contrib/libs/cxxsupp/libcxxrt/CMakeFiles/libs-cxxsupp-libcxxrt.dir/memory.cc.o -c /private/var/folders/0t/d3pxkghn5d920blj72_db9mr0000gn/T/pip-install-yc98cc5v/catboost_2090f1ce70344f2bb47bbf567a5d5b4a/catboost_all_src/contrib/libs/cxxsupp/libcxxrt/memory.cc\n",
      "  \u001b[31m   \u001b[0m [61/3724] /usr/bin/clang++ -DCATBOOST_OPENSOURCE=yes -I/private/var/folders/0t/d3pxkghn5d920blj72_db9mr0000gn/T/pip-install-yc98cc5v/catboost_2090f1ce70344f2bb47bbf567a5d5b4a/catboost_all_src -I/private/var/folders/0t/d3pxkghn5d920blj72_db9mr0000gn/T/pip-install-yc98cc5v/catboost_2090f1ce70344f2bb47bbf567a5d5b4a/build/temp.macosx-10.9-x86_64-cpython-311 -I/private/var/folders/0t/d3pxkghn5d920blj72_db9mr0000gn/T/pip-install-yc98cc5v/catboost_2090f1ce70344f2bb47bbf567a5d5b4a/catboost_all_src/contrib/libs/cxxsupp/libcxxrt -I/private/var/folders/0t/d3pxkghn5d920blj72_db9mr0000gn/T/pip-install-yc98cc5v/catboost_2090f1ce70344f2bb47bbf567a5d5b4a/catboost_all_src/contrib/libs/clang16-rt/include -fexceptions   -fno-common   -fcolor-diagnostics   -faligned-allocation   -fdebug-default-version=4   -ffunction-sections   -fdata-sections   -Wall   -Wextra   -Wno-parentheses   -Wno-implicit-const-int-float-conversion   -Wno-unknown-warning-option   -pipe   -D_THREAD_SAFE   -D_PTHREADS   -D_REENTRANT   -D_LARGEFILE_SOURCE   -D__STDC_CONSTANT_MACROS   -D__STDC_FORMAT_MACROS   -D__LONG_LONG_SUPPORTED  -DLIBCXX_BUILDING_LIBCXXRT -D_FILE_OFFSET_BITS=64  -m64    -msse2     -msse3     -mssse3         -msse4.1       -msse4.2       -mpopcnt      -mcx16   -Woverloaded-virtual   -Wimport-preprocessor-directive-pedantic   -Wno-undefined-var-template   -Wno-return-std-move   -Wno-defaulted-function-deleted   -Wno-pessimizing-move   -Wno-deprecated-anon-enum-enum-conversion   -Wno-deprecated-enum-enum-conversion   -Wno-deprecated-enum-float-conversion   -Wno-ambiguous-reversed-operator   -Wno-deprecated-volatile      -DSSE_ENABLED=1     -DSSE3_ENABLED=1     -DSSSE3_ENABLED=1         -DSSE41_ENABLED=1       -DSSE42_ENABLED=1       -DPOPCNT_ENABLED=1      -DCX16_ENABLED=1 -O3 -DNDEBUG -std=c++20 -isysroot /Library/Developer/CommandLineTools/SDKs/MacOSX12.1.sdk -mmacosx-version-min=11.0 -fPIC -nostdinc++ -Wno-everything -D_libunwind_ -MD -MT contrib/libs/cxxsupp/libcxxrt/CMakeFiles/libs-cxxsupp-libcxxrt.dir/stdexcept.cc.o -MF contrib/libs/cxxsupp/libcxxrt/CMakeFiles/libs-cxxsupp-libcxxrt.dir/stdexcept.cc.o.d -o contrib/libs/cxxsupp/libcxxrt/CMakeFiles/libs-cxxsupp-libcxxrt.dir/stdexcept.cc.o -c /private/var/folders/0t/d3pxkghn5d920blj72_db9mr0000gn/T/pip-install-yc98cc5v/catboost_2090f1ce70344f2bb47bbf567a5d5b4a/catboost_all_src/contrib/libs/cxxsupp/libcxxrt/stdexcept.cc\n",
      "  \u001b[31m   \u001b[0m [62/3724] /usr/bin/clang++ -DCATBOOST_OPENSOURCE=yes -I/private/var/folders/0t/d3pxkghn5d920blj72_db9mr0000gn/T/pip-install-yc98cc5v/catboost_2090f1ce70344f2bb47bbf567a5d5b4a/catboost_all_src -I/private/var/folders/0t/d3pxkghn5d920blj72_db9mr0000gn/T/pip-install-yc98cc5v/catboost_2090f1ce70344f2bb47bbf567a5d5b4a/build/temp.macosx-10.9-x86_64-cpython-311 -I/private/var/folders/0t/d3pxkghn5d920blj72_db9mr0000gn/T/pip-install-yc98cc5v/catboost_2090f1ce70344f2bb47bbf567a5d5b4a/catboost_all_src/contrib/libs/cxxsupp/libcxxrt -I/private/var/folders/0t/d3pxkghn5d920blj72_db9mr0000gn/T/pip-install-yc98cc5v/catboost_2090f1ce70344f2bb47bbf567a5d5b4a/catboost_all_src/contrib/libs/clang16-rt/include -fexceptions   -fno-common   -fcolor-diagnostics   -faligned-allocation   -fdebug-default-version=4   -ffunction-sections   -fdata-sections   -Wall   -Wextra   -Wno-parentheses   -Wno-implicit-const-int-float-conversion   -Wno-unknown-warning-option   -pipe   -D_THREAD_SAFE   -D_PTHREADS   -D_REENTRANT   -D_LARGEFILE_SOURCE   -D__STDC_CONSTANT_MACROS   -D__STDC_FORMAT_MACROS   -D__LONG_LONG_SUPPORTED  -DLIBCXX_BUILDING_LIBCXXRT -D_FILE_OFFSET_BITS=64  -m64    -msse2     -msse3     -mssse3         -msse4.1       -msse4.2       -mpopcnt      -mcx16   -Woverloaded-virtual   -Wimport-preprocessor-directive-pedantic   -Wno-undefined-var-template   -Wno-return-std-move   -Wno-defaulted-function-deleted   -Wno-pessimizing-move   -Wno-deprecated-anon-enum-enum-conversion   -Wno-deprecated-enum-enum-conversion   -Wno-deprecated-enum-float-conversion   -Wno-ambiguous-reversed-operator   -Wno-deprecated-volatile      -DSSE_ENABLED=1     -DSSE3_ENABLED=1     -DSSSE3_ENABLED=1         -DSSE41_ENABLED=1       -DSSE42_ENABLED=1       -DPOPCNT_ENABLED=1      -DCX16_ENABLED=1 -O3 -DNDEBUG -std=c++20 -isysroot /Library/Developer/CommandLineTools/SDKs/MacOSX12.1.sdk -mmacosx-version-min=11.0 -fPIC -nostdinc++ -Wno-everything -D_libunwind_ -MD -MT contrib/libs/cxxsupp/libcxxrt/CMakeFiles/libs-cxxsupp-libcxxrt.dir/typeinfo.cc.o -MF contrib/libs/cxxsupp/libcxxrt/CMakeFiles/libs-cxxsupp-libcxxrt.dir/typeinfo.cc.o.d -o contrib/libs/cxxsupp/libcxxrt/CMakeFiles/libs-cxxsupp-libcxxrt.dir/typeinfo.cc.o -c /private/var/folders/0t/d3pxkghn5d920blj72_db9mr0000gn/T/pip-install-yc98cc5v/catboost_2090f1ce70344f2bb47bbf567a5d5b4a/catboost_all_src/contrib/libs/cxxsupp/libcxxrt/typeinfo.cc\n",
      "  \u001b[31m   \u001b[0m [63/3724] : && /usr/local/Cellar/cmake/3.30.0/bin/cmake -E rm -f contrib/libs/cxxsupp/builtins/liblibs-cxxsupp-builtins.a && /usr/bin/ar qc contrib/libs/cxxsupp/builtins/liblibs-cxxsupp-builtins.a  contrib/libs/cxxsupp/builtins/CMakeFiles/libs-cxxsupp-builtins.dir/addtf3.c.o contrib/libs/cxxsupp/builtins/CMakeFiles/libs-cxxsupp-builtins.dir/ashlti3.c.o contrib/libs/cxxsupp/builtins/CMakeFiles/libs-cxxsupp-builtins.dir/clzti2.c.o contrib/libs/cxxsupp/builtins/CMakeFiles/libs-cxxsupp-builtins.dir/comparetf2.c.o contrib/libs/cxxsupp/builtins/CMakeFiles/libs-cxxsupp-builtins.dir/divdc3.c.o contrib/libs/cxxsupp/builtins/CMakeFiles/libs-cxxsupp-builtins.dir/divsc3.c.o contrib/libs/cxxsupp/builtins/CMakeFiles/libs-cxxsupp-builtins.dir/divtf3.c.o contrib/libs/cxxsupp/builtins/CMakeFiles/libs-cxxsupp-builtins.dir/divti3.c.o contrib/libs/cxxsupp/builtins/CMakeFiles/libs-cxxsupp-builtins.dir/divxc3.c.o contrib/libs/cxxsupp/builtins/CMakeFiles/libs-cxxsupp-builtins.dir/extenddftf2.c.o contrib/libs/cxxsupp/builtins/CMakeFiles/libs-cxxsupp-builtins.dir/extendsftf2.c.o contrib/libs/cxxsupp/builtins/CMakeFiles/libs-cxxsupp-builtins.dir/fixdfti.c.o contrib/libs/cxxsupp/builtins/CMakeFiles/libs-cxxsupp-builtins.dir/fixsfti.c.o contrib/libs/cxxsupp/builtins/CMakeFiles/libs-cxxsupp-builtins.dir/fixtfdi.c.o contrib/libs/cxxsupp/builtins/CMakeFiles/libs-cxxsupp-builtins.dir/fixtfsi.c.o contrib/libs/cxxsupp/builtins/CMakeFiles/libs-cxxsupp-builtins.dir/fixunsdfti.c.o contrib/libs/cxxsupp/builtins/CMakeFiles/libs-cxxsupp-builtins.dir/fixunssfti.c.o contrib/libs/cxxsupp/builtins/CMakeFiles/libs-cxxsupp-builtins.dir/fixunstfdi.c.o contrib/libs/cxxsupp/builtins/CMakeFiles/libs-cxxsupp-builtins.dir/fixunstfsi.c.o contrib/libs/cxxsupp/builtins/CMakeFiles/libs-cxxsupp-builtins.dir/fixunstfti.c.o contrib/libs/cxxsupp/builtins/CMakeFiles/libs-cxxsupp-builtins.dir/fixunsxfti.c.o contrib/libs/cxxsupp/builtins/CMakeFiles/libs-cxxsupp-builtins.dir/floatditf.c.o contrib/libs/cxxsupp/builtins/CMakeFiles/libs-cxxsupp-builtins.dir/floatsitf.c.o contrib/libs/cxxsupp/builtins/CMakeFiles/libs-cxxsupp-builtins.dir/floattidf.c.o contrib/libs/cxxsupp/builtins/CMakeFiles/libs-cxxsupp-builtins.dir/floattisf.c.o contrib/libs/cxxsupp/builtins/CMakeFiles/libs-cxxsupp-builtins.dir/floattixf.c.o contrib/libs/cxxsupp/builtins/CMakeFiles/libs-cxxsupp-builtins.dir/floatunditf.c.o contrib/libs/cxxsupp/builtins/CMakeFiles/libs-cxxsupp-builtins.dir/floatunsitf.c.o contrib/libs/cxxsupp/builtins/CMakeFiles/libs-cxxsupp-builtins.dir/floatuntidf.c.o contrib/libs/cxxsupp/builtins/CMakeFiles/libs-cxxsupp-builtins.dir/floatuntisf.c.o contrib/libs/cxxsupp/builtins/CMakeFiles/libs-cxxsupp-builtins.dir/gcc_personality_v0.c.o contrib/libs/cxxsupp/builtins/CMakeFiles/libs-cxxsupp-builtins.dir/int_util.c.o contrib/libs/cxxsupp/builtins/CMakeFiles/libs-cxxsupp-builtins.dir/lshrti3.c.o contrib/libs/cxxsupp/builtins/CMakeFiles/libs-cxxsupp-builtins.dir/modti3.c.o contrib/libs/cxxsupp/builtins/CMakeFiles/libs-cxxsupp-builtins.dir/muldc3.c.o contrib/libs/cxxsupp/builtins/CMakeFiles/libs-cxxsupp-builtins.dir/muloti4.c.o contrib/libs/cxxsupp/builtins/CMakeFiles/libs-cxxsupp-builtins.dir/mulsc3.c.o contrib/libs/cxxsupp/builtins/CMakeFiles/libs-cxxsupp-builtins.dir/multf3.c.o contrib/libs/cxxsupp/builtins/CMakeFiles/libs-cxxsupp-builtins.dir/mulxc3.c.o contrib/libs/cxxsupp/builtins/CMakeFiles/libs-cxxsupp-builtins.dir/popcountdi2.c.o contrib/libs/cxxsupp/builtins/CMakeFiles/libs-cxxsupp-builtins.dir/subtf3.c.o contrib/libs/cxxsupp/builtins/CMakeFiles/libs-cxxsupp-builtins.dir/trunctfdf2.c.o contrib/libs/cxxsupp/builtins/CMakeFiles/libs-cxxsupp-builtins.dir/trunctfsf2.c.o contrib/libs/cxxsupp/builtins/CMakeFiles/libs-cxxsupp-builtins.dir/udivmodti4.c.o contrib/libs/cxxsupp/builtins/CMakeFiles/libs-cxxsupp-builtins.dir/udivti3.c.o contrib/libs/cxxsupp/builtins/CMakeFiles/libs-cxxsupp-builtins.dir/umodti3.c.o contrib/libs/cxxsupp/builtins/CMakeFiles/libs-cxxsupp-builtins.dir/os_version_check.c.o && /usr/bin/ranlib contrib/libs/cxxsupp/builtins/liblibs-cxxsupp-builtins.a && /usr/local/Cellar/cmake/3.30.0/bin/cmake -E touch contrib/libs/cxxsupp/builtins/liblibs-cxxsupp-builtins.a && :\n",
      "  \u001b[31m   \u001b[0m /Library/Developer/CommandLineTools/usr/bin/ranlib: file: contrib/libs/cxxsupp/builtins/liblibs-cxxsupp-builtins.a(addtf3.c.o) has no symbols\n",
      "  \u001b[31m   \u001b[0m /Library/Developer/CommandLineTools/usr/bin/ranlib: file: contrib/libs/cxxsupp/builtins/liblibs-cxxsupp-builtins.a(comparetf2.c.o) has no symbols\n",
      "  \u001b[31m   \u001b[0m /Library/Developer/CommandLineTools/usr/bin/ranlib: file: contrib/libs/cxxsupp/builtins/liblibs-cxxsupp-builtins.a(divtf3.c.o) has no symbols\n",
      "  \u001b[31m   \u001b[0m /Library/Developer/CommandLineTools/usr/bin/ranlib: file: contrib/libs/cxxsupp/builtins/liblibs-cxxsupp-builtins.a(extenddftf2.c.o) has no symbols\n",
      "  \u001b[31m   \u001b[0m /Library/Developer/CommandLineTools/usr/bin/ranlib: file: contrib/libs/cxxsupp/builtins/liblibs-cxxsupp-builtins.a(extendsftf2.c.o) has no symbols\n",
      "  \u001b[31m   \u001b[0m /Library/Developer/CommandLineTools/usr/bin/ranlib: file: contrib/libs/cxxsupp/builtins/liblibs-cxxsupp-builtins.a(fixtfdi.c.o) has no symbols\n",
      "  \u001b[31m   \u001b[0m /Library/Developer/CommandLineTools/usr/bin/ranlib: file: contrib/libs/cxxsupp/builtins/liblibs-cxxsupp-builtins.a(fixtfsi.c.o) has no symbols\n",
      "  \u001b[31m   \u001b[0m /Library/Developer/CommandLineTools/usr/bin/ranlib: file: contrib/libs/cxxsupp/builtins/liblibs-cxxsupp-builtins.a(fixunstfdi.c.o) has no symbols\n",
      "  \u001b[31m   \u001b[0m /Library/Developer/CommandLineTools/usr/bin/ranlib: file: contrib/libs/cxxsupp/builtins/liblibs-cxxsupp-builtins.a(fixunstfsi.c.o) has no symbols\n",
      "  \u001b[31m   \u001b[0m /Library/Developer/CommandLineTools/usr/bin/ranlib: file: contrib/libs/cxxsupp/builtins/liblibs-cxxsupp-builtins.a(fixunstfti.c.o) has no symbols\n",
      "  \u001b[31m   \u001b[0m /Library/Developer/CommandLineTools/usr/bin/ranlib: file: contrib/libs/cxxsupp/builtins/liblibs-cxxsupp-builtins.a(floatditf.c.o) has no symbols\n",
      "  \u001b[31m   \u001b[0m /Library/Developer/CommandLineTools/usr/bin/ranlib: file: contrib/libs/cxxsupp/builtins/liblibs-cxxsupp-builtins.a(floatsitf.c.o) has no symbols\n",
      "  \u001b[31m   \u001b[0m /Library/Developer/CommandLineTools/usr/bin/ranlib: file: contrib/libs/cxxsupp/builtins/liblibs-cxxsupp-builtins.a(floatunditf.c.o) has no symbols\n",
      "  \u001b[31m   \u001b[0m /Library/Developer/CommandLineTools/usr/bin/ranlib: file: contrib/libs/cxxsupp/builtins/liblibs-cxxsupp-builtins.a(floatunsitf.c.o) has no symbols\n",
      "  \u001b[31m   \u001b[0m /Library/Developer/CommandLineTools/usr/bin/ranlib: file: contrib/libs/cxxsupp/builtins/liblibs-cxxsupp-builtins.a(multf3.c.o) has no symbols\n",
      "  \u001b[31m   \u001b[0m /Library/Developer/CommandLineTools/usr/bin/ranlib: file: contrib/libs/cxxsupp/builtins/liblibs-cxxsupp-builtins.a(subtf3.c.o) has no symbols\n",
      "  \u001b[31m   \u001b[0m /Library/Developer/CommandLineTools/usr/bin/ranlib: file: contrib/libs/cxxsupp/builtins/liblibs-cxxsupp-builtins.a(trunctfdf2.c.o) has no symbols\n",
      "  \u001b[31m   \u001b[0m /Library/Developer/CommandLineTools/usr/bin/ranlib: file: contrib/libs/cxxsupp/builtins/liblibs-cxxsupp-builtins.a(trunctfsf2.c.o) has no symbols\n",
      "  \u001b[31m   \u001b[0m /Library/Developer/CommandLineTools/usr/bin/ranlib: file: contrib/libs/cxxsupp/builtins/liblibs-cxxsupp-builtins.a(addtf3.c.o) has no symbols\n",
      "  \u001b[31m   \u001b[0m /Library/Developer/CommandLineTools/usr/bin/ranlib: file: contrib/libs/cxxsupp/builtins/liblibs-cxxsupp-builtins.a(comparetf2.c.o) has no symbols\n",
      "  \u001b[31m   \u001b[0m /Library/Developer/CommandLineTools/usr/bin/ranlib: file: contrib/libs/cxxsupp/builtins/liblibs-cxxsupp-builtins.a(divtf3.c.o) has no symbols\n",
      "  \u001b[31m   \u001b[0m /Library/Developer/CommandLineTools/usr/bin/ranlib: file: contrib/libs/cxxsupp/builtins/liblibs-cxxsupp-builtins.a(extenddftf2.c.o) has no symbols\n",
      "  \u001b[31m   \u001b[0m /Library/Developer/CommandLineTools/usr/bin/ranlib: file: contrib/libs/cxxsupp/builtins/liblibs-cxxsupp-builtins.a(extendsftf2.c.o) has no symbols\n",
      "  \u001b[31m   \u001b[0m /Library/Developer/CommandLineTools/usr/bin/ranlib: file: contrib/libs/cxxsupp/builtins/liblibs-cxxsupp-builtins.a(fixtfdi.c.o) has no symbols\n",
      "  \u001b[31m   \u001b[0m /Library/Developer/CommandLineTools/usr/bin/ranlib: file: contrib/libs/cxxsupp/builtins/liblibs-cxxsupp-builtins.a(fixtfsi.c.o) has no symbols\n",
      "  \u001b[31m   \u001b[0m /Library/Developer/CommandLineTools/usr/bin/ranlib: file: contrib/libs/cxxsupp/builtins/liblibs-cxxsupp-builtins.a(fixunstfdi.c.o) has no symbols\n",
      "  \u001b[31m   \u001b[0m /Library/Developer/CommandLineTools/usr/bin/ranlib: file: contrib/libs/cxxsupp/builtins/liblibs-cxxsupp-builtins.a(fixunstfsi.c.o) has no symbols\n",
      "  \u001b[31m   \u001b[0m /Library/Developer/CommandLineTools/usr/bin/ranlib: file: contrib/libs/cxxsupp/builtins/liblibs-cxxsupp-builtins.a(fixunstfti.c.o) has no symbols\n",
      "  \u001b[31m   \u001b[0m /Library/Developer/CommandLineTools/usr/bin/ranlib: file: contrib/libs/cxxsupp/builtins/liblibs-cxxsupp-builtins.a(floatditf.c.o) has no symbols\n",
      "  \u001b[31m   \u001b[0m /Library/Developer/CommandLineTools/usr/bin/ranlib: file: contrib/libs/cxxsupp/builtins/liblibs-cxxsupp-builtins.a(floatsitf.c.o) has no symbols\n",
      "  \u001b[31m   \u001b[0m /Library/Developer/CommandLineTools/usr/bin/ranlib: file: contrib/libs/cxxsupp/builtins/liblibs-cxxsupp-builtins.a(floatunditf.c.o) has no symbols\n",
      "  \u001b[31m   \u001b[0m /Library/Developer/CommandLineTools/usr/bin/ranlib: file: contrib/libs/cxxsupp/builtins/liblibs-cxxsupp-builtins.a(floatunsitf.c.o) has no symbols\n",
      "  \u001b[31m   \u001b[0m /Library/Developer/CommandLineTools/usr/bin/ranlib: file: contrib/libs/cxxsupp/builtins/liblibs-cxxsupp-builtins.a(multf3.c.o) has no symbols\n",
      "  \u001b[31m   \u001b[0m /Library/Developer/CommandLineTools/usr/bin/ranlib: file: contrib/libs/cxxsupp/builtins/liblibs-cxxsupp-builtins.a(subtf3.c.o) has no symbols\n",
      "  \u001b[31m   \u001b[0m /Library/Developer/CommandLineTools/usr/bin/ranlib: file: contrib/libs/cxxsupp/builtins/liblibs-cxxsupp-builtins.a(trunctfdf2.c.o) has no symbols\n",
      "  \u001b[31m   \u001b[0m /Library/Developer/CommandLineTools/usr/bin/ranlib: file: contrib/libs/cxxsupp/builtins/liblibs-cxxsupp-builtins.a(trunctfsf2.c.o) has no symbols\n",
      "  \u001b[31m   \u001b[0m [64/3724] /usr/bin/clang++ -DCATBOOST_OPENSOURCE=yes -I/private/var/folders/0t/d3pxkghn5d920blj72_db9mr0000gn/T/pip-install-yc98cc5v/catboost_2090f1ce70344f2bb47bbf567a5d5b4a/catboost_all_src -I/private/var/folders/0t/d3pxkghn5d920blj72_db9mr0000gn/T/pip-install-yc98cc5v/catboost_2090f1ce70344f2bb47bbf567a5d5b4a/build/temp.macosx-10.9-x86_64-cpython-311 -I/private/var/folders/0t/d3pxkghn5d920blj72_db9mr0000gn/T/pip-install-yc98cc5v/catboost_2090f1ce70344f2bb47bbf567a5d5b4a/catboost_all_src/contrib/libs/cxxsupp/libcxxabi/include -I/private/var/folders/0t/d3pxkghn5d920blj72_db9mr0000gn/T/pip-install-yc98cc5v/catboost_2090f1ce70344f2bb47bbf567a5d5b4a/catboost_all_src/contrib/libs/cxxsupp/libcxx/include -I/private/var/folders/0t/d3pxkghn5d920blj72_db9mr0000gn/T/pip-install-yc98cc5v/catboost_2090f1ce70344f2bb47bbf567a5d5b4a/catboost_all_src/contrib/libs/cxxsupp/libcxx -fexceptions   -fno-common   -fcolor-diagnostics   -faligned-allocation   -fdebug-default-version=4   -ffunction-sections   -fdata-sections   -Wall   -Wextra   -Wno-parentheses   -Wno-implicit-const-int-float-conversion   -Wno-unknown-warning-option   -pipe   -D_THREAD_SAFE   -D_PTHREADS   -D_REENTRANT   -D_LARGEFILE_SOURCE   -D__STDC_CONSTANT_MACROS   -D__STDC_FORMAT_MACROS   -D__LONG_LONG_SUPPORTED  -DLIBCXX_BUILDING_LIBCXXRT -D_FILE_OFFSET_BITS=64  -m64    -msse2     -msse3     -mssse3         -msse4.1       -msse4.2       -mpopcnt      -mcx16   -Woverloaded-virtual   -Wimport-preprocessor-directive-pedantic   -Wno-undefined-var-template   -Wno-return-std-move   -Wno-defaulted-function-deleted   -Wno-pessimizing-move   -Wno-deprecated-anon-enum-enum-conversion   -Wno-deprecated-enum-enum-conversion   -Wno-deprecated-enum-float-conversion   -Wno-ambiguous-reversed-operator   -Wno-deprecated-volatile      -DSSE_ENABLED=1     -DSSE3_ENABLED=1     -DSSSE3_ENABLED=1         -DSSE41_ENABLED=1       -DSSE42_ENABLED=1       -DPOPCNT_ENABLED=1      -DCX16_ENABLED=1 -O3 -DNDEBUG -std=c++20 -isysroot /Library/Developer/CommandLineTools/SDKs/MacOSX12.1.sdk -mmacosx-version-min=11.0 -fPIC -nostdinc++ -D_LIBCXXABI_BUILDING_LIBRARY -Wno-everything -fPIC -fno-lto -MD -MT contrib/libs/cxxsupp/libcxxabi-parts/CMakeFiles/libs-cxxsupp-libcxxabi-parts.dir/__/libcxxabi/src/cxa_thread_atexit.cpp.o -MF contrib/libs/cxxsupp/libcxxabi-parts/CMakeFiles/libs-cxxsupp-libcxxabi-parts.dir/__/libcxxabi/src/cxa_thread_atexit.cpp.o.d -o contrib/libs/cxxsupp/libcxxabi-parts/CMakeFiles/libs-cxxsupp-libcxxabi-parts.dir/__/libcxxabi/src/cxa_thread_atexit.cpp.o -c /private/var/folders/0t/d3pxkghn5d920blj72_db9mr0000gn/T/pip-install-yc98cc5v/catboost_2090f1ce70344f2bb47bbf567a5d5b4a/catboost_all_src/contrib/libs/cxxsupp/libcxxabi/src/cxa_thread_atexit.cpp\n",
      "  \u001b[31m   \u001b[0m [65/3724] /usr/bin/clang++ -DCATBOOST_OPENSOURCE=yes -I/private/var/folders/0t/d3pxkghn5d920blj72_db9mr0000gn/T/pip-install-yc98cc5v/catboost_2090f1ce70344f2bb47bbf567a5d5b4a/catboost_all_src -I/private/var/folders/0t/d3pxkghn5d920blj72_db9mr0000gn/T/pip-install-yc98cc5v/catboost_2090f1ce70344f2bb47bbf567a5d5b4a/build/temp.macosx-10.9-x86_64-cpython-311 -I/private/var/folders/0t/d3pxkghn5d920blj72_db9mr0000gn/T/pip-install-yc98cc5v/catboost_2090f1ce70344f2bb47bbf567a5d5b4a/catboost_all_src/contrib/libs/cxxsupp/libcxx/include -I/private/var/folders/0t/d3pxkghn5d920blj72_db9mr0000gn/T/pip-install-yc98cc5v/catboost_2090f1ce70344f2bb47bbf567a5d5b4a/catboost_all_src/contrib/libs/cxxsupp/libcxxrt/include -I/private/var/folders/0t/d3pxkghn5d920blj72_db9mr0000gn/T/pip-install-yc98cc5v/catboost_2090f1ce70344f2bb47bbf567a5d5b4a/catboost_all_src/contrib/libs/cxxsupp/libcxx/src -I/private/var/folders/0t/d3pxkghn5d920blj72_db9mr0000gn/T/pip-install-yc98cc5v/catboost_2090f1ce70344f2bb47bbf567a5d5b4a/catboost_all_src/contrib/libs/clang16-rt/include -fexceptions   -fno-common   -fcolor-diagnostics   -faligned-allocation   -fdebug-default-version=4   -ffunction-sections   -fdata-sections   -Wall   -Wextra   -Wno-parentheses   -Wno-implicit-const-int-float-conversion   -Wno-unknown-warning-option   -pipe   -D_THREAD_SAFE   -D_PTHREADS   -D_REENTRANT   -D_LARGEFILE_SOURCE   -D__STDC_CONSTANT_MACROS   -D__STDC_FORMAT_MACROS   -D__LONG_LONG_SUPPORTED  -DLIBCXX_BUILDING_LIBCXXRT -D_FILE_OFFSET_BITS=64  -m64    -msse2     -msse3     -mssse3         -msse4.1       -msse4.2       -mpopcnt      -mcx16   -Woverloaded-virtual   -Wimport-preprocessor-directive-pedantic   -Wno-undefined-var-template   -Wno-return-std-move   -Wno-defaulted-function-deleted   -Wno-pessimizing-move   -Wno-deprecated-anon-enum-enum-conversion   -Wno-deprecated-enum-enum-conversion   -Wno-deprecated-enum-float-conversion   -Wno-ambiguous-reversed-operator   -Wno-deprecated-volatile      -DSSE_ENABLED=1     -DSSE3_ENABLED=1     -DSSSE3_ENABLED=1         -DSSE41_ENABLED=1       -DSSE42_ENABLED=1       -DPOPCNT_ENABLED=1      -DCX16_ENABLED=1 -O3 -DNDEBUG -std=c++20 -isysroot /Library/Developer/CommandLineTools/SDKs/MacOSX12.1.sdk -mmacosx-version-min=11.0 -fPIC -DLIBCXX_BUILDING_LIBCXXRT -nostdinc++ -D_LIBCPP_BUILDING_LIBRARY -Wno-everything -D_libunwind_ -MD -MT contrib/libs/cxxsupp/libcxx/CMakeFiles/libs-cxxsupp-libcxx.dir/src/any.cpp.o -MF contrib/libs/cxxsupp/libcxx/CMakeFiles/libs-cxxsupp-libcxx.dir/src/any.cpp.o.d -o contrib/libs/cxxsupp/libcxx/CMakeFiles/libs-cxxsupp-libcxx.dir/src/any.cpp.o -c /private/var/folders/0t/d3pxkghn5d920blj72_db9mr0000gn/T/pip-install-yc98cc5v/catboost_2090f1ce70344f2bb47bbf567a5d5b4a/catboost_all_src/contrib/libs/cxxsupp/libcxx/src/any.cpp\n",
      "  \u001b[31m   \u001b[0m [66/3724] /usr/bin/clang++ -DCATBOOST_OPENSOURCE=yes -I/private/var/folders/0t/d3pxkghn5d920blj72_db9mr0000gn/T/pip-install-yc98cc5v/catboost_2090f1ce70344f2bb47bbf567a5d5b4a/catboost_all_src -I/private/var/folders/0t/d3pxkghn5d920blj72_db9mr0000gn/T/pip-install-yc98cc5v/catboost_2090f1ce70344f2bb47bbf567a5d5b4a/build/temp.macosx-10.9-x86_64-cpython-311 -I/private/var/folders/0t/d3pxkghn5d920blj72_db9mr0000gn/T/pip-install-yc98cc5v/catboost_2090f1ce70344f2bb47bbf567a5d5b4a/catboost_all_src/contrib/libs/cxxsupp/libcxxrt -I/private/var/folders/0t/d3pxkghn5d920blj72_db9mr0000gn/T/pip-install-yc98cc5v/catboost_2090f1ce70344f2bb47bbf567a5d5b4a/catboost_all_src/contrib/libs/clang16-rt/include -fexceptions   -fno-common   -fcolor-diagnostics   -faligned-allocation   -fdebug-default-version=4   -ffunction-sections   -fdata-sections   -Wall   -Wextra   -Wno-parentheses   -Wno-implicit-const-int-float-conversion   -Wno-unknown-warning-option   -pipe   -D_THREAD_SAFE   -D_PTHREADS   -D_REENTRANT   -D_LARGEFILE_SOURCE   -D__STDC_CONSTANT_MACROS   -D__STDC_FORMAT_MACROS   -D__LONG_LONG_SUPPORTED  -DLIBCXX_BUILDING_LIBCXXRT -D_FILE_OFFSET_BITS=64  -m64    -msse2     -msse3     -mssse3         -msse4.1       -msse4.2       -mpopcnt      -mcx16   -Woverloaded-virtual   -Wimport-preprocessor-directive-pedantic   -Wno-undefined-var-template   -Wno-return-std-move   -Wno-defaulted-function-deleted   -Wno-pessimizing-move   -Wno-deprecated-anon-enum-enum-conversion   -Wno-deprecated-enum-enum-conversion   -Wno-deprecated-enum-float-conversion   -Wno-ambiguous-reversed-operator   -Wno-deprecated-volatile      -DSSE_ENABLED=1     -DSSE3_ENABLED=1     -DSSSE3_ENABLED=1         -DSSE41_ENABLED=1       -DSSE42_ENABLED=1       -DPOPCNT_ENABLED=1      -DCX16_ENABLED=1 -O3 -DNDEBUG -std=c++20 -isysroot /Library/Developer/CommandLineTools/SDKs/MacOSX12.1.sdk -mmacosx-version-min=11.0 -fPIC -nostdinc++ -Wno-everything -D_libunwind_ -MD -MT contrib/libs/cxxsupp/libcxxrt/CMakeFiles/libs-cxxsupp-libcxxrt.dir/exception.cc.o -MF contrib/libs/cxxsupp/libcxxrt/CMakeFiles/libs-cxxsupp-libcxxrt.dir/exception.cc.o.d -o contrib/libs/cxxsupp/libcxxrt/CMakeFiles/libs-cxxsupp-libcxxrt.dir/exception.cc.o -c /private/var/folders/0t/d3pxkghn5d920blj72_db9mr0000gn/T/pip-install-yc98cc5v/catboost_2090f1ce70344f2bb47bbf567a5d5b4a/catboost_all_src/contrib/libs/cxxsupp/libcxxrt/exception.cc\n",
      "  \u001b[31m   \u001b[0m [67/3724] /usr/bin/clang++ -DCATBOOST_OPENSOURCE=yes -I/private/var/folders/0t/d3pxkghn5d920blj72_db9mr0000gn/T/pip-install-yc98cc5v/catboost_2090f1ce70344f2bb47bbf567a5d5b4a/catboost_all_src -I/private/var/folders/0t/d3pxkghn5d920blj72_db9mr0000gn/T/pip-install-yc98cc5v/catboost_2090f1ce70344f2bb47bbf567a5d5b4a/build/temp.macosx-10.9-x86_64-cpython-311 -I/private/var/folders/0t/d3pxkghn5d920blj72_db9mr0000gn/T/pip-install-yc98cc5v/catboost_2090f1ce70344f2bb47bbf567a5d5b4a/catboost_all_src/contrib/libs/cxxsupp/libcxx/include -I/private/var/folders/0t/d3pxkghn5d920blj72_db9mr0000gn/T/pip-install-yc98cc5v/catboost_2090f1ce70344f2bb47bbf567a5d5b4a/catboost_all_src/contrib/libs/cxxsupp/libcxxrt/include -I/private/var/folders/0t/d3pxkghn5d920blj72_db9mr0000gn/T/pip-install-yc98cc5v/catboost_2090f1ce70344f2bb47bbf567a5d5b4a/catboost_all_src/contrib/libs/cxxsupp/libcxx/src -I/private/var/folders/0t/d3pxkghn5d920blj72_db9mr0000gn/T/pip-install-yc98cc5v/catboost_2090f1ce70344f2bb47bbf567a5d5b4a/catboost_all_src/contrib/libs/clang16-rt/include -fexceptions   -fno-common   -fcolor-diagnostics   -faligned-allocation   -fdebug-default-version=4   -ffunction-sections   -fdata-sections   -Wall   -Wextra   -Wno-parentheses   -Wno-implicit-const-int-float-conversion   -Wno-unknown-warning-option   -pipe   -D_THREAD_SAFE   -D_PTHREADS   -D_REENTRANT   -D_LARGEFILE_SOURCE   -D__STDC_CONSTANT_MACROS   -D__STDC_FORMAT_MACROS   -D__LONG_LONG_SUPPORTED  -DLIBCXX_BUILDING_LIBCXXRT -D_FILE_OFFSET_BITS=64  -m64    -msse2     -msse3     -mssse3         -msse4.1       -msse4.2       -mpopcnt      -mcx16   -Woverloaded-virtual   -Wimport-preprocessor-directive-pedantic   -Wno-undefined-var-template   -Wno-return-std-move   -Wno-defaulted-function-deleted   -Wno-pessimizing-move   -Wno-deprecated-anon-enum-enum-conversion   -Wno-deprecated-enum-enum-conversion   -Wno-deprecated-enum-float-conversion   -Wno-ambiguous-reversed-operator   -Wno-deprecated-volatile      -DSSE_ENABLED=1     -DSSE3_ENABLED=1     -DSSSE3_ENABLED=1         -DSSE41_ENABLED=1       -DSSE42_ENABLED=1       -DPOPCNT_ENABLED=1      -DCX16_ENABLED=1 -O3 -DNDEBUG -std=c++20 -isysroot /Library/Developer/CommandLineTools/SDKs/MacOSX12.1.sdk -mmacosx-version-min=11.0 -fPIC -DLIBCXX_BUILDING_LIBCXXRT -nostdinc++ -D_LIBCPP_BUILDING_LIBRARY -Wno-everything -D_libunwind_ -MD -MT contrib/libs/cxxsupp/libcxx/CMakeFiles/libs-cxxsupp-libcxx.dir/src/charconv.cpp.o -MF contrib/libs/cxxsupp/libcxx/CMakeFiles/libs-cxxsupp-libcxx.dir/src/charconv.cpp.o.d -o contrib/libs/cxxsupp/libcxx/CMakeFiles/libs-cxxsupp-libcxx.dir/src/charconv.cpp.o -c /private/var/folders/0t/d3pxkghn5d920blj72_db9mr0000gn/T/pip-install-yc98cc5v/catboost_2090f1ce70344f2bb47bbf567a5d5b4a/catboost_all_src/contrib/libs/cxxsupp/libcxx/src/charconv.cpp\n",
      "  \u001b[31m   \u001b[0m [68/3724] /usr/bin/clang++ -DCATBOOST_OPENSOURCE=yes -I/private/var/folders/0t/d3pxkghn5d920blj72_db9mr0000gn/T/pip-install-yc98cc5v/catboost_2090f1ce70344f2bb47bbf567a5d5b4a/catboost_all_src -I/private/var/folders/0t/d3pxkghn5d920blj72_db9mr0000gn/T/pip-install-yc98cc5v/catboost_2090f1ce70344f2bb47bbf567a5d5b4a/build/temp.macosx-10.9-x86_64-cpython-311 -I/private/var/folders/0t/d3pxkghn5d920blj72_db9mr0000gn/T/pip-install-yc98cc5v/catboost_2090f1ce70344f2bb47bbf567a5d5b4a/catboost_all_src/contrib/libs/cxxsupp/libcxx/include -I/private/var/folders/0t/d3pxkghn5d920blj72_db9mr0000gn/T/pip-install-yc98cc5v/catboost_2090f1ce70344f2bb47bbf567a5d5b4a/catboost_all_src/contrib/libs/cxxsupp/libcxxrt/include -I/private/var/folders/0t/d3pxkghn5d920blj72_db9mr0000gn/T/pip-install-yc98cc5v/catboost_2090f1ce70344f2bb47bbf567a5d5b4a/catboost_all_src/contrib/libs/cxxsupp/libcxx/src -I/private/var/folders/0t/d3pxkghn5d920blj72_db9mr0000gn/T/pip-install-yc98cc5v/catboost_2090f1ce70344f2bb47bbf567a5d5b4a/catboost_all_src/contrib/libs/clang16-rt/include -fexceptions   -fno-common   -fcolor-diagnostics   -faligned-allocation   -fdebug-default-version=4   -ffunction-sections   -fdata-sections   -Wall   -Wextra   -Wno-parentheses   -Wno-implicit-const-int-float-conversion   -Wno-unknown-warning-option   -pipe   -D_THREAD_SAFE   -D_PTHREADS   -D_REENTRANT   -D_LARGEFILE_SOURCE   -D__STDC_CONSTANT_MACROS   -D__STDC_FORMAT_MACROS   -D__LONG_LONG_SUPPORTED  -DLIBCXX_BUILDING_LIBCXXRT -D_FILE_OFFSET_BITS=64  -m64    -msse2     -msse3     -mssse3         -msse4.1       -msse4.2       -mpopcnt      -mcx16   -Woverloaded-virtual   -Wimport-preprocessor-directive-pedantic   -Wno-undefined-var-template   -Wno-return-std-move   -Wno-defaulted-function-deleted   -Wno-pessimizing-move   -Wno-deprecated-anon-enum-enum-conversion   -Wno-deprecated-enum-enum-conversion   -Wno-deprecated-enum-float-conversion   -Wno-ambiguous-reversed-operator   -Wno-deprecated-volatile      -DSSE_ENABLED=1     -DSSE3_ENABLED=1     -DSSSE3_ENABLED=1         -DSSE41_ENABLED=1       -DSSE42_ENABLED=1       -DPOPCNT_ENABLED=1      -DCX16_ENABLED=1 -O3 -DNDEBUG -std=c++20 -isysroot /Library/Developer/CommandLineTools/SDKs/MacOSX12.1.sdk -mmacosx-version-min=11.0 -fPIC -DLIBCXX_BUILDING_LIBCXXRT -nostdinc++ -D_LIBCPP_BUILDING_LIBRARY -Wno-everything -D_libunwind_ -MD -MT contrib/libs/cxxsupp/libcxx/CMakeFiles/libs-cxxsupp-libcxx.dir/src/condition_variable_destructor.cpp.o -MF contrib/libs/cxxsupp/libcxx/CMakeFiles/libs-cxxsupp-libcxx.dir/src/condition_variable_destructor.cpp.o.d -o contrib/libs/cxxsupp/libcxx/CMakeFiles/libs-cxxsupp-libcxx.dir/src/condition_variable_destructor.cpp.o -c /private/var/folders/0t/d3pxkghn5d920blj72_db9mr0000gn/T/pip-install-yc98cc5v/catboost_2090f1ce70344f2bb47bbf567a5d5b4a/catboost_all_src/contrib/libs/cxxsupp/libcxx/src/condition_variable_destructor.cpp\n",
      "  \u001b[31m   \u001b[0m [69/3724] /usr/bin/clang++ -DCATBOOST_OPENSOURCE=yes -I/private/var/folders/0t/d3pxkghn5d920blj72_db9mr0000gn/T/pip-install-yc98cc5v/catboost_2090f1ce70344f2bb47bbf567a5d5b4a/catboost_all_src -I/private/var/folders/0t/d3pxkghn5d920blj72_db9mr0000gn/T/pip-install-yc98cc5v/catboost_2090f1ce70344f2bb47bbf567a5d5b4a/build/temp.macosx-10.9-x86_64-cpython-311 -I/private/var/folders/0t/d3pxkghn5d920blj72_db9mr0000gn/T/pip-install-yc98cc5v/catboost_2090f1ce70344f2bb47bbf567a5d5b4a/catboost_all_src/contrib/libs/libunwind/include -I/private/var/folders/0t/d3pxkghn5d920blj72_db9mr0000gn/T/pip-install-yc98cc5v/catboost_2090f1ce70344f2bb47bbf567a5d5b4a/catboost_all_src/contrib/libs/clang16-rt/include -fexceptions   -fno-common   -fcolor-diagnostics   -faligned-allocation   -fdebug-default-version=4   -ffunction-sections   -fdata-sections   -Wall   -Wextra   -Wno-parentheses   -Wno-implicit-const-int-float-conversion   -Wno-unknown-warning-option   -pipe   -D_THREAD_SAFE   -D_PTHREADS   -D_REENTRANT   -D_LARGEFILE_SOURCE   -D__STDC_CONSTANT_MACROS   -D__STDC_FORMAT_MACROS   -D__LONG_LONG_SUPPORTED  -DLIBCXX_BUILDING_LIBCXXRT -D_FILE_OFFSET_BITS=64  -m64    -msse2     -msse3     -mssse3         -msse4.1       -msse4.2       -mpopcnt      -mcx16   -Woverloaded-virtual   -Wimport-preprocessor-directive-pedantic   -Wno-undefined-var-template   -Wno-return-std-move   -Wno-defaulted-function-deleted   -Wno-pessimizing-move   -Wno-deprecated-anon-enum-enum-conversion   -Wno-deprecated-enum-enum-conversion   -Wno-deprecated-enum-float-conversion   -Wno-ambiguous-reversed-operator   -Wno-deprecated-volatile      -DSSE_ENABLED=1     -DSSE3_ENABLED=1     -DSSSE3_ENABLED=1         -DSSE41_ENABLED=1       -DSSE42_ENABLED=1       -DPOPCNT_ENABLED=1      -DCX16_ENABLED=1 -O3 -DNDEBUG -std=c++20 -isysroot /Library/Developer/CommandLineTools/SDKs/MacOSX12.1.sdk -mmacosx-version-min=11.0 -fPIC -D_libunwind_ -fno-exceptions -fno-rtti -funwind-tables -D_LIBUNWIND_IS_NATIVE_ONLY -MD -MT contrib/libs/libunwind/CMakeFiles/contrib-libs-libunwind.dir/src/libunwind.cpp.o -MF contrib/libs/libunwind/CMakeFiles/contrib-libs-libunwind.dir/src/libunwind.cpp.o.d -o contrib/libs/libunwind/CMakeFiles/contrib-libs-libunwind.dir/src/libunwind.cpp.o -c /private/var/folders/0t/d3pxkghn5d920blj72_db9mr0000gn/T/pip-install-yc98cc5v/catboost_2090f1ce70344f2bb47bbf567a5d5b4a/catboost_all_src/contrib/libs/libunwind/src/libunwind.cpp\n",
      "  \u001b[31m   \u001b[0m [70/3724] : && /usr/local/Cellar/cmake/3.30.0/bin/cmake -E rm -f contrib/libs/libunwind/libcontrib-libs-libunwind.a && /usr/bin/ar qc contrib/libs/libunwind/libcontrib-libs-libunwind.a  contrib/libs/libunwind/CMakeFiles/contrib-libs-libunwind.dir/src/Unwind-EHABI.cpp.o contrib/libs/libunwind/CMakeFiles/contrib-libs-libunwind.dir/src/Unwind-seh.cpp.o contrib/libs/libunwind/CMakeFiles/contrib-libs-libunwind.dir/src/Unwind-sjlj.c.o contrib/libs/libunwind/CMakeFiles/contrib-libs-libunwind.dir/src/Unwind-wasm.c.o contrib/libs/libunwind/CMakeFiles/contrib-libs-libunwind.dir/src/UnwindLevel1-gcc-ext.c.o contrib/libs/libunwind/CMakeFiles/contrib-libs-libunwind.dir/src/UnwindLevel1.c.o contrib/libs/libunwind/CMakeFiles/contrib-libs-libunwind.dir/src/UnwindRegistersRestore.S.o contrib/libs/libunwind/CMakeFiles/contrib-libs-libunwind.dir/src/UnwindRegistersSave.S.o contrib/libs/libunwind/CMakeFiles/contrib-libs-libunwind.dir/src/libunwind.cpp.o && /usr/bin/ranlib contrib/libs/libunwind/libcontrib-libs-libunwind.a && /usr/local/Cellar/cmake/3.30.0/bin/cmake -E touch contrib/libs/libunwind/libcontrib-libs-libunwind.a && :\n",
      "  \u001b[31m   \u001b[0m /Library/Developer/CommandLineTools/usr/bin/ranlib: file: contrib/libs/libunwind/libcontrib-libs-libunwind.a(Unwind-EHABI.cpp.o) has no symbols\n",
      "  \u001b[31m   \u001b[0m /Library/Developer/CommandLineTools/usr/bin/ranlib: file: contrib/libs/libunwind/libcontrib-libs-libunwind.a(Unwind-seh.cpp.o) has no symbols\n",
      "  \u001b[31m   \u001b[0m /Library/Developer/CommandLineTools/usr/bin/ranlib: file: contrib/libs/libunwind/libcontrib-libs-libunwind.a(Unwind-sjlj.c.o) has no symbols\n",
      "  \u001b[31m   \u001b[0m /Library/Developer/CommandLineTools/usr/bin/ranlib: file: contrib/libs/libunwind/libcontrib-libs-libunwind.a(Unwind-wasm.c.o) has no symbols\n",
      "  \u001b[31m   \u001b[0m /Library/Developer/CommandLineTools/usr/bin/ranlib: file: contrib/libs/libunwind/libcontrib-libs-libunwind.a(Unwind-EHABI.cpp.o) has no symbols\n",
      "  \u001b[31m   \u001b[0m /Library/Developer/CommandLineTools/usr/bin/ranlib: file: contrib/libs/libunwind/libcontrib-libs-libunwind.a(Unwind-seh.cpp.o) has no symbols\n",
      "  \u001b[31m   \u001b[0m /Library/Developer/CommandLineTools/usr/bin/ranlib: file: contrib/libs/libunwind/libcontrib-libs-libunwind.a(Unwind-sjlj.c.o) has no symbols\n",
      "  \u001b[31m   \u001b[0m /Library/Developer/CommandLineTools/usr/bin/ranlib: file: contrib/libs/libunwind/libcontrib-libs-libunwind.a(Unwind-wasm.c.o) has no symbols\n",
      "  \u001b[31m   \u001b[0m [71/3724] /usr/bin/clang++ -DCATBOOST_OPENSOURCE=yes -I/private/var/folders/0t/d3pxkghn5d920blj72_db9mr0000gn/T/pip-install-yc98cc5v/catboost_2090f1ce70344f2bb47bbf567a5d5b4a/catboost_all_src -I/private/var/folders/0t/d3pxkghn5d920blj72_db9mr0000gn/T/pip-install-yc98cc5v/catboost_2090f1ce70344f2bb47bbf567a5d5b4a/build/temp.macosx-10.9-x86_64-cpython-311 -I/private/var/folders/0t/d3pxkghn5d920blj72_db9mr0000gn/T/pip-install-yc98cc5v/catboost_2090f1ce70344f2bb47bbf567a5d5b4a/catboost_all_src/contrib/libs/cxxsupp/libcxx/include -I/private/var/folders/0t/d3pxkghn5d920blj72_db9mr0000gn/T/pip-install-yc98cc5v/catboost_2090f1ce70344f2bb47bbf567a5d5b4a/catboost_all_src/contrib/libs/cxxsupp/libcxxrt/include -I/private/var/folders/0t/d3pxkghn5d920blj72_db9mr0000gn/T/pip-install-yc98cc5v/catboost_2090f1ce70344f2bb47bbf567a5d5b4a/catboost_all_src/contrib/libs/cxxsupp/libcxx/src -I/private/var/folders/0t/d3pxkghn5d920blj72_db9mr0000gn/T/pip-install-yc98cc5v/catboost_2090f1ce70344f2bb47bbf567a5d5b4a/catboost_all_src/contrib/libs/clang16-rt/include -fexceptions   -fno-common   -fcolor-diagnostics   -faligned-allocation   -fdebug-default-version=4   -ffunction-sections   -fdata-sections   -Wall   -Wextra   -Wno-parentheses   -Wno-implicit-const-int-float-conversion   -Wno-unknown-warning-option   -pipe   -D_THREAD_SAFE   -D_PTHREADS   -D_REENTRANT   -D_LARGEFILE_SOURCE   -D__STDC_CONSTANT_MACROS   -D__STDC_FORMAT_MACROS   -D__LONG_LONG_SUPPORTED  -DLIBCXX_BUILDING_LIBCXXRT -D_FILE_OFFSET_BITS=64  -m64    -msse2     -msse3     -mssse3         -msse4.1       -msse4.2       -mpopcnt      -mcx16   -Woverloaded-virtual   -Wimport-preprocessor-directive-pedantic   -Wno-undefined-var-template   -Wno-return-std-move   -Wno-defaulted-function-deleted   -Wno-pessimizing-move   -Wno-deprecated-anon-enum-enum-conversion   -Wno-deprecated-enum-enum-conversion   -Wno-deprecated-enum-float-conversion   -Wno-ambiguous-reversed-operator   -Wno-deprecated-volatile      -DSSE_ENABLED=1     -DSSE3_ENABLED=1     -DSSSE3_ENABLED=1         -DSSE41_ENABLED=1       -DSSE42_ENABLED=1       -DPOPCNT_ENABLED=1      -DCX16_ENABLED=1 -O3 -DNDEBUG -std=c++20 -isysroot /Library/Developer/CommandLineTools/SDKs/MacOSX12.1.sdk -mmacosx-version-min=11.0 -fPIC -DLIBCXX_BUILDING_LIBCXXRT -nostdinc++ -D_LIBCPP_BUILDING_LIBRARY -Wno-everything -D_libunwind_ -MD -MT contrib/libs/cxxsupp/libcxx/CMakeFiles/libs-cxxsupp-libcxx.dir/src/exception.cpp.o -MF contrib/libs/cxxsupp/libcxx/CMakeFiles/libs-cxxsupp-libcxx.dir/src/exception.cpp.o.d -o contrib/libs/cxxsupp/libcxx/CMakeFiles/libs-cxxsupp-libcxx.dir/src/exception.cpp.o -c /private/var/folders/0t/d3pxkghn5d920blj72_db9mr0000gn/T/pip-install-yc98cc5v/catboost_2090f1ce70344f2bb47bbf567a5d5b4a/catboost_all_src/contrib/libs/cxxsupp/libcxx/src/exception.cpp\n",
      "  \u001b[31m   \u001b[0m [72/3724] /usr/bin/clang++ -DCATBOOST_OPENSOURCE=yes -I/private/var/folders/0t/d3pxkghn5d920blj72_db9mr0000gn/T/pip-install-yc98cc5v/catboost_2090f1ce70344f2bb47bbf567a5d5b4a/catboost_all_src -I/private/var/folders/0t/d3pxkghn5d920blj72_db9mr0000gn/T/pip-install-yc98cc5v/catboost_2090f1ce70344f2bb47bbf567a5d5b4a/build/temp.macosx-10.9-x86_64-cpython-311 -I/private/var/folders/0t/d3pxkghn5d920blj72_db9mr0000gn/T/pip-install-yc98cc5v/catboost_2090f1ce70344f2bb47bbf567a5d5b4a/catboost_all_src/contrib/libs/cxxsupp/libcxx/include -I/private/var/folders/0t/d3pxkghn5d920blj72_db9mr0000gn/T/pip-install-yc98cc5v/catboost_2090f1ce70344f2bb47bbf567a5d5b4a/catboost_all_src/contrib/libs/cxxsupp/libcxxrt/include -I/private/var/folders/0t/d3pxkghn5d920blj72_db9mr0000gn/T/pip-install-yc98cc5v/catboost_2090f1ce70344f2bb47bbf567a5d5b4a/catboost_all_src/contrib/libs/cxxsupp/libcxx/src -I/private/var/folders/0t/d3pxkghn5d920blj72_db9mr0000gn/T/pip-install-yc98cc5v/catboost_2090f1ce70344f2bb47bbf567a5d5b4a/catboost_all_src/contrib/libs/clang16-rt/include -fexceptions   -fno-common   -fcolor-diagnostics   -faligned-allocation   -fdebug-default-version=4   -ffunction-sections   -fdata-sections   -Wall   -Wextra   -Wno-parentheses   -Wno-implicit-const-int-float-conversion   -Wno-unknown-warning-option   -pipe   -D_THREAD_SAFE   -D_PTHREADS   -D_REENTRANT   -D_LARGEFILE_SOURCE   -D__STDC_CONSTANT_MACROS   -D__STDC_FORMAT_MACROS   -D__LONG_LONG_SUPPORTED  -DLIBCXX_BUILDING_LIBCXXRT -D_FILE_OFFSET_BITS=64  -m64    -msse2     -msse3     -mssse3         -msse4.1       -msse4.2       -mpopcnt      -mcx16   -Woverloaded-virtual   -Wimport-preprocessor-directive-pedantic   -Wno-undefined-var-template   -Wno-return-std-move   -Wno-defaulted-function-deleted   -Wno-pessimizing-move   -Wno-deprecated-anon-enum-enum-conversion   -Wno-deprecated-enum-enum-conversion   -Wno-deprecated-enum-float-conversion   -Wno-ambiguous-reversed-operator   -Wno-deprecated-volatile      -DSSE_ENABLED=1     -DSSE3_ENABLED=1     -DSSSE3_ENABLED=1         -DSSE41_ENABLED=1       -DSSE42_ENABLED=1       -DPOPCNT_ENABLED=1      -DCX16_ENABLED=1 -O3 -DNDEBUG -std=c++20 -isysroot /Library/Developer/CommandLineTools/SDKs/MacOSX12.1.sdk -mmacosx-version-min=11.0 -fPIC -DLIBCXX_BUILDING_LIBCXXRT -nostdinc++ -D_LIBCPP_BUILDING_LIBRARY -Wno-everything -D_libunwind_ -MD -MT contrib/libs/cxxsupp/libcxx/CMakeFiles/libs-cxxsupp-libcxx.dir/src/chrono.cpp.o -MF contrib/libs/cxxsupp/libcxx/CMakeFiles/libs-cxxsupp-libcxx.dir/src/chrono.cpp.o.d -o contrib/libs/cxxsupp/libcxx/CMakeFiles/libs-cxxsupp-libcxx.dir/src/chrono.cpp.o -c /private/var/folders/0t/d3pxkghn5d920blj72_db9mr0000gn/T/pip-install-yc98cc5v/catboost_2090f1ce70344f2bb47bbf567a5d5b4a/catboost_all_src/contrib/libs/cxxsupp/libcxx/src/chrono.cpp\n",
      "  \u001b[31m   \u001b[0m [73/3724] /usr/bin/clang++ -DCATBOOST_OPENSOURCE=yes -I/private/var/folders/0t/d3pxkghn5d920blj72_db9mr0000gn/T/pip-install-yc98cc5v/catboost_2090f1ce70344f2bb47bbf567a5d5b4a/catboost_all_src -I/private/var/folders/0t/d3pxkghn5d920blj72_db9mr0000gn/T/pip-install-yc98cc5v/catboost_2090f1ce70344f2bb47bbf567a5d5b4a/build/temp.macosx-10.9-x86_64-cpython-311 -I/private/var/folders/0t/d3pxkghn5d920blj72_db9mr0000gn/T/pip-install-yc98cc5v/catboost_2090f1ce70344f2bb47bbf567a5d5b4a/catboost_all_src/contrib/libs/cxxsupp/libcxx/include -I/private/var/folders/0t/d3pxkghn5d920blj72_db9mr0000gn/T/pip-install-yc98cc5v/catboost_2090f1ce70344f2bb47bbf567a5d5b4a/catboost_all_src/contrib/libs/cxxsupp/libcxxrt/include -I/private/var/folders/0t/d3pxkghn5d920blj72_db9mr0000gn/T/pip-install-yc98cc5v/catboost_2090f1ce70344f2bb47bbf567a5d5b4a/catboost_all_src/contrib/libs/cxxsupp/libcxx/src -I/private/var/folders/0t/d3pxkghn5d920blj72_db9mr0000gn/T/pip-install-yc98cc5v/catboost_2090f1ce70344f2bb47bbf567a5d5b4a/catboost_all_src/contrib/libs/clang16-rt/include -fexceptions   -fno-common   -fcolor-diagnostics   -faligned-allocation   -fdebug-default-version=4   -ffunction-sections   -fdata-sections   -Wall   -Wextra   -Wno-parentheses   -Wno-implicit-const-int-float-conversion   -Wno-unknown-warning-option   -pipe   -D_THREAD_SAFE   -D_PTHREADS   -D_REENTRANT   -D_LARGEFILE_SOURCE   -D__STDC_CONSTANT_MACROS   -D__STDC_FORMAT_MACROS   -D__LONG_LONG_SUPPORTED  -DLIBCXX_BUILDING_LIBCXXRT -D_FILE_OFFSET_BITS=64  -m64    -msse2     -msse3     -mssse3         -msse4.1       -msse4.2       -mpopcnt      -mcx16   -Woverloaded-virtual   -Wimport-preprocessor-directive-pedantic   -Wno-undefined-var-template   -Wno-return-std-move   -Wno-defaulted-function-deleted   -Wno-pessimizing-move   -Wno-deprecated-anon-enum-enum-conversion   -Wno-deprecated-enum-enum-conversion   -Wno-deprecated-enum-float-conversion   -Wno-ambiguous-reversed-operator   -Wno-deprecated-volatile      -DSSE_ENABLED=1     -DSSE3_ENABLED=1     -DSSSE3_ENABLED=1         -DSSE41_ENABLED=1       -DSSE42_ENABLED=1       -DPOPCNT_ENABLED=1      -DCX16_ENABLED=1 -O3 -DNDEBUG -std=c++20 -isysroot /Library/Developer/CommandLineTools/SDKs/MacOSX12.1.sdk -mmacosx-version-min=11.0 -fPIC -DLIBCXX_BUILDING_LIBCXXRT -nostdinc++ -D_LIBCPP_BUILDING_LIBRARY -Wno-everything -D_libunwind_ -MD -MT contrib/libs/cxxsupp/libcxx/CMakeFiles/libs-cxxsupp-libcxx.dir/src/bind.cpp.o -MF contrib/libs/cxxsupp/libcxx/CMakeFiles/libs-cxxsupp-libcxx.dir/src/bind.cpp.o.d -o contrib/libs/cxxsupp/libcxx/CMakeFiles/libs-cxxsupp-libcxx.dir/src/bind.cpp.o -c /private/var/folders/0t/d3pxkghn5d920blj72_db9mr0000gn/T/pip-install-yc98cc5v/catboost_2090f1ce70344f2bb47bbf567a5d5b4a/catboost_all_src/contrib/libs/cxxsupp/libcxx/src/bind.cpp\n",
      "  \u001b[31m   \u001b[0m \u001b[31mFAILED: \u001b[0mcontrib/libs/cxxsupp/libcxx/CMakeFiles/libs-cxxsupp-libcxx.dir/src/bind.cpp.o\n",
      "  \u001b[31m   \u001b[0m /usr/bin/clang++ -DCATBOOST_OPENSOURCE=yes -I/private/var/folders/0t/d3pxkghn5d920blj72_db9mr0000gn/T/pip-install-yc98cc5v/catboost_2090f1ce70344f2bb47bbf567a5d5b4a/catboost_all_src -I/private/var/folders/0t/d3pxkghn5d920blj72_db9mr0000gn/T/pip-install-yc98cc5v/catboost_2090f1ce70344f2bb47bbf567a5d5b4a/build/temp.macosx-10.9-x86_64-cpython-311 -I/private/var/folders/0t/d3pxkghn5d920blj72_db9mr0000gn/T/pip-install-yc98cc5v/catboost_2090f1ce70344f2bb47bbf567a5d5b4a/catboost_all_src/contrib/libs/cxxsupp/libcxx/include -I/private/var/folders/0t/d3pxkghn5d920blj72_db9mr0000gn/T/pip-install-yc98cc5v/catboost_2090f1ce70344f2bb47bbf567a5d5b4a/catboost_all_src/contrib/libs/cxxsupp/libcxxrt/include -I/private/var/folders/0t/d3pxkghn5d920blj72_db9mr0000gn/T/pip-install-yc98cc5v/catboost_2090f1ce70344f2bb47bbf567a5d5b4a/catboost_all_src/contrib/libs/cxxsupp/libcxx/src -I/private/var/folders/0t/d3pxkghn5d920blj72_db9mr0000gn/T/pip-install-yc98cc5v/catboost_2090f1ce70344f2bb47bbf567a5d5b4a/catboost_all_src/contrib/libs/clang16-rt/include -fexceptions   -fno-common   -fcolor-diagnostics   -faligned-allocation   -fdebug-default-version=4   -ffunction-sections   -fdata-sections   -Wall   -Wextra   -Wno-parentheses   -Wno-implicit-const-int-float-conversion   -Wno-unknown-warning-option   -pipe   -D_THREAD_SAFE   -D_PTHREADS   -D_REENTRANT   -D_LARGEFILE_SOURCE   -D__STDC_CONSTANT_MACROS   -D__STDC_FORMAT_MACROS   -D__LONG_LONG_SUPPORTED  -DLIBCXX_BUILDING_LIBCXXRT -D_FILE_OFFSET_BITS=64  -m64    -msse2     -msse3     -mssse3         -msse4.1       -msse4.2       -mpopcnt      -mcx16   -Woverloaded-virtual   -Wimport-preprocessor-directive-pedantic   -Wno-undefined-var-template   -Wno-return-std-move   -Wno-defaulted-function-deleted   -Wno-pessimizing-move   -Wno-deprecated-anon-enum-enum-conversion   -Wno-deprecated-enum-enum-conversion   -Wno-deprecated-enum-float-conversion   -Wno-ambiguous-reversed-operator   -Wno-deprecated-volatile      -DSSE_ENABLED=1     -DSSE3_ENABLED=1     -DSSSE3_ENABLED=1         -DSSE41_ENABLED=1       -DSSE42_ENABLED=1       -DPOPCNT_ENABLED=1      -DCX16_ENABLED=1 -O3 -DNDEBUG -std=c++20 -isysroot /Library/Developer/CommandLineTools/SDKs/MacOSX12.1.sdk -mmacosx-version-min=11.0 -fPIC -DLIBCXX_BUILDING_LIBCXXRT -nostdinc++ -D_LIBCPP_BUILDING_LIBRARY -Wno-everything -D_libunwind_ -MD -MT contrib/libs/cxxsupp/libcxx/CMakeFiles/libs-cxxsupp-libcxx.dir/src/bind.cpp.o -MF contrib/libs/cxxsupp/libcxx/CMakeFiles/libs-cxxsupp-libcxx.dir/src/bind.cpp.o.d -o contrib/libs/cxxsupp/libcxx/CMakeFiles/libs-cxxsupp-libcxx.dir/src/bind.cpp.o -c /private/var/folders/0t/d3pxkghn5d920blj72_db9mr0000gn/T/pip-install-yc98cc5v/catboost_2090f1ce70344f2bb47bbf567a5d5b4a/catboost_all_src/contrib/libs/cxxsupp/libcxx/src/bind.cpp\n",
      "  \u001b[31m   \u001b[0m In file included from /private/var/folders/0t/d3pxkghn5d920blj72_db9mr0000gn/T/pip-install-yc98cc5v/catboost_2090f1ce70344f2bb47bbf567a5d5b4a/catboost_all_src/contrib/libs/cxxsupp/libcxx/src/bind.cpp:9:\n",
      "  \u001b[31m   \u001b[0m In file included from /private/var/folders/0t/d3pxkghn5d920blj72_db9mr0000gn/T/pip-install-yc98cc5v/catboost_2090f1ce70344f2bb47bbf567a5d5b4a/catboost_all_src/contrib/libs/cxxsupp/libcxx/include/functional:526:\n",
      "  \u001b[31m   \u001b[0m In file included from /private/var/folders/0t/d3pxkghn5d920blj72_db9mr0000gn/T/pip-install-yc98cc5v/catboost_2090f1ce70344f2bb47bbf567a5d5b4a/catboost_all_src/contrib/libs/cxxsupp/libcxx/include/__functional/boyer_moore_searcher.h:26:\n",
      "  \u001b[31m   \u001b[0m In file included from /private/var/folders/0t/d3pxkghn5d920blj72_db9mr0000gn/T/pip-install-yc98cc5v/catboost_2090f1ce70344f2bb47bbf567a5d5b4a/catboost_all_src/contrib/libs/cxxsupp/libcxx/include/unordered_map:600:\n",
      "  \u001b[31m   \u001b[0m In file included from /private/var/folders/0t/d3pxkghn5d920blj72_db9mr0000gn/T/pip-install-yc98cc5v/catboost_2090f1ce70344f2bb47bbf567a5d5b4a/catboost_all_src/contrib/libs/cxxsupp/libcxx/include/__node_handle:65:\n",
      "  \u001b[31m   \u001b[0m \u001b[1m/private/var/folders/0t/d3pxkghn5d920blj72_db9mr0000gn/T/pip-install-yc98cc5v/catboost_2090f1ce70344f2bb47bbf567a5d5b4a/catboost_all_src/contrib/libs/cxxsupp/libcxx/include/optional:689:65: \u001b[0m\u001b[0;1;31merror: \u001b[0m\u001b[1mlambda expression in an unevaluated operand\u001b[0m\n",
      "  \u001b[31m   \u001b[0m concept __is_derived_from_optional = requires(const _Tp& __t) { []<class _Up>(const optional<_Up>&) {}(__t); };\n",
      "  \u001b[31m   \u001b[0m \u001b[0;1;32m                                                                ^\n",
      "  \u001b[31m   \u001b[0m \u001b[0m1 error generated.\n",
      "  \u001b[31m   \u001b[0m [74/3724] /usr/bin/clang++ -DCATBOOST_OPENSOURCE=yes -I/private/var/folders/0t/d3pxkghn5d920blj72_db9mr0000gn/T/pip-install-yc98cc5v/catboost_2090f1ce70344f2bb47bbf567a5d5b4a/catboost_all_src -I/private/var/folders/0t/d3pxkghn5d920blj72_db9mr0000gn/T/pip-install-yc98cc5v/catboost_2090f1ce70344f2bb47bbf567a5d5b4a/build/temp.macosx-10.9-x86_64-cpython-311 -I/private/var/folders/0t/d3pxkghn5d920blj72_db9mr0000gn/T/pip-install-yc98cc5v/catboost_2090f1ce70344f2bb47bbf567a5d5b4a/catboost_all_src/contrib/libs/cxxsupp/libcxx/include -I/private/var/folders/0t/d3pxkghn5d920blj72_db9mr0000gn/T/pip-install-yc98cc5v/catboost_2090f1ce70344f2bb47bbf567a5d5b4a/catboost_all_src/contrib/libs/cxxsupp/libcxxrt/include -I/private/var/folders/0t/d3pxkghn5d920blj72_db9mr0000gn/T/pip-install-yc98cc5v/catboost_2090f1ce70344f2bb47bbf567a5d5b4a/catboost_all_src/contrib/libs/cxxsupp/libcxx/src -I/private/var/folders/0t/d3pxkghn5d920blj72_db9mr0000gn/T/pip-install-yc98cc5v/catboost_2090f1ce70344f2bb47bbf567a5d5b4a/catboost_all_src/contrib/libs/clang16-rt/include -fexceptions   -fno-common   -fcolor-diagnostics   -faligned-allocation   -fdebug-default-version=4   -ffunction-sections   -fdata-sections   -Wall   -Wextra   -Wno-parentheses   -Wno-implicit-const-int-float-conversion   -Wno-unknown-warning-option   -pipe   -D_THREAD_SAFE   -D_PTHREADS   -D_REENTRANT   -D_LARGEFILE_SOURCE   -D__STDC_CONSTANT_MACROS   -D__STDC_FORMAT_MACROS   -D__LONG_LONG_SUPPORTED  -DLIBCXX_BUILDING_LIBCXXRT -D_FILE_OFFSET_BITS=64  -m64    -msse2     -msse3     -mssse3         -msse4.1       -msse4.2       -mpopcnt      -mcx16   -Woverloaded-virtual   -Wimport-preprocessor-directive-pedantic   -Wno-undefined-var-template   -Wno-return-std-move   -Wno-defaulted-function-deleted   -Wno-pessimizing-move   -Wno-deprecated-anon-enum-enum-conversion   -Wno-deprecated-enum-enum-conversion   -Wno-deprecated-enum-float-conversion   -Wno-ambiguous-reversed-operator   -Wno-deprecated-volatile      -DSSE_ENABLED=1     -DSSE3_ENABLED=1     -DSSSE3_ENABLED=1         -DSSE41_ENABLED=1       -DSSE42_ENABLED=1       -DPOPCNT_ENABLED=1      -DCX16_ENABLED=1 -O3 -DNDEBUG -std=c++20 -isysroot /Library/Developer/CommandLineTools/SDKs/MacOSX12.1.sdk -mmacosx-version-min=11.0 -fPIC -DLIBCXX_BUILDING_LIBCXXRT -nostdinc++ -D_LIBCPP_BUILDING_LIBRARY -Wno-everything -D_libunwind_ -MD -MT contrib/libs/cxxsupp/libcxx/CMakeFiles/libs-cxxsupp-libcxx.dir/src/barrier.cpp.o -MF contrib/libs/cxxsupp/libcxx/CMakeFiles/libs-cxxsupp-libcxx.dir/src/barrier.cpp.o.d -o contrib/libs/cxxsupp/libcxx/CMakeFiles/libs-cxxsupp-libcxx.dir/src/barrier.cpp.o -c /private/var/folders/0t/d3pxkghn5d920blj72_db9mr0000gn/T/pip-install-yc98cc5v/catboost_2090f1ce70344f2bb47bbf567a5d5b4a/catboost_all_src/contrib/libs/cxxsupp/libcxx/src/barrier.cpp\n",
      "  \u001b[31m   \u001b[0m [75/3724] /usr/bin/clang++ -DCATBOOST_OPENSOURCE=yes -I/private/var/folders/0t/d3pxkghn5d920blj72_db9mr0000gn/T/pip-install-yc98cc5v/catboost_2090f1ce70344f2bb47bbf567a5d5b4a/catboost_all_src -I/private/var/folders/0t/d3pxkghn5d920blj72_db9mr0000gn/T/pip-install-yc98cc5v/catboost_2090f1ce70344f2bb47bbf567a5d5b4a/build/temp.macosx-10.9-x86_64-cpython-311 -I/private/var/folders/0t/d3pxkghn5d920blj72_db9mr0000gn/T/pip-install-yc98cc5v/catboost_2090f1ce70344f2bb47bbf567a5d5b4a/catboost_all_src/contrib/libs/cxxsupp/libcxx/include -I/private/var/folders/0t/d3pxkghn5d920blj72_db9mr0000gn/T/pip-install-yc98cc5v/catboost_2090f1ce70344f2bb47bbf567a5d5b4a/catboost_all_src/contrib/libs/cxxsupp/libcxxrt/include -I/private/var/folders/0t/d3pxkghn5d920blj72_db9mr0000gn/T/pip-install-yc98cc5v/catboost_2090f1ce70344f2bb47bbf567a5d5b4a/catboost_all_src/contrib/libs/cxxsupp/libcxx/src -I/private/var/folders/0t/d3pxkghn5d920blj72_db9mr0000gn/T/pip-install-yc98cc5v/catboost_2090f1ce70344f2bb47bbf567a5d5b4a/catboost_all_src/contrib/libs/clang16-rt/include -fexceptions   -fno-common   -fcolor-diagnostics   -faligned-allocation   -fdebug-default-version=4   -ffunction-sections   -fdata-sections   -Wall   -Wextra   -Wno-parentheses   -Wno-implicit-const-int-float-conversion   -Wno-unknown-warning-option   -pipe   -D_THREAD_SAFE   -D_PTHREADS   -D_REENTRANT   -D_LARGEFILE_SOURCE   -D__STDC_CONSTANT_MACROS   -D__STDC_FORMAT_MACROS   -D__LONG_LONG_SUPPORTED  -DLIBCXX_BUILDING_LIBCXXRT -D_FILE_OFFSET_BITS=64  -m64    -msse2     -msse3     -mssse3         -msse4.1       -msse4.2       -mpopcnt      -mcx16   -Woverloaded-virtual   -Wimport-preprocessor-directive-pedantic   -Wno-undefined-var-template   -Wno-return-std-move   -Wno-defaulted-function-deleted   -Wno-pessimizing-move   -Wno-deprecated-anon-enum-enum-conversion   -Wno-deprecated-enum-enum-conversion   -Wno-deprecated-enum-float-conversion   -Wno-ambiguous-reversed-operator   -Wno-deprecated-volatile      -DSSE_ENABLED=1     -DSSE3_ENABLED=1     -DSSSE3_ENABLED=1         -DSSE41_ENABLED=1       -DSSE42_ENABLED=1       -DPOPCNT_ENABLED=1      -DCX16_ENABLED=1 -O3 -DNDEBUG -std=c++20 -isysroot /Library/Developer/CommandLineTools/SDKs/MacOSX12.1.sdk -mmacosx-version-min=11.0 -fPIC -DLIBCXX_BUILDING_LIBCXXRT -nostdinc++ -D_LIBCPP_BUILDING_LIBRARY -Wno-everything -D_libunwind_ -MD -MT contrib/libs/cxxsupp/libcxx/CMakeFiles/libs-cxxsupp-libcxx.dir/src/atomic.cpp.o -MF contrib/libs/cxxsupp/libcxx/CMakeFiles/libs-cxxsupp-libcxx.dir/src/atomic.cpp.o.d -o contrib/libs/cxxsupp/libcxx/CMakeFiles/libs-cxxsupp-libcxx.dir/src/atomic.cpp.o -c /private/var/folders/0t/d3pxkghn5d920blj72_db9mr0000gn/T/pip-install-yc98cc5v/catboost_2090f1ce70344f2bb47bbf567a5d5b4a/catboost_all_src/contrib/libs/cxxsupp/libcxx/src/atomic.cpp\n",
      "  \u001b[31m   \u001b[0m \u001b[31mFAILED: \u001b[0mcontrib/libs/cxxsupp/libcxx/CMakeFiles/libs-cxxsupp-libcxx.dir/src/atomic.cpp.o\n",
      "  \u001b[31m   \u001b[0m /usr/bin/clang++ -DCATBOOST_OPENSOURCE=yes -I/private/var/folders/0t/d3pxkghn5d920blj72_db9mr0000gn/T/pip-install-yc98cc5v/catboost_2090f1ce70344f2bb47bbf567a5d5b4a/catboost_all_src -I/private/var/folders/0t/d3pxkghn5d920blj72_db9mr0000gn/T/pip-install-yc98cc5v/catboost_2090f1ce70344f2bb47bbf567a5d5b4a/build/temp.macosx-10.9-x86_64-cpython-311 -I/private/var/folders/0t/d3pxkghn5d920blj72_db9mr0000gn/T/pip-install-yc98cc5v/catboost_2090f1ce70344f2bb47bbf567a5d5b4a/catboost_all_src/contrib/libs/cxxsupp/libcxx/include -I/private/var/folders/0t/d3pxkghn5d920blj72_db9mr0000gn/T/pip-install-yc98cc5v/catboost_2090f1ce70344f2bb47bbf567a5d5b4a/catboost_all_src/contrib/libs/cxxsupp/libcxxrt/include -I/private/var/folders/0t/d3pxkghn5d920blj72_db9mr0000gn/T/pip-install-yc98cc5v/catboost_2090f1ce70344f2bb47bbf567a5d5b4a/catboost_all_src/contrib/libs/cxxsupp/libcxx/src -I/private/var/folders/0t/d3pxkghn5d920blj72_db9mr0000gn/T/pip-install-yc98cc5v/catboost_2090f1ce70344f2bb47bbf567a5d5b4a/catboost_all_src/contrib/libs/clang16-rt/include -fexceptions   -fno-common   -fcolor-diagnostics   -faligned-allocation   -fdebug-default-version=4   -ffunction-sections   -fdata-sections   -Wall   -Wextra   -Wno-parentheses   -Wno-implicit-const-int-float-conversion   -Wno-unknown-warning-option   -pipe   -D_THREAD_SAFE   -D_PTHREADS   -D_REENTRANT   -D_LARGEFILE_SOURCE   -D__STDC_CONSTANT_MACROS   -D__STDC_FORMAT_MACROS   -D__LONG_LONG_SUPPORTED  -DLIBCXX_BUILDING_LIBCXXRT -D_FILE_OFFSET_BITS=64  -m64    -msse2     -msse3     -mssse3         -msse4.1       -msse4.2       -mpopcnt      -mcx16   -Woverloaded-virtual   -Wimport-preprocessor-directive-pedantic   -Wno-undefined-var-template   -Wno-return-std-move   -Wno-defaulted-function-deleted   -Wno-pessimizing-move   -Wno-deprecated-anon-enum-enum-conversion   -Wno-deprecated-enum-enum-conversion   -Wno-deprecated-enum-float-conversion   -Wno-ambiguous-reversed-operator   -Wno-deprecated-volatile      -DSSE_ENABLED=1     -DSSE3_ENABLED=1     -DSSSE3_ENABLED=1         -DSSE41_ENABLED=1       -DSSE42_ENABLED=1       -DPOPCNT_ENABLED=1      -DCX16_ENABLED=1 -O3 -DNDEBUG -std=c++20 -isysroot /Library/Developer/CommandLineTools/SDKs/MacOSX12.1.sdk -mmacosx-version-min=11.0 -fPIC -DLIBCXX_BUILDING_LIBCXXRT -nostdinc++ -D_LIBCPP_BUILDING_LIBRARY -Wno-everything -D_libunwind_ -MD -MT contrib/libs/cxxsupp/libcxx/CMakeFiles/libs-cxxsupp-libcxx.dir/src/atomic.cpp.o -MF contrib/libs/cxxsupp/libcxx/CMakeFiles/libs-cxxsupp-libcxx.dir/src/atomic.cpp.o.d -o contrib/libs/cxxsupp/libcxx/CMakeFiles/libs-cxxsupp-libcxx.dir/src/atomic.cpp.o -c /private/var/folders/0t/d3pxkghn5d920blj72_db9mr0000gn/T/pip-install-yc98cc5v/catboost_2090f1ce70344f2bb47bbf567a5d5b4a/catboost_all_src/contrib/libs/cxxsupp/libcxx/src/atomic.cpp\n",
      "  \u001b[31m   \u001b[0m In file included from /private/var/folders/0t/d3pxkghn5d920blj72_db9mr0000gn/T/pip-install-yc98cc5v/catboost_2090f1ce70344f2bb47bbf567a5d5b4a/catboost_all_src/contrib/libs/cxxsupp/libcxx/src/atomic.cpp:15:\n",
      "  \u001b[31m   \u001b[0m In file included from /private/var/folders/0t/d3pxkghn5d920blj72_db9mr0000gn/T/pip-install-yc98cc5v/catboost_2090f1ce70344f2bb47bbf567a5d5b4a/catboost_all_src/contrib/libs/cxxsupp/libcxx/include/functional:526:\n",
      "  \u001b[31m   \u001b[0m In file included from /private/var/folders/0t/d3pxkghn5d920blj72_db9mr0000gn/T/pip-install-yc98cc5v/catboost_2090f1ce70344f2bb47bbf567a5d5b4a/catboost_all_src/contrib/libs/cxxsupp/libcxx/include/__functional/boyer_moore_searcher.h:26:\n",
      "  \u001b[31m   \u001b[0m In file included from /private/var/folders/0t/d3pxkghn5d920blj72_db9mr0000gn/T/pip-install-yc98cc5v/catboost_2090f1ce70344f2bb47bbf567a5d5b4a/catboost_all_src/contrib/libs/cxxsupp/libcxx/include/unordered_map:600:\n",
      "  \u001b[31m   \u001b[0m In file included from /private/var/folders/0t/d3pxkghn5d920blj72_db9mr0000gn/T/pip-install-yc98cc5v/catboost_2090f1ce70344f2bb47bbf567a5d5b4a/catboost_all_src/contrib/libs/cxxsupp/libcxx/include/__node_handle:65:\n",
      "  \u001b[31m   \u001b[0m \u001b[1m/private/var/folders/0t/d3pxkghn5d920blj72_db9mr0000gn/T/pip-install-yc98cc5v/catboost_2090f1ce70344f2bb47bbf567a5d5b4a/catboost_all_src/contrib/libs/cxxsupp/libcxx/include/optional:689:65: \u001b[0m\u001b[0;1;31merror: \u001b[0m\u001b[1mlambda expression in an unevaluated operand\u001b[0m\n",
      "  \u001b[31m   \u001b[0m concept __is_derived_from_optional = requires(const _Tp& __t) { []<class _Up>(const optional<_Up>&) {}(__t); };\n",
      "  \u001b[31m   \u001b[0m \u001b[0;1;32m                                                                ^\n",
      "  \u001b[31m   \u001b[0m \u001b[0m1 error generated.\n",
      "  \u001b[31m   \u001b[0m [76/3724] /usr/bin/clang++ -DCATBOOST_OPENSOURCE=yes -I/private/var/folders/0t/d3pxkghn5d920blj72_db9mr0000gn/T/pip-install-yc98cc5v/catboost_2090f1ce70344f2bb47bbf567a5d5b4a/catboost_all_src -I/private/var/folders/0t/d3pxkghn5d920blj72_db9mr0000gn/T/pip-install-yc98cc5v/catboost_2090f1ce70344f2bb47bbf567a5d5b4a/build/temp.macosx-10.9-x86_64-cpython-311 -I/private/var/folders/0t/d3pxkghn5d920blj72_db9mr0000gn/T/pip-install-yc98cc5v/catboost_2090f1ce70344f2bb47bbf567a5d5b4a/catboost_all_src/contrib/libs/cxxsupp/libcxx/include -I/private/var/folders/0t/d3pxkghn5d920blj72_db9mr0000gn/T/pip-install-yc98cc5v/catboost_2090f1ce70344f2bb47bbf567a5d5b4a/catboost_all_src/contrib/libs/cxxsupp/libcxxrt/include -I/private/var/folders/0t/d3pxkghn5d920blj72_db9mr0000gn/T/pip-install-yc98cc5v/catboost_2090f1ce70344f2bb47bbf567a5d5b4a/catboost_all_src/contrib/libs/cxxsupp/libcxx/src -I/private/var/folders/0t/d3pxkghn5d920blj72_db9mr0000gn/T/pip-install-yc98cc5v/catboost_2090f1ce70344f2bb47bbf567a5d5b4a/catboost_all_src/contrib/libs/clang16-rt/include -fexceptions   -fno-common   -fcolor-diagnostics   -faligned-allocation   -fdebug-default-version=4   -ffunction-sections   -fdata-sections   -Wall   -Wextra   -Wno-parentheses   -Wno-implicit-const-int-float-conversion   -Wno-unknown-warning-option   -pipe   -D_THREAD_SAFE   -D_PTHREADS   -D_REENTRANT   -D_LARGEFILE_SOURCE   -D__STDC_CONSTANT_MACROS   -D__STDC_FORMAT_MACROS   -D__LONG_LONG_SUPPORTED  -DLIBCXX_BUILDING_LIBCXXRT -D_FILE_OFFSET_BITS=64  -m64    -msse2     -msse3     -mssse3         -msse4.1       -msse4.2       -mpopcnt      -mcx16   -Woverloaded-virtual   -Wimport-preprocessor-directive-pedantic   -Wno-undefined-var-template   -Wno-return-std-move   -Wno-defaulted-function-deleted   -Wno-pessimizing-move   -Wno-deprecated-anon-enum-enum-conversion   -Wno-deprecated-enum-enum-conversion   -Wno-deprecated-enum-float-conversion   -Wno-ambiguous-reversed-operator   -Wno-deprecated-volatile      -DSSE_ENABLED=1     -DSSE3_ENABLED=1     -DSSSE3_ENABLED=1         -DSSE41_ENABLED=1       -DSSE42_ENABLED=1       -DPOPCNT_ENABLED=1      -DCX16_ENABLED=1 -O3 -DNDEBUG -std=c++20 -isysroot /Library/Developer/CommandLineTools/SDKs/MacOSX12.1.sdk -mmacosx-version-min=11.0 -fPIC -DLIBCXX_BUILDING_LIBCXXRT -nostdinc++ -D_LIBCPP_BUILDING_LIBRARY -Wno-everything -D_libunwind_ -MD -MT contrib/libs/cxxsupp/libcxx/CMakeFiles/libs-cxxsupp-libcxx.dir/src/error_category.cpp.o -MF contrib/libs/cxxsupp/libcxx/CMakeFiles/libs-cxxsupp-libcxx.dir/src/error_category.cpp.o.d -o contrib/libs/cxxsupp/libcxx/CMakeFiles/libs-cxxsupp-libcxx.dir/src/error_category.cpp.o -c /private/var/folders/0t/d3pxkghn5d920blj72_db9mr0000gn/T/pip-install-yc98cc5v/catboost_2090f1ce70344f2bb47bbf567a5d5b4a/catboost_all_src/contrib/libs/cxxsupp/libcxx/src/error_category.cpp\n",
      "  \u001b[31m   \u001b[0m [77/3724] /usr/bin/clang++ -DCATBOOST_OPENSOURCE=yes -I/private/var/folders/0t/d3pxkghn5d920blj72_db9mr0000gn/T/pip-install-yc98cc5v/catboost_2090f1ce70344f2bb47bbf567a5d5b4a/catboost_all_src -I/private/var/folders/0t/d3pxkghn5d920blj72_db9mr0000gn/T/pip-install-yc98cc5v/catboost_2090f1ce70344f2bb47bbf567a5d5b4a/build/temp.macosx-10.9-x86_64-cpython-311 -I/private/var/folders/0t/d3pxkghn5d920blj72_db9mr0000gn/T/pip-install-yc98cc5v/catboost_2090f1ce70344f2bb47bbf567a5d5b4a/catboost_all_src/contrib/libs/cxxsupp/libcxx/include -I/private/var/folders/0t/d3pxkghn5d920blj72_db9mr0000gn/T/pip-install-yc98cc5v/catboost_2090f1ce70344f2bb47bbf567a5d5b4a/catboost_all_src/contrib/libs/cxxsupp/libcxxrt/include -I/private/var/folders/0t/d3pxkghn5d920blj72_db9mr0000gn/T/pip-install-yc98cc5v/catboost_2090f1ce70344f2bb47bbf567a5d5b4a/catboost_all_src/contrib/libs/cxxsupp/libcxx/src -I/private/var/folders/0t/d3pxkghn5d920blj72_db9mr0000gn/T/pip-install-yc98cc5v/catboost_2090f1ce70344f2bb47bbf567a5d5b4a/catboost_all_src/contrib/libs/clang16-rt/include -fexceptions   -fno-common   -fcolor-diagnostics   -faligned-allocation   -fdebug-default-version=4   -ffunction-sections   -fdata-sections   -Wall   -Wextra   -Wno-parentheses   -Wno-implicit-const-int-float-conversion   -Wno-unknown-warning-option   -pipe   -D_THREAD_SAFE   -D_PTHREADS   -D_REENTRANT   -D_LARGEFILE_SOURCE   -D__STDC_CONSTANT_MACROS   -D__STDC_FORMAT_MACROS   -D__LONG_LONG_SUPPORTED  -DLIBCXX_BUILDING_LIBCXXRT -D_FILE_OFFSET_BITS=64  -m64    -msse2     -msse3     -mssse3         -msse4.1       -msse4.2       -mpopcnt      -mcx16   -Woverloaded-virtual   -Wimport-preprocessor-directive-pedantic   -Wno-undefined-var-template   -Wno-return-std-move   -Wno-defaulted-function-deleted   -Wno-pessimizing-move   -Wno-deprecated-anon-enum-enum-conversion   -Wno-deprecated-enum-enum-conversion   -Wno-deprecated-enum-float-conversion   -Wno-ambiguous-reversed-operator   -Wno-deprecated-volatile      -DSSE_ENABLED=1     -DSSE3_ENABLED=1     -DSSSE3_ENABLED=1         -DSSE41_ENABLED=1       -DSSE42_ENABLED=1       -DPOPCNT_ENABLED=1      -DCX16_ENABLED=1 -O3 -DNDEBUG -std=c++20 -isysroot /Library/Developer/CommandLineTools/SDKs/MacOSX12.1.sdk -mmacosx-version-min=11.0 -fPIC -DLIBCXX_BUILDING_LIBCXXRT -nostdinc++ -D_LIBCPP_BUILDING_LIBRARY -Wno-everything -D_libunwind_ -MD -MT contrib/libs/cxxsupp/libcxx/CMakeFiles/libs-cxxsupp-libcxx.dir/src/condition_variable.cpp.o -MF contrib/libs/cxxsupp/libcxx/CMakeFiles/libs-cxxsupp-libcxx.dir/src/condition_variable.cpp.o.d -o contrib/libs/cxxsupp/libcxx/CMakeFiles/libs-cxxsupp-libcxx.dir/src/condition_variable.cpp.o -c /private/var/folders/0t/d3pxkghn5d920blj72_db9mr0000gn/T/pip-install-yc98cc5v/catboost_2090f1ce70344f2bb47bbf567a5d5b4a/catboost_all_src/contrib/libs/cxxsupp/libcxx/src/condition_variable.cpp\n",
      "  \u001b[31m   \u001b[0m [78/3724] /usr/bin/clang++ -DCATBOOST_OPENSOURCE=yes -I/private/var/folders/0t/d3pxkghn5d920blj72_db9mr0000gn/T/pip-install-yc98cc5v/catboost_2090f1ce70344f2bb47bbf567a5d5b4a/catboost_all_src -I/private/var/folders/0t/d3pxkghn5d920blj72_db9mr0000gn/T/pip-install-yc98cc5v/catboost_2090f1ce70344f2bb47bbf567a5d5b4a/build/temp.macosx-10.9-x86_64-cpython-311 -I/private/var/folders/0t/d3pxkghn5d920blj72_db9mr0000gn/T/pip-install-yc98cc5v/catboost_2090f1ce70344f2bb47bbf567a5d5b4a/catboost_all_src/contrib/libs/cxxsupp/libcxxabi/include -I/private/var/folders/0t/d3pxkghn5d920blj72_db9mr0000gn/T/pip-install-yc98cc5v/catboost_2090f1ce70344f2bb47bbf567a5d5b4a/catboost_all_src/contrib/libs/cxxsupp/libcxx/include -I/private/var/folders/0t/d3pxkghn5d920blj72_db9mr0000gn/T/pip-install-yc98cc5v/catboost_2090f1ce70344f2bb47bbf567a5d5b4a/catboost_all_src/contrib/libs/cxxsupp/libcxx -fexceptions   -fno-common   -fcolor-diagnostics   -faligned-allocation   -fdebug-default-version=4   -ffunction-sections   -fdata-sections   -Wall   -Wextra   -Wno-parentheses   -Wno-implicit-const-int-float-conversion   -Wno-unknown-warning-option   -pipe   -D_THREAD_SAFE   -D_PTHREADS   -D_REENTRANT   -D_LARGEFILE_SOURCE   -D__STDC_CONSTANT_MACROS   -D__STDC_FORMAT_MACROS   -D__LONG_LONG_SUPPORTED  -DLIBCXX_BUILDING_LIBCXXRT -D_FILE_OFFSET_BITS=64  -m64    -msse2     -msse3     -mssse3         -msse4.1       -msse4.2       -mpopcnt      -mcx16   -Woverloaded-virtual   -Wimport-preprocessor-directive-pedantic   -Wno-undefined-var-template   -Wno-return-std-move   -Wno-defaulted-function-deleted   -Wno-pessimizing-move   -Wno-deprecated-anon-enum-enum-conversion   -Wno-deprecated-enum-enum-conversion   -Wno-deprecated-enum-float-conversion   -Wno-ambiguous-reversed-operator   -Wno-deprecated-volatile      -DSSE_ENABLED=1     -DSSE3_ENABLED=1     -DSSSE3_ENABLED=1         -DSSE41_ENABLED=1       -DSSE42_ENABLED=1       -DPOPCNT_ENABLED=1      -DCX16_ENABLED=1 -O3 -DNDEBUG -std=c++20 -isysroot /Library/Developer/CommandLineTools/SDKs/MacOSX12.1.sdk -mmacosx-version-min=11.0 -fPIC -nostdinc++ -D_LIBCXXABI_BUILDING_LIBRARY -Wno-everything -MD -MT contrib/libs/cxxsupp/libcxxabi-parts/CMakeFiles/libs-cxxsupp-libcxxabi-parts.dir/__/libcxxabi/src/cxa_demangle.cpp.o -MF contrib/libs/cxxsupp/libcxxabi-parts/CMakeFiles/libs-cxxsupp-libcxxabi-parts.dir/__/libcxxabi/src/cxa_demangle.cpp.o.d -o contrib/libs/cxxsupp/libcxxabi-parts/CMakeFiles/libs-cxxsupp-libcxxabi-parts.dir/__/libcxxabi/src/cxa_demangle.cpp.o -c /private/var/folders/0t/d3pxkghn5d920blj72_db9mr0000gn/T/pip-install-yc98cc5v/catboost_2090f1ce70344f2bb47bbf567a5d5b4a/catboost_all_src/contrib/libs/cxxsupp/libcxxabi/src/cxa_demangle.cpp\n",
      "  \u001b[31m   \u001b[0m \u001b[31mFAILED: \u001b[0mcontrib/libs/cxxsupp/libcxxabi-parts/CMakeFiles/libs-cxxsupp-libcxxabi-parts.dir/__/libcxxabi/src/cxa_demangle.cpp.o\n",
      "  \u001b[31m   \u001b[0m /usr/bin/clang++ -DCATBOOST_OPENSOURCE=yes -I/private/var/folders/0t/d3pxkghn5d920blj72_db9mr0000gn/T/pip-install-yc98cc5v/catboost_2090f1ce70344f2bb47bbf567a5d5b4a/catboost_all_src -I/private/var/folders/0t/d3pxkghn5d920blj72_db9mr0000gn/T/pip-install-yc98cc5v/catboost_2090f1ce70344f2bb47bbf567a5d5b4a/build/temp.macosx-10.9-x86_64-cpython-311 -I/private/var/folders/0t/d3pxkghn5d920blj72_db9mr0000gn/T/pip-install-yc98cc5v/catboost_2090f1ce70344f2bb47bbf567a5d5b4a/catboost_all_src/contrib/libs/cxxsupp/libcxxabi/include -I/private/var/folders/0t/d3pxkghn5d920blj72_db9mr0000gn/T/pip-install-yc98cc5v/catboost_2090f1ce70344f2bb47bbf567a5d5b4a/catboost_all_src/contrib/libs/cxxsupp/libcxx/include -I/private/var/folders/0t/d3pxkghn5d920blj72_db9mr0000gn/T/pip-install-yc98cc5v/catboost_2090f1ce70344f2bb47bbf567a5d5b4a/catboost_all_src/contrib/libs/cxxsupp/libcxx -fexceptions   -fno-common   -fcolor-diagnostics   -faligned-allocation   -fdebug-default-version=4   -ffunction-sections   -fdata-sections   -Wall   -Wextra   -Wno-parentheses   -Wno-implicit-const-int-float-conversion   -Wno-unknown-warning-option   -pipe   -D_THREAD_SAFE   -D_PTHREADS   -D_REENTRANT   -D_LARGEFILE_SOURCE   -D__STDC_CONSTANT_MACROS   -D__STDC_FORMAT_MACROS   -D__LONG_LONG_SUPPORTED  -DLIBCXX_BUILDING_LIBCXXRT -D_FILE_OFFSET_BITS=64  -m64    -msse2     -msse3     -mssse3         -msse4.1       -msse4.2       -mpopcnt      -mcx16   -Woverloaded-virtual   -Wimport-preprocessor-directive-pedantic   -Wno-undefined-var-template   -Wno-return-std-move   -Wno-defaulted-function-deleted   -Wno-pessimizing-move   -Wno-deprecated-anon-enum-enum-conversion   -Wno-deprecated-enum-enum-conversion   -Wno-deprecated-enum-float-conversion   -Wno-ambiguous-reversed-operator   -Wno-deprecated-volatile      -DSSE_ENABLED=1     -DSSE3_ENABLED=1     -DSSSE3_ENABLED=1         -DSSE41_ENABLED=1       -DSSE42_ENABLED=1       -DPOPCNT_ENABLED=1      -DCX16_ENABLED=1 -O3 -DNDEBUG -std=c++20 -isysroot /Library/Developer/CommandLineTools/SDKs/MacOSX12.1.sdk -mmacosx-version-min=11.0 -fPIC -nostdinc++ -D_LIBCXXABI_BUILDING_LIBRARY -Wno-everything -MD -MT contrib/libs/cxxsupp/libcxxabi-parts/CMakeFiles/libs-cxxsupp-libcxxabi-parts.dir/__/libcxxabi/src/cxa_demangle.cpp.o -MF contrib/libs/cxxsupp/libcxxabi-parts/CMakeFiles/libs-cxxsupp-libcxxabi-parts.dir/__/libcxxabi/src/cxa_demangle.cpp.o.d -o contrib/libs/cxxsupp/libcxxabi-parts/CMakeFiles/libs-cxxsupp-libcxxabi-parts.dir/__/libcxxabi/src/cxa_demangle.cpp.o -c /private/var/folders/0t/d3pxkghn5d920blj72_db9mr0000gn/T/pip-install-yc98cc5v/catboost_2090f1ce70344f2bb47bbf567a5d5b4a/catboost_all_src/contrib/libs/cxxsupp/libcxxabi/src/cxa_demangle.cpp\n",
      "  \u001b[31m   \u001b[0m In file included from /private/var/folders/0t/d3pxkghn5d920blj72_db9mr0000gn/T/pip-install-yc98cc5v/catboost_2090f1ce70344f2bb47bbf567a5d5b4a/catboost_all_src/contrib/libs/cxxsupp/libcxxabi/src/cxa_demangle.cpp:20:\n",
      "  \u001b[31m   \u001b[0m In file included from /private/var/folders/0t/d3pxkghn5d920blj72_db9mr0000gn/T/pip-install-yc98cc5v/catboost_2090f1ce70344f2bb47bbf567a5d5b4a/catboost_all_src/contrib/libs/cxxsupp/libcxx/include/functional:526:\n",
      "  \u001b[31m   \u001b[0m In file included from /private/var/folders/0t/d3pxkghn5d920blj72_db9mr0000gn/T/pip-install-yc98cc5v/catboost_2090f1ce70344f2bb47bbf567a5d5b4a/catboost_all_src/contrib/libs/cxxsupp/libcxx/include/__functional/boyer_moore_searcher.h:26:\n",
      "  \u001b[31m   \u001b[0m In file included from /private/var/folders/0t/d3pxkghn5d920blj72_db9mr0000gn/T/pip-install-yc98cc5v/catboost_2090f1ce70344f2bb47bbf567a5d5b4a/catboost_all_src/contrib/libs/cxxsupp/libcxx/include/unordered_map:600:\n",
      "  \u001b[31m   \u001b[0m In file included from /private/var/folders/0t/d3pxkghn5d920blj72_db9mr0000gn/T/pip-install-yc98cc5v/catboost_2090f1ce70344f2bb47bbf567a5d5b4a/catboost_all_src/contrib/libs/cxxsupp/libcxx/include/__node_handle:65:\n",
      "  \u001b[31m   \u001b[0m \u001b[1m/private/var/folders/0t/d3pxkghn5d920blj72_db9mr0000gn/T/pip-install-yc98cc5v/catboost_2090f1ce70344f2bb47bbf567a5d5b4a/catboost_all_src/contrib/libs/cxxsupp/libcxx/include/optional:689:65: \u001b[0m\u001b[0;1;31merror: \u001b[0m\u001b[1mlambda expression in an unevaluated operand\u001b[0m\n",
      "  \u001b[31m   \u001b[0m concept __is_derived_from_optional = requires(const _Tp& __t) { []<class _Up>(const optional<_Up>&) {}(__t); };\n",
      "  \u001b[31m   \u001b[0m \u001b[0;1;32m                                                                ^\n",
      "  \u001b[31m   \u001b[0m \u001b[0m1 error generated.\n",
      "  \u001b[31m   \u001b[0m [79/3724] /usr/bin/clang++ -DCATBOOST_OPENSOURCE=yes -I/private/var/folders/0t/d3pxkghn5d920blj72_db9mr0000gn/T/pip-install-yc98cc5v/catboost_2090f1ce70344f2bb47bbf567a5d5b4a/catboost_all_src -I/private/var/folders/0t/d3pxkghn5d920blj72_db9mr0000gn/T/pip-install-yc98cc5v/catboost_2090f1ce70344f2bb47bbf567a5d5b4a/build/temp.macosx-10.9-x86_64-cpython-311 -I/private/var/folders/0t/d3pxkghn5d920blj72_db9mr0000gn/T/pip-install-yc98cc5v/catboost_2090f1ce70344f2bb47bbf567a5d5b4a/catboost_all_src/contrib/libs/cxxsupp/libcxx/include -I/private/var/folders/0t/d3pxkghn5d920blj72_db9mr0000gn/T/pip-install-yc98cc5v/catboost_2090f1ce70344f2bb47bbf567a5d5b4a/catboost_all_src/contrib/libs/cxxsupp/libcxxrt/include -I/private/var/folders/0t/d3pxkghn5d920blj72_db9mr0000gn/T/pip-install-yc98cc5v/catboost_2090f1ce70344f2bb47bbf567a5d5b4a/catboost_all_src/contrib/libs/cxxsupp/libcxx/src -I/private/var/folders/0t/d3pxkghn5d920blj72_db9mr0000gn/T/pip-install-yc98cc5v/catboost_2090f1ce70344f2bb47bbf567a5d5b4a/catboost_all_src/contrib/libs/clang16-rt/include -fexceptions   -fno-common   -fcolor-diagnostics   -faligned-allocation   -fdebug-default-version=4   -ffunction-sections   -fdata-sections   -Wall   -Wextra   -Wno-parentheses   -Wno-implicit-const-int-float-conversion   -Wno-unknown-warning-option   -pipe   -D_THREAD_SAFE   -D_PTHREADS   -D_REENTRANT   -D_LARGEFILE_SOURCE   -D__STDC_CONSTANT_MACROS   -D__STDC_FORMAT_MACROS   -D__LONG_LONG_SUPPORTED  -DLIBCXX_BUILDING_LIBCXXRT -D_FILE_OFFSET_BITS=64  -m64    -msse2     -msse3     -mssse3         -msse4.1       -msse4.2       -mpopcnt      -mcx16   -Woverloaded-virtual   -Wimport-preprocessor-directive-pedantic   -Wno-undefined-var-template   -Wno-return-std-move   -Wno-defaulted-function-deleted   -Wno-pessimizing-move   -Wno-deprecated-anon-enum-enum-conversion   -Wno-deprecated-enum-enum-conversion   -Wno-deprecated-enum-float-conversion   -Wno-ambiguous-reversed-operator   -Wno-deprecated-volatile      -DSSE_ENABLED=1     -DSSE3_ENABLED=1     -DSSSE3_ENABLED=1         -DSSE41_ENABLED=1       -DSSE42_ENABLED=1       -DPOPCNT_ENABLED=1      -DCX16_ENABLED=1 -O3 -DNDEBUG -std=c++20 -isysroot /Library/Developer/CommandLineTools/SDKs/MacOSX12.1.sdk -mmacosx-version-min=11.0 -fPIC -DLIBCXX_BUILDING_LIBCXXRT -nostdinc++ -D_LIBCPP_BUILDING_LIBRARY -Wno-everything -D_libunwind_ -MD -MT contrib/libs/cxxsupp/libcxx/CMakeFiles/libs-cxxsupp-libcxx.dir/src/filesystem/directory_entry.cpp.o -MF contrib/libs/cxxsupp/libcxx/CMakeFiles/libs-cxxsupp-libcxx.dir/src/filesystem/directory_entry.cpp.o.d -o contrib/libs/cxxsupp/libcxx/CMakeFiles/libs-cxxsupp-libcxx.dir/src/filesystem/directory_entry.cpp.o -c /private/var/folders/0t/d3pxkghn5d920blj72_db9mr0000gn/T/pip-install-yc98cc5v/catboost_2090f1ce70344f2bb47bbf567a5d5b4a/catboost_all_src/contrib/libs/cxxsupp/libcxx/src/filesystem/directory_entry.cpp\n",
      "  \u001b[31m   \u001b[0m [80/3724] /usr/bin/clang++ -DCATBOOST_OPENSOURCE=yes -I/private/var/folders/0t/d3pxkghn5d920blj72_db9mr0000gn/T/pip-install-yc98cc5v/catboost_2090f1ce70344f2bb47bbf567a5d5b4a/catboost_all_src -I/private/var/folders/0t/d3pxkghn5d920blj72_db9mr0000gn/T/pip-install-yc98cc5v/catboost_2090f1ce70344f2bb47bbf567a5d5b4a/build/temp.macosx-10.9-x86_64-cpython-311 -I/private/var/folders/0t/d3pxkghn5d920blj72_db9mr0000gn/T/pip-install-yc98cc5v/catboost_2090f1ce70344f2bb47bbf567a5d5b4a/catboost_all_src/contrib/libs/cxxsupp/libcxx/include -I/private/var/folders/0t/d3pxkghn5d920blj72_db9mr0000gn/T/pip-install-yc98cc5v/catboost_2090f1ce70344f2bb47bbf567a5d5b4a/catboost_all_src/contrib/libs/cxxsupp/libcxxrt/include -I/private/var/folders/0t/d3pxkghn5d920blj72_db9mr0000gn/T/pip-install-yc98cc5v/catboost_2090f1ce70344f2bb47bbf567a5d5b4a/catboost_all_src/contrib/libs/cxxsupp/libcxx/src -I/private/var/folders/0t/d3pxkghn5d920blj72_db9mr0000gn/T/pip-install-yc98cc5v/catboost_2090f1ce70344f2bb47bbf567a5d5b4a/catboost_all_src/contrib/libs/clang16-rt/include -fexceptions   -fno-common   -fcolor-diagnostics   -faligned-allocation   -fdebug-default-version=4   -ffunction-sections   -fdata-sections   -Wall   -Wextra   -Wno-parentheses   -Wno-implicit-const-int-float-conversion   -Wno-unknown-warning-option   -pipe   -D_THREAD_SAFE   -D_PTHREADS   -D_REENTRANT   -D_LARGEFILE_SOURCE   -D__STDC_CONSTANT_MACROS   -D__STDC_FORMAT_MACROS   -D__LONG_LONG_SUPPORTED  -DLIBCXX_BUILDING_LIBCXXRT -D_FILE_OFFSET_BITS=64  -m64    -msse2     -msse3     -mssse3         -msse4.1       -msse4.2       -mpopcnt      -mcx16   -Woverloaded-virtual   -Wimport-preprocessor-directive-pedantic   -Wno-undefined-var-template   -Wno-return-std-move   -Wno-defaulted-function-deleted   -Wno-pessimizing-move   -Wno-deprecated-anon-enum-enum-conversion   -Wno-deprecated-enum-enum-conversion   -Wno-deprecated-enum-float-conversion   -Wno-ambiguous-reversed-operator   -Wno-deprecated-volatile      -DSSE_ENABLED=1     -DSSE3_ENABLED=1     -DSSSE3_ENABLED=1         -DSSE41_ENABLED=1       -DSSE42_ENABLED=1       -DPOPCNT_ENABLED=1      -DCX16_ENABLED=1 -O3 -DNDEBUG -std=c++20 -isysroot /Library/Developer/CommandLineTools/SDKs/MacOSX12.1.sdk -mmacosx-version-min=11.0 -fPIC -DLIBCXX_BUILDING_LIBCXXRT -nostdinc++ -D_LIBCPP_BUILDING_LIBRARY -Wno-everything -D_libunwind_ -MD -MT contrib/libs/cxxsupp/libcxx/CMakeFiles/libs-cxxsupp-libcxx.dir/src/algorithm_old.cpp.o -MF contrib/libs/cxxsupp/libcxx/CMakeFiles/libs-cxxsupp-libcxx.dir/src/algorithm_old.cpp.o.d -o contrib/libs/cxxsupp/libcxx/CMakeFiles/libs-cxxsupp-libcxx.dir/src/algorithm_old.cpp.o -c /private/var/folders/0t/d3pxkghn5d920blj72_db9mr0000gn/T/pip-install-yc98cc5v/catboost_2090f1ce70344f2bb47bbf567a5d5b4a/catboost_all_src/contrib/libs/cxxsupp/libcxx/src/algorithm_old.cpp\n",
      "  \u001b[31m   \u001b[0m [81/3724] /usr/bin/clang++ -DCATBOOST_OPENSOURCE=yes -I/private/var/folders/0t/d3pxkghn5d920blj72_db9mr0000gn/T/pip-install-yc98cc5v/catboost_2090f1ce70344f2bb47bbf567a5d5b4a/catboost_all_src -I/private/var/folders/0t/d3pxkghn5d920blj72_db9mr0000gn/T/pip-install-yc98cc5v/catboost_2090f1ce70344f2bb47bbf567a5d5b4a/build/temp.macosx-10.9-x86_64-cpython-311 -I/private/var/folders/0t/d3pxkghn5d920blj72_db9mr0000gn/T/pip-install-yc98cc5v/catboost_2090f1ce70344f2bb47bbf567a5d5b4a/catboost_all_src/contrib/libs/cxxsupp/libcxx/include -I/private/var/folders/0t/d3pxkghn5d920blj72_db9mr0000gn/T/pip-install-yc98cc5v/catboost_2090f1ce70344f2bb47bbf567a5d5b4a/catboost_all_src/contrib/libs/cxxsupp/libcxxrt/include -I/private/var/folders/0t/d3pxkghn5d920blj72_db9mr0000gn/T/pip-install-yc98cc5v/catboost_2090f1ce70344f2bb47bbf567a5d5b4a/catboost_all_src/contrib/libs/cxxsupp/libcxx/src -I/private/var/folders/0t/d3pxkghn5d920blj72_db9mr0000gn/T/pip-install-yc98cc5v/catboost_2090f1ce70344f2bb47bbf567a5d5b4a/catboost_all_src/contrib/libs/clang16-rt/include -fexceptions   -fno-common   -fcolor-diagnostics   -faligned-allocation   -fdebug-default-version=4   -ffunction-sections   -fdata-sections   -Wall   -Wextra   -Wno-parentheses   -Wno-implicit-const-int-float-conversion   -Wno-unknown-warning-option   -pipe   -D_THREAD_SAFE   -D_PTHREADS   -D_REENTRANT   -D_LARGEFILE_SOURCE   -D__STDC_CONSTANT_MACROS   -D__STDC_FORMAT_MACROS   -D__LONG_LONG_SUPPORTED  -DLIBCXX_BUILDING_LIBCXXRT -D_FILE_OFFSET_BITS=64  -m64    -msse2     -msse3     -mssse3         -msse4.1       -msse4.2       -mpopcnt      -mcx16   -Woverloaded-virtual   -Wimport-preprocessor-directive-pedantic   -Wno-undefined-var-template   -Wno-return-std-move   -Wno-defaulted-function-deleted   -Wno-pessimizing-move   -Wno-deprecated-anon-enum-enum-conversion   -Wno-deprecated-enum-enum-conversion   -Wno-deprecated-enum-float-conversion   -Wno-ambiguous-reversed-operator   -Wno-deprecated-volatile      -DSSE_ENABLED=1     -DSSE3_ENABLED=1     -DSSSE3_ENABLED=1         -DSSE41_ENABLED=1       -DSSE42_ENABLED=1       -DPOPCNT_ENABLED=1      -DCX16_ENABLED=1 -O3 -DNDEBUG -std=c++20 -isysroot /Library/Developer/CommandLineTools/SDKs/MacOSX12.1.sdk -mmacosx-version-min=11.0 -fPIC -DLIBCXX_BUILDING_LIBCXXRT -nostdinc++ -D_LIBCPP_BUILDING_LIBRARY -Wno-everything -D_libunwind_ -MD -MT contrib/libs/cxxsupp/libcxx/CMakeFiles/libs-cxxsupp-libcxx.dir/src/filesystem/directory_iterator.cpp.o -MF contrib/libs/cxxsupp/libcxx/CMakeFiles/libs-cxxsupp-libcxx.dir/src/filesystem/directory_iterator.cpp.o.d -o contrib/libs/cxxsupp/libcxx/CMakeFiles/libs-cxxsupp-libcxx.dir/src/filesystem/directory_iterator.cpp.o -c /private/var/folders/0t/d3pxkghn5d920blj72_db9mr0000gn/T/pip-install-yc98cc5v/catboost_2090f1ce70344f2bb47bbf567a5d5b4a/catboost_all_src/contrib/libs/cxxsupp/libcxx/src/filesystem/directory_iterator.cpp\n",
      "  \u001b[31m   \u001b[0m [82/3724] /usr/bin/clang++ -DCATBOOST_OPENSOURCE=yes -I/private/var/folders/0t/d3pxkghn5d920blj72_db9mr0000gn/T/pip-install-yc98cc5v/catboost_2090f1ce70344f2bb47bbf567a5d5b4a/catboost_all_src -I/private/var/folders/0t/d3pxkghn5d920blj72_db9mr0000gn/T/pip-install-yc98cc5v/catboost_2090f1ce70344f2bb47bbf567a5d5b4a/build/temp.macosx-10.9-x86_64-cpython-311 -I/private/var/folders/0t/d3pxkghn5d920blj72_db9mr0000gn/T/pip-install-yc98cc5v/catboost_2090f1ce70344f2bb47bbf567a5d5b4a/catboost_all_src/contrib/libs/cxxsupp/libcxx/include -I/private/var/folders/0t/d3pxkghn5d920blj72_db9mr0000gn/T/pip-install-yc98cc5v/catboost_2090f1ce70344f2bb47bbf567a5d5b4a/catboost_all_src/contrib/libs/cxxsupp/libcxxrt/include -I/private/var/folders/0t/d3pxkghn5d920blj72_db9mr0000gn/T/pip-install-yc98cc5v/catboost_2090f1ce70344f2bb47bbf567a5d5b4a/catboost_all_src/contrib/libs/cxxsupp/libcxx/src -I/private/var/folders/0t/d3pxkghn5d920blj72_db9mr0000gn/T/pip-install-yc98cc5v/catboost_2090f1ce70344f2bb47bbf567a5d5b4a/catboost_all_src/contrib/libs/clang16-rt/include -fexceptions   -fno-common   -fcolor-diagnostics   -faligned-allocation   -fdebug-default-version=4   -ffunction-sections   -fdata-sections   -Wall   -Wextra   -Wno-parentheses   -Wno-implicit-const-int-float-conversion   -Wno-unknown-warning-option   -pipe   -D_THREAD_SAFE   -D_PTHREADS   -D_REENTRANT   -D_LARGEFILE_SOURCE   -D__STDC_CONSTANT_MACROS   -D__STDC_FORMAT_MACROS   -D__LONG_LONG_SUPPORTED  -DLIBCXX_BUILDING_LIBCXXRT -D_FILE_OFFSET_BITS=64  -m64    -msse2     -msse3     -mssse3         -msse4.1       -msse4.2       -mpopcnt      -mcx16   -Woverloaded-virtual   -Wimport-preprocessor-directive-pedantic   -Wno-undefined-var-template   -Wno-return-std-move   -Wno-defaulted-function-deleted   -Wno-pessimizing-move   -Wno-deprecated-anon-enum-enum-conversion   -Wno-deprecated-enum-enum-conversion   -Wno-deprecated-enum-float-conversion   -Wno-ambiguous-reversed-operator   -Wno-deprecated-volatile      -DSSE_ENABLED=1     -DSSE3_ENABLED=1     -DSSSE3_ENABLED=1         -DSSE41_ENABLED=1       -DSSE42_ENABLED=1       -DPOPCNT_ENABLED=1      -DCX16_ENABLED=1 -O3 -DNDEBUG -std=c++20 -isysroot /Library/Developer/CommandLineTools/SDKs/MacOSX12.1.sdk -mmacosx-version-min=11.0 -fPIC -DLIBCXX_BUILDING_LIBCXXRT -nostdinc++ -D_LIBCPP_BUILDING_LIBRARY -Wno-everything -D_libunwind_ -MD -MT contrib/libs/cxxsupp/libcxx/CMakeFiles/libs-cxxsupp-libcxx.dir/src/algorithm.cpp.o -MF contrib/libs/cxxsupp/libcxx/CMakeFiles/libs-cxxsupp-libcxx.dir/src/algorithm.cpp.o.d -o contrib/libs/cxxsupp/libcxx/CMakeFiles/libs-cxxsupp-libcxx.dir/src/algorithm.cpp.o -c /private/var/folders/0t/d3pxkghn5d920blj72_db9mr0000gn/T/pip-install-yc98cc5v/catboost_2090f1ce70344f2bb47bbf567a5d5b4a/catboost_all_src/contrib/libs/cxxsupp/libcxx/src/algorithm.cpp\n",
      "  \u001b[31m   \u001b[0m ninja: build stopped: subcommand failed.\n",
      "  \u001b[31m   \u001b[0m Traceback (most recent call last):\n",
      "  \u001b[31m   \u001b[0m   File \"/Users/admin/anaconda3/lib/python3.11/site-packages/pip/_vendor/pyproject_hooks/_in_process/_in_process.py\", line 353, in <module>\n",
      "  \u001b[31m   \u001b[0m     main()\n",
      "  \u001b[31m   \u001b[0m   File \"/Users/admin/anaconda3/lib/python3.11/site-packages/pip/_vendor/pyproject_hooks/_in_process/_in_process.py\", line 335, in main\n",
      "  \u001b[31m   \u001b[0m     json_out['return_val'] = hook(**hook_input['kwargs'])\n",
      "  \u001b[31m   \u001b[0m                              ^^^^^^^^^^^^^^^^^^^^^^^^^^^^\n",
      "  \u001b[31m   \u001b[0m   File \"/Users/admin/anaconda3/lib/python3.11/site-packages/pip/_vendor/pyproject_hooks/_in_process/_in_process.py\", line 251, in build_wheel\n",
      "  \u001b[31m   \u001b[0m     return _build_backend().build_wheel(wheel_directory, config_settings,\n",
      "  \u001b[31m   \u001b[0m            ^^^^^^^^^^^^^^^^^^^^^^^^^^^^^^^^^^^^^^^^^^^^^^^^^^^^^^^^^^^^^^\n",
      "  \u001b[31m   \u001b[0m   File \"/private/var/folders/0t/d3pxkghn5d920blj72_db9mr0000gn/T/pip-build-env-4bgux99y/overlay/lib/python3.11/site-packages/setuptools/build_meta.py\", line 415, in build_wheel\n",
      "  \u001b[31m   \u001b[0m     return self._build_with_temp_dir(\n",
      "  \u001b[31m   \u001b[0m            ^^^^^^^^^^^^^^^^^^^^^^^^^^\n",
      "  \u001b[31m   \u001b[0m   File \"/private/var/folders/0t/d3pxkghn5d920blj72_db9mr0000gn/T/pip-build-env-4bgux99y/overlay/lib/python3.11/site-packages/setuptools/build_meta.py\", line 397, in _build_with_temp_dir\n",
      "  \u001b[31m   \u001b[0m     self.run_setup()\n",
      "  \u001b[31m   \u001b[0m   File \"/private/var/folders/0t/d3pxkghn5d920blj72_db9mr0000gn/T/pip-build-env-4bgux99y/overlay/lib/python3.11/site-packages/setuptools/build_meta.py\", line 497, in run_setup\n",
      "  \u001b[31m   \u001b[0m     super().run_setup(setup_script=setup_script)\n",
      "  \u001b[31m   \u001b[0m   File \"/private/var/folders/0t/d3pxkghn5d920blj72_db9mr0000gn/T/pip-build-env-4bgux99y/overlay/lib/python3.11/site-packages/setuptools/build_meta.py\", line 313, in run_setup\n",
      "  \u001b[31m   \u001b[0m     exec(code, locals())\n",
      "  \u001b[31m   \u001b[0m   File \"<string>\", line 732, in <module>\n",
      "  \u001b[31m   \u001b[0m   File \"/private/var/folders/0t/d3pxkghn5d920blj72_db9mr0000gn/T/pip-build-env-4bgux99y/overlay/lib/python3.11/site-packages/setuptools/__init__.py\", line 103, in setup\n",
      "  \u001b[31m   \u001b[0m     return distutils.core.setup(**attrs)\n",
      "  \u001b[31m   \u001b[0m            ^^^^^^^^^^^^^^^^^^^^^^^^^^^^^\n",
      "  \u001b[31m   \u001b[0m   File \"/private/var/folders/0t/d3pxkghn5d920blj72_db9mr0000gn/T/pip-build-env-4bgux99y/overlay/lib/python3.11/site-packages/setuptools/_distutils/core.py\", line 184, in setup\n",
      "  \u001b[31m   \u001b[0m     return run_commands(dist)\n",
      "  \u001b[31m   \u001b[0m            ^^^^^^^^^^^^^^^^^^\n",
      "  \u001b[31m   \u001b[0m   File \"/private/var/folders/0t/d3pxkghn5d920blj72_db9mr0000gn/T/pip-build-env-4bgux99y/overlay/lib/python3.11/site-packages/setuptools/_distutils/core.py\", line 200, in run_commands\n",
      "  \u001b[31m   \u001b[0m     dist.run_commands()\n",
      "  \u001b[31m   \u001b[0m   File \"/private/var/folders/0t/d3pxkghn5d920blj72_db9mr0000gn/T/pip-build-env-4bgux99y/overlay/lib/python3.11/site-packages/setuptools/_distutils/dist.py\", line 970, in run_commands\n",
      "  \u001b[31m   \u001b[0m     self.run_command(cmd)\n",
      "  \u001b[31m   \u001b[0m   File \"/private/var/folders/0t/d3pxkghn5d920blj72_db9mr0000gn/T/pip-build-env-4bgux99y/overlay/lib/python3.11/site-packages/setuptools/dist.py\", line 974, in run_command\n",
      "  \u001b[31m   \u001b[0m     super().run_command(command)\n",
      "  \u001b[31m   \u001b[0m   File \"/private/var/folders/0t/d3pxkghn5d920blj72_db9mr0000gn/T/pip-build-env-4bgux99y/overlay/lib/python3.11/site-packages/setuptools/_distutils/dist.py\", line 989, in run_command\n",
      "  \u001b[31m   \u001b[0m     cmd_obj.run()\n",
      "  \u001b[31m   \u001b[0m   File \"<string>\", line 398, in run\n",
      "  \u001b[31m   \u001b[0m   File \"/private/var/folders/0t/d3pxkghn5d920blj72_db9mr0000gn/T/pip-build-env-4bgux99y/overlay/lib/python3.11/site-packages/wheel/bdist_wheel.py\", line 368, in run\n",
      "  \u001b[31m   \u001b[0m     self.run_command(\"build\")\n",
      "  \u001b[31m   \u001b[0m   File \"/private/var/folders/0t/d3pxkghn5d920blj72_db9mr0000gn/T/pip-build-env-4bgux99y/overlay/lib/python3.11/site-packages/setuptools/_distutils/cmd.py\", line 316, in run_command\n",
      "  \u001b[31m   \u001b[0m     self.distribution.run_command(command)\n",
      "  \u001b[31m   \u001b[0m   File \"/private/var/folders/0t/d3pxkghn5d920blj72_db9mr0000gn/T/pip-build-env-4bgux99y/overlay/lib/python3.11/site-packages/setuptools/dist.py\", line 974, in run_command\n",
      "  \u001b[31m   \u001b[0m     super().run_command(command)\n",
      "  \u001b[31m   \u001b[0m   File \"/private/var/folders/0t/d3pxkghn5d920blj72_db9mr0000gn/T/pip-build-env-4bgux99y/overlay/lib/python3.11/site-packages/setuptools/_distutils/dist.py\", line 989, in run_command\n",
      "  \u001b[31m   \u001b[0m     cmd_obj.run()\n",
      "  \u001b[31m   \u001b[0m   File \"<string>\", line 333, in run\n",
      "  \u001b[31m   \u001b[0m   File \"/private/var/folders/0t/d3pxkghn5d920blj72_db9mr0000gn/T/pip-build-env-4bgux99y/overlay/lib/python3.11/site-packages/setuptools/_distutils/command/build.py\", line 135, in run\n",
      "  \u001b[31m   \u001b[0m     self.run_command(cmd_name)\n",
      "  \u001b[31m   \u001b[0m   File \"/private/var/folders/0t/d3pxkghn5d920blj72_db9mr0000gn/T/pip-build-env-4bgux99y/overlay/lib/python3.11/site-packages/setuptools/_distutils/cmd.py\", line 316, in run_command\n",
      "  \u001b[31m   \u001b[0m     self.distribution.run_command(command)\n",
      "  \u001b[31m   \u001b[0m   File \"/private/var/folders/0t/d3pxkghn5d920blj72_db9mr0000gn/T/pip-build-env-4bgux99y/overlay/lib/python3.11/site-packages/setuptools/dist.py\", line 974, in run_command\n",
      "  \u001b[31m   \u001b[0m     super().run_command(command)\n",
      "  \u001b[31m   \u001b[0m   File \"/private/var/folders/0t/d3pxkghn5d920blj72_db9mr0000gn/T/pip-build-env-4bgux99y/overlay/lib/python3.11/site-packages/setuptools/_distutils/dist.py\", line 989, in run_command\n",
      "  \u001b[31m   \u001b[0m     cmd_obj.run()\n",
      "  \u001b[31m   \u001b[0m   File \"<string>\", line 445, in run\n",
      "  \u001b[31m   \u001b[0m   File \"<string>\", line 463, in build_with_cmake_and_ninja\n",
      "  \u001b[31m   \u001b[0m   File \"/private/var/folders/0t/d3pxkghn5d920blj72_db9mr0000gn/T/pip-install-yc98cc5v/catboost_2090f1ce70344f2bb47bbf567a5d5b4a/catboost_all_src/build/build_native.py\", line 591, in build\n",
      "  \u001b[31m   \u001b[0m     cmd_runner.run(ninja_cmd, env=build_environ)\n",
      "  \u001b[31m   \u001b[0m   File \"/private/var/folders/0t/d3pxkghn5d920blj72_db9mr0000gn/T/pip-install-yc98cc5v/catboost_2090f1ce70344f2bb47bbf567a5d5b4a/catboost_all_src/build/build_native.py\", line 172, in run\n",
      "  \u001b[31m   \u001b[0m     subprocess.run(cmd, check=True, **subprocess_run_kwargs)\n",
      "  \u001b[31m   \u001b[0m   File \"/Users/admin/anaconda3/lib/python3.11/subprocess.py\", line 571, in run\n",
      "  \u001b[31m   \u001b[0m     raise CalledProcessError(retcode, process.args,\n",
      "  \u001b[31m   \u001b[0m subprocess.CalledProcessError: Command '['ninja', '-C', '/private/var/folders/0t/d3pxkghn5d920blj72_db9mr0000gn/T/pip-install-yc98cc5v/catboost_2090f1ce70344f2bb47bbf567a5d5b4a/build/temp.macosx-10.9-x86_64-cpython-311', '-v', '_catboost']' returned non-zero exit status 1.\n",
      "  \u001b[31m   \u001b[0m \u001b[31m[end of output]\u001b[0m\n",
      "  \n",
      "  \u001b[1;35mnote\u001b[0m: This error originates from a subprocess, and is likely not a problem with pip.\n",
      "\u001b[31m  ERROR: Failed building wheel for catboost\u001b[0m\u001b[31m\n",
      "\u001b[0m\u001b[?25hFailed to build catboost\n",
      "\u001b[31mERROR: Could not build wheels for catboost, which is required to install pyproject.toml-based projects\u001b[0m\u001b[31m\n",
      "\u001b[0m"
     ]
    }
   ],
   "source": [
    "#! pip install bayesian-optimization lightgbm catboost\n",
    "! pip install bayesian-optimization lightgbm catboost"
   ]
  },
  {
   "cell_type": "code",
   "execution_count": 1,
   "metadata": {
    "ExecuteTime": {
     "end_time": "2019-04-22T16:39:09.312682Z",
     "start_time": "2019-04-22T16:39:09.309208Z"
    },
    "_kg_hide-input": true,
    "colab": {},
    "colab_type": "code",
    "id": "l9nfFTyj-KYY"
   },
   "outputs": [],
   "source": [
    "import warnings\n",
    "warnings.filterwarnings('ignore')\n",
    "from sklearn.preprocessing import LabelEncoder\n",
    "import numpy as np\n",
    "import pandas as pd\n",
    "import lightgbm\n",
    "from bayes_opt import BayesianOptimization\n",
    "from catboost import CatBoostClassifier, cv, Pool"
   ]
  },
  {
   "cell_type": "code",
   "execution_count": 2,
   "metadata": {
    "colab": {
     "base_uri": "https://localhost:8080/",
     "height": 85
    },
    "colab_type": "code",
    "id": "D16Dquw1AAK0",
    "outputId": "44167587-f22e-4bf5-a816-e2bcfdc6c4ee"
   },
   "outputs": [
    {
     "data": {
      "text/plain": [
       "['Confusion_Matrix.jpg',\n",
       " 'RRDinerCoffeeData.csv',\n",
       " 'Capstone 2 - Part 1.ipynb',\n",
       " '03_exploratory_data_analysis.ipynb',\n",
       " 'ski_data_cleaned-Copy1.csv',\n",
       " '03.10-Working-With-Strings.ipynb',\n",
       " '.config',\n",
       " 'apikey.env.save.1',\n",
       " 'Music',\n",
       " '05_modeling.ipynb-original',\n",
       " 'path_to_extraction_directory',\n",
       " 'RandomForest_casestudy_covid19-Copy1.ipynb',\n",
       " '02_data-wrangling_final.ipynb',\n",
       " '.condarc',\n",
       " 'distance_dataset (1).csv',\n",
       " '1581459478_Unit_4_Challenge_-_Tier_2.ipynb.zip',\n",
       " 'Clustering Case Study - Customer Segmentation with K-Means - Tier 3.ipynb',\n",
       " 'Feature Engineering.ipynb',\n",
       " 'nasdaq.env',\n",
       " 'Creative Cloud Files wesrhall2@gmail.com 97b7c6e19493441e77c9f53cbe03ccbb3716ead4876c6feb6f4f3b5ba940707b',\n",
       " 'Springboard Apps project - Tier 2 - Complete.ipynb',\n",
       " '.DS_Store',\n",
       " 'CountryClub3.db',\n",
       " 'SQLiteExcercise.ipynb',\n",
       " 'flight_delays_test.csv',\n",
       " 'SQLTasks Tier 2.sql',\n",
       " 'LocalSQLConnection.py',\n",
       " 'dataform.jpg',\n",
       " 'AppleStore.csv',\n",
       " '.CFUserTextEncoding',\n",
       " '.iterm2_shell_integration.bash',\n",
       " 'merged_data.csv',\n",
       " '.xonshrc',\n",
       " 'CountryClub.sql',\n",
       " 'decision_tree.pdf',\n",
       " 'SQLTasks Tier 1.sql',\n",
       " '.subversion',\n",
       " 'Cosine_Similarity_Case_Study.ipynb',\n",
       " 'Education Levels.zip',\n",
       " 'Country Club.sql',\n",
       " 'country_club.sqlite',\n",
       " 'What+are+functions_.ipynb',\n",
       " 'heart.xlsx',\n",
       " '.zshrc',\n",
       " '05_modeling.ipynb',\n",
       " 'googleplaystore_user_reviews.csv',\n",
       " 'Bayesian_optimization_case_study.ipynb',\n",
       " 'filtered_data.csv',\n",
       " 'Untitled4.ipynb',\n",
       " 'ski_data_cleaned.csv',\n",
       " 'Capstone 2 - Part 2.ipynb',\n",
       " 'CountryClub3.sqlite',\n",
       " 'decision_tree_gini.pdf',\n",
       " 'sb_utils.py',\n",
       " 'Pictures',\n",
       " 'decision_tree',\n",
       " '.zprofile',\n",
       " 'ski_resort_pricing_model.pkl',\n",
       " '02_data_wrangling-Copy1.ipynb',\n",
       " 'decision_tree.pdf.pdf',\n",
       " '.conan',\n",
       " 'Euclidean_and_Manhattan_Distances_Case_Study.ipynb',\n",
       " 'Combined_Education_Business_Data.csv',\n",
       " 'Education Levels.csv',\n",
       " 'Springboard Apps project - Tier 3 - Complete.ipynb',\n",
       " '.zsh_history',\n",
       " 'Gradient Boosting Case Study.ipynb',\n",
       " '.ipython',\n",
       " 'googleplaystore.csv',\n",
       " 'Desktop',\n",
       " 'Active_Businesses.csv',\n",
       " 'Library',\n",
       " '.matplotlib',\n",
       " 'Untitled Folder 4',\n",
       " '.lesshst',\n",
       " 'Logistic Regression Advanced Case Study.ipynb',\n",
       " 'A',\n",
       " 'iCloud Drive (Archive)',\n",
       " 'requests',\n",
       " '.env.save',\n",
       " 'README.md',\n",
       " 'Pipfile',\n",
       " 'decision_tree_gini',\n",
       " '.cups',\n",
       " 'DS_Store',\n",
       " '.bash_sessions',\n",
       " 'untitled.txt',\n",
       " '.sqlite_history',\n",
       " 'Capstone2-Sample Data.ipynb',\n",
       " 'state_summary.csv',\n",
       " 'flight_delays_train.csv',\n",
       " '.iterm2',\n",
       " 'appleStore_description.csv',\n",
       " 'PycharmProjects',\n",
       " 'Public',\n",
       " '.gitignore',\n",
       " 'springboard',\n",
       " 'Untitled-Copy1.ipynb',\n",
       " 'titanic.csv',\n",
       " 'insurance2.csv',\n",
       " 'untitled1.txt',\n",
       " '.env',\n",
       " '.tcshrc',\n",
       " 'Springboard Regression Case Study - the Red Wine Dataset - Tier 3.ipynb',\n",
       " 'output.png',\n",
       " 'Creative Cloud Files wesrhall@gmail.com a26f9f124f3a2c24d915529824d87f826b68989a18773d9314b3982663884145',\n",
       " 'Springboard Decision Tree Specialty Coffee Case Study - Tier 2.ipynb',\n",
       " 'tree.png',\n",
       " '04_preprocessing_and_training.ipynb',\n",
       " 'iCloud Drive (Archive) - 2',\n",
       " '.anaconda',\n",
       " 'Unit 4 Challenge REVISED 1- Tier 2.ipynb',\n",
       " '1581459544_Unit_4_Challenge_-_Tier_3.ipynb.zip',\n",
       " 'untitled2.txt',\n",
       " '.ssh',\n",
       " 'Movies',\n",
       " 'Applications',\n",
       " 'database_name.db',\n",
       " 'Logistical Regression Advanced Case Study',\n",
       " 'Frequentist Inference Case Study - Part A (3).ipynb',\n",
       " '.Trash',\n",
       " 'Springboard Regression Case Study - the Red Wine Dataset - Tier 1.ipynb',\n",
       " 'CountryClub3.sql',\n",
       " '.zoomus',\n",
       " 'onelinesplit.png',\n",
       " '.ipynb_checkpoints',\n",
       " '.jupyter',\n",
       " 'WineKMC.xlsx',\n",
       " 'diabetes.csv',\n",
       " 'Documents',\n",
       " 'api_data_wrangling_mini_project.ipynb',\n",
       " '.env.save.1',\n",
       " 'Creative Cloud Files Personal Account wesleyrhall@sbcglobal.net 4E5166916025F78C0A495CF6@AdobeID',\n",
       " 'PatientInfo.csv',\n",
       " '.gitignore.save',\n",
       " 'key.env',\n",
       " '.git',\n",
       " 'sqlite_db_pythonsqlite.db',\n",
       " '.bash_profile',\n",
       " '.gitignore.save.1',\n",
       " 'ski_resort_data.csv',\n",
       " 'apikey.env.save',\n",
       " 'RandomForest_casestudy_covid19.ipynb',\n",
       " 'anaconda3',\n",
       " 'Downloads',\n",
       " '.python_history',\n",
       " '.continuum',\n",
       " 'Springboard Decision Tree Specialty Coffee Case Study - Tier 1.ipynb',\n",
       " '.gitconfig',\n",
       " 'C',\n",
       " 'Pipfile.lock',\n",
       " 'Frequentist Inference Case Study - Part B (2).ipynb',\n",
       " 'model_path.pkl',\n",
       " 'ski_data_step3_features.csv',\n",
       " '.bash_history',\n",
       " '.viminfo',\n",
       " '.zsh_sessions',\n",
       " 'GridSearchKNN_Case_Study.ipynb',\n",
       " 'B',\n",
       " 'Springboard Regression Case Study - the Red Wine Dataset - Tier 2.ipynb',\n",
       " '.conda',\n",
       " '02_data_wrangling.ipynb',\n",
       " 'tree.dot',\n",
       " '.idea',\n",
       " 'Springboard Decision Tree Specialty Coffee Case Study - Tier 3.ipynb',\n",
       " '1581459004_Unit_4_Challenge_-_Tier_1.ipynb.zip']"
      ]
     },
     "execution_count": 2,
     "metadata": {},
     "output_type": "execute_result"
    }
   ],
   "source": [
    "import os\n",
    "os.listdir()"
   ]
  },
  {
   "cell_type": "markdown",
   "metadata": {
    "ExecuteTime": {
     "end_time": "2019-04-22T14:48:15.929012Z",
     "start_time": "2019-04-22T14:48:15.926574Z"
    },
    "colab_type": "text",
    "id": "AkBt3yds-KYu"
   },
   "source": [
    "## How does Bayesian optimization work?"
   ]
  },
  {
   "cell_type": "markdown",
   "metadata": {
    "colab_type": "text",
    "id": "E1kyBCUs-KYv"
   },
   "source": [
    "Bayesian optimization works by constructing a posterior distribution of functions (Gaussian process) that best describes the function you want to optimize. As the number of observations grows, the posterior distribution improves, and the algorithm becomes more certain of which regions in parameter space are worth exploring and which are not, as seen in the picture below."
   ]
  },
  {
   "cell_type": "markdown",
   "metadata": {
    "colab_type": "text",
    "id": "gAdHF72R-KYw"
   },
   "source": [
    "<img src=\"https://github.com/fmfn/BayesianOptimization/blob/master/examples/bo_example.png?raw=true\" />\n",
    "As you iterate over and over, the algorithm balances its needs of exploration and exploitation while taking into account what it knows about the target function. At each step, a Gaussian Process is fitted to the known samples (points previously explored), and the posterior distribution, combined with an exploration strategy (such as UCB — aka Upper Confidence Bound), or EI (Expected Improvement). This process is used to determine the next point that should be explored (see the gif below).\n",
    "<img src=\"https://github.com/fmfn/BayesianOptimization/raw/master/examples/bayesian_optimization.gif\" />"
   ]
  },
  {
   "cell_type": "markdown",
   "metadata": {
    "colab_type": "text",
    "id": "RTP8KUlLoYzu"
   },
   "source": [
    "## Let's look at a simple example"
   ]
  },
  {
   "cell_type": "markdown",
   "metadata": {
    "colab_type": "text",
    "id": "crpPqKdC-KYx"
   },
   "source": [
    "The first step is to create an optimizer. It uses two items:\n",
    "* function to optimize\n",
    "* bounds of parameters\n",
    "\n",
    "The function is the procedure that counts metrics of our model quality. The important thing is that our optimization will maximize the value on function. Smaller metrics are best. Hint: don't forget to use negative metric values."
   ]
  },
  {
   "cell_type": "markdown",
   "metadata": {
    "colab_type": "text",
    "id": "e09ciF8gpTfr"
   },
   "source": [
    "Here we define our simple function we want to optimize."
   ]
  },
  {
   "cell_type": "code",
   "execution_count": 4,
   "metadata": {
    "colab": {},
    "colab_type": "code",
    "id": "ofwvnfEwo5mG"
   },
   "outputs": [],
   "source": [
    "def simple_func(a, b):\n",
    "    return a + b"
   ]
  },
  {
   "cell_type": "markdown",
   "metadata": {
    "colab_type": "text",
    "id": "XCGsdciCpeI3"
   },
   "source": [
    "Now, we define our bounds of the parameters to optimize, within the Bayesian optimizer."
   ]
  },
  {
   "cell_type": "code",
   "execution_count": 5,
   "metadata": {
    "colab": {},
    "colab_type": "code",
    "id": "4jLYW2qnpOFr"
   },
   "outputs": [],
   "source": [
    "optimizer = BayesianOptimization(\n",
    "    simple_func,\n",
    "    {'a': (1, 3),\n",
    "    'b': (4, 7)})"
   ]
  },
  {
   "cell_type": "markdown",
   "metadata": {
    "colab_type": "text",
    "id": "dg6LdYx8pq2T"
   },
   "source": [
    "These are the main parameters of this function:\n",
    "\n",
    "* **n_iter:** This is how many steps of Bayesian optimization you want to perform. The more steps, the more likely you are to find a good maximum.\n",
    "\n",
    "* **init_points:** This is how many steps of random exploration you want to perform. Random exploration can help by diversifying the exploration space."
   ]
  },
  {
   "cell_type": "markdown",
   "metadata": {
    "colab_type": "text",
    "id": "i-GKMJ1uqMYv"
   },
   "source": [
    "Let's run an example where we use the optimizer to find the best values to maximize the target value for a and b given the inputs of 3 and 2."
   ]
  },
  {
   "cell_type": "code",
   "execution_count": 6,
   "metadata": {
    "colab": {
     "base_uri": "https://localhost:8080/",
     "height": 153
    },
    "colab_type": "code",
    "id": "Oy44Ro7wqNat",
    "outputId": "9cc64d54-b1e6-46d1-dc29-4c0039a1c72d"
   },
   "outputs": [
    {
     "name": "stdout",
     "output_type": "stream",
     "text": [
      "|   iter    |  target   |     a     |     b     |\n",
      "-------------------------------------------------\n",
      "| \u001b[0m1        \u001b[0m | \u001b[0m9.013    \u001b[0m | \u001b[0m2.889    \u001b[0m | \u001b[0m6.124    \u001b[0m |\n",
      "| \u001b[0m2        \u001b[0m | \u001b[0m7.03     \u001b[0m | \u001b[0m1.927    \u001b[0m | \u001b[0m5.104    \u001b[0m |\n",
      "| \u001b[0m3        \u001b[0m | \u001b[0m6.475    \u001b[0m | \u001b[0m2.205    \u001b[0m | \u001b[0m4.271    \u001b[0m |\n",
      "| \u001b[95m4        \u001b[0m | \u001b[95m10.0     \u001b[0m | \u001b[95m3.0      \u001b[0m | \u001b[95m7.0      \u001b[0m |\n",
      "| \u001b[0m5        \u001b[0m | \u001b[0m8.0      \u001b[0m | \u001b[0m1.0      \u001b[0m | \u001b[0m7.0      \u001b[0m |\n",
      "=================================================\n"
     ]
    }
   ],
   "source": [
    "optimizer.maximize(3,2)"
   ]
  },
  {
   "cell_type": "markdown",
   "metadata": {
    "colab_type": "text",
    "id": "tyKFMF2Hq2Sx"
   },
   "source": [
    "Great, now let's print the best parameters and the associated maximized target."
   ]
  },
  {
   "cell_type": "code",
   "execution_count": 7,
   "metadata": {
    "colab": {
     "base_uri": "https://localhost:8080/",
     "height": 51
    },
    "colab_type": "code",
    "id": "_H6DixyfscV_",
    "outputId": "fd0c35d7-e30d-4d30-9ab2-12c0fa837971"
   },
   "outputs": [
    {
     "name": "stdout",
     "output_type": "stream",
     "text": [
      "{'a': 3.0, 'b': 7.0}\n"
     ]
    },
    {
     "data": {
      "text/plain": [
       "10.0"
      ]
     },
     "execution_count": 7,
     "metadata": {},
     "output_type": "execute_result"
    }
   ],
   "source": [
    "print(optimizer.max['params']);optimizer.max['target']"
   ]
  },
  {
   "cell_type": "markdown",
   "metadata": {
    "colab_type": "text",
    "id": "tQ1T1V6Mspi4"
   },
   "source": [
    "## Test it on real data using the Light GBM"
   ]
  },
  {
   "cell_type": "markdown",
   "metadata": {
    "colab_type": "text",
    "id": "y_oGwREZkm4h"
   },
   "source": [
    "The dataset we will be working with is the famous flight departures dataset. Our modeling goal will be to predict if a flight departure is going to be delayed by 15 minutes based on the other attributes in our dataset. As part of this modeling exercise, we will use Bayesian hyperparameter optimization to identify the best parameters for our model."
   ]
  },
  {
   "cell_type": "markdown",
   "metadata": {
    "colab_type": "text",
    "id": "abYSagjQANDZ"
   },
   "source": [
    "**<font color='teal'> You can load the zipped csv files just as you would regular csv files using Pandas read_csv. In the next cell load the train and test data into two seperate dataframes. </font>**\n"
   ]
  },
  {
   "cell_type": "code",
   "execution_count": 4,
   "metadata": {
    "colab": {},
    "colab_type": "code",
    "id": "EWKBApVuAeJe"
   },
   "outputs": [],
   "source": [
    "train_df = pd.read_csv('flight_delays_train.csv')\n",
    "test_df = pd.read_csv('flight_delays_test.csv')"
   ]
  },
  {
   "cell_type": "markdown",
   "metadata": {
    "colab_type": "text",
    "id": "OapNcT9Eikis"
   },
   "source": [
    "**<font color='teal'> Print the top five rows of the train dataframe and review the columns in the data. </font>**"
   ]
  },
  {
   "cell_type": "code",
   "execution_count": 5,
   "metadata": {
    "colab": {
     "base_uri": "https://localhost:8080/",
     "height": 204
    },
    "colab_type": "code",
    "id": "__4cXZ8iiYaC",
    "outputId": "8718ad4b-8955-486c-9ae8-1dee6aa6c2fb"
   },
   "outputs": [
    {
     "data": {
      "text/html": [
       "<div>\n",
       "<style scoped>\n",
       "    .dataframe tbody tr th:only-of-type {\n",
       "        vertical-align: middle;\n",
       "    }\n",
       "\n",
       "    .dataframe tbody tr th {\n",
       "        vertical-align: top;\n",
       "    }\n",
       "\n",
       "    .dataframe thead th {\n",
       "        text-align: right;\n",
       "    }\n",
       "</style>\n",
       "<table border=\"1\" class=\"dataframe\">\n",
       "  <thead>\n",
       "    <tr style=\"text-align: right;\">\n",
       "      <th></th>\n",
       "      <th>Month</th>\n",
       "      <th>DayofMonth</th>\n",
       "      <th>DayOfWeek</th>\n",
       "      <th>DepTime</th>\n",
       "      <th>UniqueCarrier</th>\n",
       "      <th>Origin</th>\n",
       "      <th>Dest</th>\n",
       "      <th>Distance</th>\n",
       "      <th>dep_delayed_15min</th>\n",
       "    </tr>\n",
       "  </thead>\n",
       "  <tbody>\n",
       "    <tr>\n",
       "      <th>0</th>\n",
       "      <td>c-8</td>\n",
       "      <td>c-21</td>\n",
       "      <td>c-7</td>\n",
       "      <td>1934</td>\n",
       "      <td>AA</td>\n",
       "      <td>ATL</td>\n",
       "      <td>DFW</td>\n",
       "      <td>732</td>\n",
       "      <td>N</td>\n",
       "    </tr>\n",
       "    <tr>\n",
       "      <th>1</th>\n",
       "      <td>c-4</td>\n",
       "      <td>c-20</td>\n",
       "      <td>c-3</td>\n",
       "      <td>1548</td>\n",
       "      <td>US</td>\n",
       "      <td>PIT</td>\n",
       "      <td>MCO</td>\n",
       "      <td>834</td>\n",
       "      <td>N</td>\n",
       "    </tr>\n",
       "    <tr>\n",
       "      <th>2</th>\n",
       "      <td>c-9</td>\n",
       "      <td>c-2</td>\n",
       "      <td>c-5</td>\n",
       "      <td>1422</td>\n",
       "      <td>XE</td>\n",
       "      <td>RDU</td>\n",
       "      <td>CLE</td>\n",
       "      <td>416</td>\n",
       "      <td>N</td>\n",
       "    </tr>\n",
       "    <tr>\n",
       "      <th>3</th>\n",
       "      <td>c-11</td>\n",
       "      <td>c-25</td>\n",
       "      <td>c-6</td>\n",
       "      <td>1015</td>\n",
       "      <td>OO</td>\n",
       "      <td>DEN</td>\n",
       "      <td>MEM</td>\n",
       "      <td>872</td>\n",
       "      <td>N</td>\n",
       "    </tr>\n",
       "    <tr>\n",
       "      <th>4</th>\n",
       "      <td>c-10</td>\n",
       "      <td>c-7</td>\n",
       "      <td>c-6</td>\n",
       "      <td>1828</td>\n",
       "      <td>WN</td>\n",
       "      <td>MDW</td>\n",
       "      <td>OMA</td>\n",
       "      <td>423</td>\n",
       "      <td>Y</td>\n",
       "    </tr>\n",
       "  </tbody>\n",
       "</table>\n",
       "</div>"
      ],
      "text/plain": [
       "  Month DayofMonth DayOfWeek  DepTime UniqueCarrier Origin Dest  Distance  \\\n",
       "0   c-8       c-21       c-7     1934            AA    ATL  DFW       732   \n",
       "1   c-4       c-20       c-3     1548            US    PIT  MCO       834   \n",
       "2   c-9        c-2       c-5     1422            XE    RDU  CLE       416   \n",
       "3  c-11       c-25       c-6     1015            OO    DEN  MEM       872   \n",
       "4  c-10        c-7       c-6     1828            WN    MDW  OMA       423   \n",
       "\n",
       "  dep_delayed_15min  \n",
       "0                 N  \n",
       "1                 N  \n",
       "2                 N  \n",
       "3                 N  \n",
       "4                 Y  "
      ]
     },
     "execution_count": 5,
     "metadata": {},
     "output_type": "execute_result"
    }
   ],
   "source": [
    "train_df.head()"
   ]
  },
  {
   "cell_type": "markdown",
   "metadata": {
    "colab_type": "text",
    "id": "UxGBsPQhffgd"
   },
   "source": [
    "**<font color='teal'> Use the describe function to review the numeric columns in the train dataframe. </font>**"
   ]
  },
  {
   "cell_type": "code",
   "execution_count": 6,
   "metadata": {
    "colab": {
     "base_uri": "https://localhost:8080/",
     "height": 297
    },
    "colab_type": "code",
    "id": "_bRRKG3DAtae",
    "outputId": "7cfb9975-ec97-422c-abbd-98923a0b7aec"
   },
   "outputs": [
    {
     "data": {
      "text/html": [
       "<div>\n",
       "<style scoped>\n",
       "    .dataframe tbody tr th:only-of-type {\n",
       "        vertical-align: middle;\n",
       "    }\n",
       "\n",
       "    .dataframe tbody tr th {\n",
       "        vertical-align: top;\n",
       "    }\n",
       "\n",
       "    .dataframe thead th {\n",
       "        text-align: right;\n",
       "    }\n",
       "</style>\n",
       "<table border=\"1\" class=\"dataframe\">\n",
       "  <thead>\n",
       "    <tr style=\"text-align: right;\">\n",
       "      <th></th>\n",
       "      <th>DepTime</th>\n",
       "      <th>Distance</th>\n",
       "    </tr>\n",
       "  </thead>\n",
       "  <tbody>\n",
       "    <tr>\n",
       "      <th>count</th>\n",
       "      <td>100000.000000</td>\n",
       "      <td>100000.00000</td>\n",
       "    </tr>\n",
       "    <tr>\n",
       "      <th>mean</th>\n",
       "      <td>1341.523880</td>\n",
       "      <td>729.39716</td>\n",
       "    </tr>\n",
       "    <tr>\n",
       "      <th>std</th>\n",
       "      <td>476.378445</td>\n",
       "      <td>574.61686</td>\n",
       "    </tr>\n",
       "    <tr>\n",
       "      <th>min</th>\n",
       "      <td>1.000000</td>\n",
       "      <td>30.00000</td>\n",
       "    </tr>\n",
       "    <tr>\n",
       "      <th>25%</th>\n",
       "      <td>931.000000</td>\n",
       "      <td>317.00000</td>\n",
       "    </tr>\n",
       "    <tr>\n",
       "      <th>50%</th>\n",
       "      <td>1330.000000</td>\n",
       "      <td>575.00000</td>\n",
       "    </tr>\n",
       "    <tr>\n",
       "      <th>75%</th>\n",
       "      <td>1733.000000</td>\n",
       "      <td>957.00000</td>\n",
       "    </tr>\n",
       "    <tr>\n",
       "      <th>max</th>\n",
       "      <td>2534.000000</td>\n",
       "      <td>4962.00000</td>\n",
       "    </tr>\n",
       "  </tbody>\n",
       "</table>\n",
       "</div>"
      ],
      "text/plain": [
       "             DepTime      Distance\n",
       "count  100000.000000  100000.00000\n",
       "mean     1341.523880     729.39716\n",
       "std       476.378445     574.61686\n",
       "min         1.000000      30.00000\n",
       "25%       931.000000     317.00000\n",
       "50%      1330.000000     575.00000\n",
       "75%      1733.000000     957.00000\n",
       "max      2534.000000    4962.00000"
      ]
     },
     "execution_count": 6,
     "metadata": {},
     "output_type": "execute_result"
    }
   ],
   "source": [
    "train_df.describe()"
   ]
  },
  {
   "cell_type": "markdown",
   "metadata": {
    "colab_type": "text",
    "id": "i6k-_fI5Aiyh"
   },
   "source": [
    "Notice, `DepTime` is the departure time in a numeric representation in 2400 hours. "
   ]
  },
  {
   "cell_type": "markdown",
   "metadata": {
    "colab_type": "text",
    "id": "gtZS4-hrlQah"
   },
   "source": [
    " **<font color='teal'>The response variable is 'dep_delayed_15min' which is a categorical column, so we need to map the Y for yes and N for no values to 1 and 0. Run the code in the next cell to do this.</font>**"
   ]
  },
  {
   "cell_type": "code",
   "execution_count": 7,
   "metadata": {
    "ExecuteTime": {
     "end_time": "2019-04-22T15:38:42.677690Z",
     "start_time": "2019-04-22T15:38:42.481963Z"
    },
    "colab": {},
    "colab_type": "code",
    "id": "yRlOTbnW-KYc"
   },
   "outputs": [],
   "source": [
    "#train_df = train_df[train_df.DepTime <= 2400].copy()\n",
    "y_train = train_df['dep_delayed_15min'].map({'Y': 1, 'N': 0}).values"
   ]
  },
  {
   "cell_type": "markdown",
   "metadata": {
    "colab_type": "text",
    "id": "z3WPkFQO9uo9"
   },
   "source": [
    "## Feature Engineering\n",
    "Use these defined functions to create additional features for the model. Run the cell to add the functions to your workspace."
   ]
  },
  {
   "cell_type": "code",
   "execution_count": 8,
   "metadata": {
    "colab": {},
    "colab_type": "code",
    "id": "cXqsqz5W9t3r"
   },
   "outputs": [],
   "source": [
    "def label_enc(df_column):\n",
    "    df_column = LabelEncoder().fit_transform(df_column)\n",
    "    return df_column\n",
    "\n",
    "def make_harmonic_features_sin(value, period=2400):\n",
    "    value *= 2 * np.pi / period \n",
    "    return np.sin(value)\n",
    "\n",
    "def make_harmonic_features_cos(value, period=2400):\n",
    "    value *= 2 * np.pi / period \n",
    "    return np.cos(value)\n",
    "\n",
    "def feature_eng(df):\n",
    "    df['flight'] = df['Origin']+df['Dest']\n",
    "    df['Month'] = df.Month.map(lambda x: x.split('-')[-1]).astype('int32')\n",
    "    df['DayofMonth'] = df.DayofMonth.map(lambda x: x.split('-')[-1]).astype('uint8')\n",
    "    df['begin_of_month'] = (df['DayofMonth'] < 10).astype('uint8')\n",
    "    df['midddle_of_month'] = ((df['DayofMonth'] >= 10)&(df['DayofMonth'] < 20)).astype('uint8')\n",
    "    df['end_of_month'] = (df['DayofMonth'] >= 20).astype('uint8')\n",
    "    df['DayOfWeek'] = df.DayOfWeek.map(lambda x: x.split('-')[-1]).astype('uint8')\n",
    "    df['hour'] = df.DepTime.map(lambda x: x/100).astype('int32')\n",
    "    df['morning'] = df['hour'].map(lambda x: 1 if (x <= 11)& (x >= 7) else 0).astype('uint8')\n",
    "    df['day'] = df['hour'].map(lambda x: 1 if (x >= 12) & (x <= 18) else 0).astype('uint8')\n",
    "    df['evening'] = df['hour'].map(lambda x: 1 if (x >= 19) & (x <= 23) else 0).astype('uint8')\n",
    "    df['night'] = df['hour'].map(lambda x: 1 if (x >= 0) & (x <= 6) else 0).astype('int32')\n",
    "    df['winter'] = df['Month'].map(lambda x: x in [12, 1, 2]).astype('int32')\n",
    "    df['spring'] = df['Month'].map(lambda x: x in [3, 4, 5]).astype('int32')\n",
    "    df['summer'] = df['Month'].map(lambda x: x in [6, 7, 8]).astype('int32')\n",
    "    df['autumn'] = df['Month'].map(lambda x: x in [9, 10, 11]).astype('int32')\n",
    "    df['holiday'] = (df['DayOfWeek'] >= 5).astype(int) \n",
    "    df['weekday'] = (df['DayOfWeek'] < 5).astype(int)\n",
    "    df['airport_dest_per_month'] = df.groupby(['Dest', 'Month'])['Dest'].transform('count')\n",
    "    df['airport_origin_per_month'] = df.groupby(['Origin', 'Month'])['Origin'].transform('count')\n",
    "    df['airport_dest_count'] = df.groupby(['Dest'])['Dest'].transform('count')\n",
    "    df['airport_origin_count'] = df.groupby(['Origin'])['Origin'].transform('count')\n",
    "    df['carrier_count'] = df.groupby(['UniqueCarrier'])['Dest'].transform('count')\n",
    "    df['carrier_count_per month'] = df.groupby(['UniqueCarrier', 'Month'])['Dest'].transform('count')\n",
    "    df['deptime_cos'] = df['DepTime'].map(make_harmonic_features_cos)\n",
    "    df['deptime_sin'] = df['DepTime'].map(make_harmonic_features_sin)\n",
    "    df['flightUC'] = df['flight']+df['UniqueCarrier']\n",
    "    df['DestUC'] = df['Dest']+df['UniqueCarrier']\n",
    "    df['OriginUC'] = df['Origin']+df['UniqueCarrier']\n",
    "    return df.drop('DepTime', axis=1)"
   ]
  },
  {
   "cell_type": "markdown",
   "metadata": {
    "colab_type": "text",
    "id": "-BYbxXpU-FGE"
   },
   "source": [
    "Concatenate the training and testing dataframes.\n"
   ]
  },
  {
   "cell_type": "code",
   "execution_count": 9,
   "metadata": {
    "colab": {},
    "colab_type": "code",
    "id": "Cj6bfSNw_RAf"
   },
   "outputs": [],
   "source": [
    "full_df = pd.concat([train_df.drop('dep_delayed_15min', axis=1), test_df])\n",
    "full_df = feature_eng(full_df)"
   ]
  },
  {
   "cell_type": "markdown",
   "metadata": {
    "colab_type": "text",
    "id": "GSO8JbfM_W-F"
   },
   "source": [
    "Apply the earlier defined feature engineering functions to the full dataframe."
   ]
  },
  {
   "cell_type": "code",
   "execution_count": 10,
   "metadata": {
    "colab": {},
    "colab_type": "code",
    "id": "x6RfAINftjwi"
   },
   "outputs": [],
   "source": [
    "for column in ['UniqueCarrier', 'Origin', 'Dest','flight',  'flightUC', 'DestUC', 'OriginUC']:\n",
    "    full_df[column] = label_enc(full_df[column])"
   ]
  },
  {
   "cell_type": "markdown",
   "metadata": {
    "colab_type": "text",
    "id": "IJAw1RGB_ZuM"
   },
   "source": [
    "\n",
    "Split the new full dataframe into X_train and X_test. "
   ]
  },
  {
   "cell_type": "code",
   "execution_count": 11,
   "metadata": {
    "colab": {},
    "colab_type": "code",
    "id": "15cPtQU5tjfz"
   },
   "outputs": [],
   "source": [
    "X_train = full_df[:train_df.shape[0]]\n",
    "X_test = full_df[train_df.shape[0]:]"
   ]
  },
  {
   "cell_type": "markdown",
   "metadata": {
    "colab_type": "text",
    "id": "umfAw-9JErLV"
   },
   "source": [
    "Create a list of the categorical features."
   ]
  },
  {
   "cell_type": "code",
   "execution_count": 12,
   "metadata": {
    "ExecuteTime": {
     "end_time": "2019-04-22T14:31:58.412296Z",
     "start_time": "2019-04-22T14:31:58.409088Z"
    },
    "colab": {},
    "colab_type": "code",
    "id": "5ibeVyNb-KZI"
   },
   "outputs": [],
   "source": [
    "categorical_features = ['Month',  'DayOfWeek', 'UniqueCarrier', 'Origin', 'Dest','flight',  'flightUC', 'DestUC', 'OriginUC']"
   ]
  },
  {
   "cell_type": "markdown",
   "metadata": {
    "colab_type": "text",
    "id": "NzMIsMPIETVk"
   },
   "source": [
    "Let's build a light GBM model to test the bayesian optimizer."
   ]
  },
  {
   "cell_type": "markdown",
   "metadata": {
    "ExecuteTime": {
     "end_time": "2019-04-22T15:18:04.466965Z",
     "start_time": "2019-04-22T15:18:04.457992Z"
    },
    "colab_type": "text",
    "id": "2hfm1i5G-KZH"
   },
   "source": [
    "### [LightGBM](https://lightgbm.readthedocs.io/en/latest/) is a gradient boosting framework that uses tree-based learning algorithms. It is designed to be distributed and efficient with the following advantages:\n",
    "\n",
    "* Faster training speed and higher efficiency.\n",
    "* Lower memory usage.\n",
    "* Better accuracy.\n",
    "* Support of parallel and GPU learning.\n",
    "* Capable of handling large-scale data."
   ]
  },
  {
   "cell_type": "markdown",
   "metadata": {
    "colab_type": "text",
    "id": "jf-3F2Wg-KZL"
   },
   "source": [
    "First, we define the function we want to maximize and that will count cross-validation metrics of lightGBM for our parameters.\n",
    "\n",
    "Some params such as num_leaves, max_depth, min_child_samples, min_data_in_leaf should be integers."
   ]
  },
  {
   "cell_type": "code",
   "execution_count": 13,
   "metadata": {
    "ExecuteTime": {
     "end_time": "2019-04-22T15:40:14.034265Z",
     "start_time": "2019-04-22T15:40:14.027868Z"
    },
    "colab": {},
    "colab_type": "code",
    "id": "LyUJBhGX-KZM"
   },
   "outputs": [],
   "source": [
    "def lgb_eval(num_leaves,max_depth,lambda_l2,lambda_l1,min_child_samples, min_data_in_leaf):\n",
    "    params = {\n",
    "        \"objective\" : \"binary\",\n",
    "        \"metric\" : \"auc\", \n",
    "        'is_unbalance': True,\n",
    "        \"num_leaves\" : int(num_leaves),\n",
    "        \"max_depth\" : int(max_depth),\n",
    "        \"lambda_l2\" : lambda_l2,\n",
    "        \"lambda_l1\" : lambda_l1,\n",
    "        \"num_threads\" : 20,\n",
    "        \"min_child_samples\" : int(min_child_samples),\n",
    "        'min_data_in_leaf': int(min_data_in_leaf),\n",
    "        \"learning_rate\" : 0.03,\n",
    "        \"subsample_freq\" : 5,\n",
    "        \"bagging_seed\" : 42,\n",
    "        \"verbosity\" : -1\n",
    "    }\n",
    "    lgtrain = lightgbm.Dataset(X_train, y_train,categorical_feature=categorical_features)\n",
    "    cv_result = lightgbm.cv(params,\n",
    "                       lgtrain,\n",
    "                       1000,\n",
    "                       stratified=True,\n",
    "                       nfold=3)\n",
    "    return cv_result['valid auc-mean'][-1]"
   ]
  },
  {
   "cell_type": "markdown",
   "metadata": {
    "colab_type": "text",
    "id": "FJwqBhdeF11Q"
   },
   "source": [
    "Apply the Bayesian optimizer to the function we created in the previous step to identify the best hyperparameters. We will run 5 iterations and set init_points = 2.\n"
   ]
  },
  {
   "cell_type": "code",
   "execution_count": 14,
   "metadata": {
    "ExecuteTime": {
     "end_time": "2019-04-22T15:48:04.682447Z",
     "start_time": "2019-04-22T15:40:14.641634Z"
    },
    "colab": {
     "base_uri": "https://localhost:8080/",
     "height": 51
    },
    "colab_type": "code",
    "id": "JheCOkUE-KZP",
    "outputId": "8f37ee51-885d-44e4-cdcd-ceb7abd58b61"
   },
   "outputs": [
    {
     "name": "stdout",
     "output_type": "stream",
     "text": [
      "|   iter    |  target   | lambda_l1 | lambda_l2 | max_depth | min_ch... | min_da... | num_le... |\n",
      "-------------------------------------------------------------------------------------------------\n",
      "| \u001b[39m1        \u001b[39m | \u001b[39m0.7208   \u001b[39m | \u001b[39m0.005621 \u001b[39m | \u001b[39m0.004271 \u001b[39m | \u001b[39m53.83    \u001b[39m | \u001b[39m2.441e+03\u001b[39m | \u001b[39m730.8    \u001b[39m | \u001b[39m2.493e+03\u001b[39m |\n",
      "| \u001b[35m2        \u001b[39m | \u001b[35m0.7342   \u001b[39m | \u001b[35m0.009105 \u001b[39m | \u001b[35m0.02129  \u001b[39m | \u001b[35m9.29     \u001b[39m | \u001b[35m3.363e+03\u001b[39m | \u001b[35m1.019e+03\u001b[39m | \u001b[35m3.76e+03 \u001b[39m |\n",
      "| \u001b[35m3        \u001b[39m | \u001b[35m0.7435   \u001b[39m | \u001b[35m0.01963  \u001b[39m | \u001b[35m0.02566  \u001b[39m | \u001b[35m29.08    \u001b[39m | \u001b[35m8.195e+03\u001b[39m | \u001b[35m1.546e+03\u001b[39m | \u001b[35m722.0    \u001b[39m |\n",
      "| \u001b[39m4        \u001b[39m | \u001b[39m0.7212   \u001b[39m | \u001b[39m0.01613  \u001b[39m | \u001b[39m0.01011  \u001b[39m | \u001b[39m44.87    \u001b[39m | \u001b[39m415.9    \u001b[39m | \u001b[39m792.3    \u001b[39m | \u001b[39m1.706e+03\u001b[39m |\n",
      "| \u001b[35m5        \u001b[39m | \u001b[35m0.7436   \u001b[39m | \u001b[35m0.01567  \u001b[39m | \u001b[35m0.03075  \u001b[39m | \u001b[35m17.19    \u001b[39m | \u001b[35m4.719e+03\u001b[39m | \u001b[35m1.577e+03\u001b[39m | \u001b[35m3.631e+03\u001b[39m |\n",
      "| \u001b[39m6        \u001b[39m | \u001b[39m0.7434   \u001b[39m | \u001b[39m0.0121   \u001b[39m | \u001b[39m0.02198  \u001b[39m | \u001b[39m22.72    \u001b[39m | \u001b[39m7.809e+03\u001b[39m | \u001b[39m1.596e+03\u001b[39m | \u001b[39m3.977e+03\u001b[39m |\n",
      "| \u001b[39m7        \u001b[39m | \u001b[39m0.7061   \u001b[39m | \u001b[39m0.04269  \u001b[39m | \u001b[39m0.04651  \u001b[39m | \u001b[39m21.76    \u001b[39m | \u001b[39m9.876e+03\u001b[39m | \u001b[39m106.1    \u001b[39m | \u001b[39m2.094e+03\u001b[39m |\n",
      "=================================================================================================\n"
     ]
    }
   ],
   "source": [
    "lgbBO = BayesianOptimization(lgb_eval, {'num_leaves': (25, 4000),\n",
    "                                                'max_depth': (5, 63),\n",
    "                                                'lambda_l2': (0.0, 0.05),\n",
    "                                                'lambda_l1': (0.0, 0.05),\n",
    "                                                'min_child_samples': (50, 10000),\n",
    "                                                'min_data_in_leaf': (100, 2000)\n",
    "                                                })\n",
    "\n",
    "lgbBO.maximize(n_iter=5, init_points=2)"
   ]
  },
  {
   "cell_type": "markdown",
   "metadata": {
    "colab_type": "text",
    "id": "rdkxhhST-KZS"
   },
   "source": [
    " **<font color='teal'> Print the best result by using the '.max' function.</font>**"
   ]
  },
  {
   "cell_type": "code",
   "execution_count": 16,
   "metadata": {
    "ExecuteTime": {
     "end_time": "2019-04-22T15:49:01.513767Z",
     "start_time": "2019-04-22T15:49:01.509392Z"
    },
    "colab": {},
    "colab_type": "code",
    "id": "oc8z6mfy-KZS"
   },
   "outputs": [
    {
     "data": {
      "text/plain": [
       "{'target': 0.7436188990004299,\n",
       " 'params': {'lambda_l1': 0.015666680211655234,\n",
       "  'lambda_l2': 0.03075193673128669,\n",
       "  'max_depth': 17.192576030309233,\n",
       "  'min_child_samples': 4719.283203056274,\n",
       "  'min_data_in_leaf': 1577.3333308024835,\n",
       "  'num_leaves': 3631.080819574214}}"
      ]
     },
     "execution_count": 16,
     "metadata": {},
     "output_type": "execute_result"
    }
   ],
   "source": [
    "lgbBO.max"
   ]
  },
  {
   "cell_type": "markdown",
   "metadata": {
    "ExecuteTime": {
     "end_time": "2019-04-22T15:50:29.049881Z",
     "start_time": "2019-04-22T15:50:29.045908Z"
    },
    "colab_type": "text",
    "id": "J5LAydKC-KZW"
   },
   "source": [
    "Review the process at each step by using the '.res[0]' function."
   ]
  },
  {
   "cell_type": "code",
   "execution_count": 20,
   "metadata": {
    "ExecuteTime": {
     "end_time": "2019-04-22T15:51:01.001688Z",
     "start_time": "2019-04-22T15:51:00.997484Z"
    },
    "colab": {},
    "colab_type": "code",
    "id": "X1ttZmrI-KZX"
   },
   "outputs": [
    {
     "data": {
      "text/plain": [
       "{'target': 0.7393885310832707,\n",
       " 'params': {'lambda_l1': 0.04412923829564491,\n",
       "  'lambda_l2': 0.04216468011631279,\n",
       "  'max_depth': 6.41734559551471,\n",
       "  'min_child_samples': 8836.436019341943,\n",
       "  'min_data_in_leaf': 1141.2883028164742,\n",
       "  'num_leaves': 1221.1025349947768}}"
      ]
     },
     "execution_count": 20,
     "metadata": {},
     "output_type": "execute_result"
    }
   ],
   "source": [
    "lgbBO.res[0]"
   ]
  }
 ],
 "metadata": {
  "colab": {
   "name": "Bayesian_optimization_exercise.ipynb",
   "provenance": []
  },
  "deepnote_execution_queue": [],
  "kernelspec": {
   "display_name": "Python 3 (ipykernel)",
   "language": "python",
   "name": "python3"
  },
  "language_info": {
   "codemirror_mode": {
    "name": "ipython",
    "version": 3
   },
   "file_extension": ".py",
   "mimetype": "text/x-python",
   "name": "python",
   "nbconvert_exporter": "python",
   "pygments_lexer": "ipython3",
   "version": "3.11.9"
  },
  "varInspector": {
   "cols": {
    "lenName": 16,
    "lenType": 16,
    "lenVar": 40
   },
   "kernels_config": {
    "python": {
     "delete_cmd_postfix": "",
     "delete_cmd_prefix": "del ",
     "library": "var_list.py",
     "varRefreshCmd": "print(var_dic_list())"
    },
    "r": {
     "delete_cmd_postfix": ") ",
     "delete_cmd_prefix": "rm(",
     "library": "var_list.r",
     "varRefreshCmd": "cat(var_dic_list()) "
    }
   },
   "types_to_exclude": [
    "module",
    "function",
    "builtin_function_or_method",
    "instance",
    "_Feature"
   ],
   "window_display": false
  }
 },
 "nbformat": 4,
 "nbformat_minor": 4
}
