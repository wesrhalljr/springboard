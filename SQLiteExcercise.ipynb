{
 "cells": [
  {
   "cell_type": "code",
   "execution_count": 2,
   "id": "d9daa6cc",
   "metadata": {},
   "outputs": [],
   "source": [
    "import sqlite3\n",
    "# Establish a connection to the SQLite database\n",
    "conn = sqlite3.connect('CountryClub3.sqlite')"
   ]
  },
  {
   "cell_type": "code",
   "execution_count": 11,
   "id": "b98d25d1",
   "metadata": {},
   "outputs": [
    {
     "ename": "OperationalError",
     "evalue": "near \"SET\": syntax error",
     "output_type": "error",
     "traceback": [
      "\u001b[0;31m---------------------------------------------------------------------------\u001b[0m",
      "\u001b[0;31mOperationalError\u001b[0m                          Traceback (most recent call last)",
      "Cell \u001b[0;32mIn[11], line 16\u001b[0m\n\u001b[1;32m     14\u001b[0m commands \u001b[38;5;241m=\u001b[39m sql_commands\u001b[38;5;241m.\u001b[39msplit(\u001b[38;5;124m'\u001b[39m\u001b[38;5;124m;\u001b[39m\u001b[38;5;124m'\u001b[39m)\n\u001b[1;32m     15\u001b[0m \u001b[38;5;28;01mfor\u001b[39;00m command \u001b[38;5;129;01min\u001b[39;00m commands:\n\u001b[0;32m---> 16\u001b[0m     cursor\u001b[38;5;241m.\u001b[39mexecute(command)\n\u001b[1;32m     17\u001b[0m conn\u001b[38;5;241m.\u001b[39mcommit()\n\u001b[1;32m     18\u001b[0m \u001b[38;5;28mprint\u001b[39m(\u001b[38;5;124m\"\u001b[39m\u001b[38;5;124mSQL commands executed successfully.\u001b[39m\u001b[38;5;124m\"\u001b[39m)\n",
      "\u001b[0;31mOperationalError\u001b[0m: near \"SET\": syntax error"
     ]
    }
   ],
   "source": [
    "import sqlite3\n",
    "\n",
    "# Database file\n",
    "db_file = 'CountryClub3.sql'  # Adjust the database file name as needed\n",
    "\n",
    "# Connect to the SQLite database\n",
    "conn = sqlite3.connect('CountryClub3.sql')\n",
    "cursor = conn.cursor()\n",
    "\n",
    "# Read and execute SQL commands from the script file\n",
    "with open('CountryClub3.sql', 'r', encoding='utf-8') as sql_file:\n",
    "        sql_commands = sql_file.read()\n",
    "        # Split commands by semicolon to execute individually\n",
    "        commands = sql_commands.split(';')\n",
    "        for command in commands:\n",
    "            cursor.execute(command)\n",
    "        conn.commit()\n",
    "        print(\"SQL commands executed successfully.\")"
   ]
  },
  {
   "cell_type": "code",
   "execution_count": 1,
   "id": "c7d3e6d9",
   "metadata": {},
   "outputs": [
    {
     "ename": "NameError",
     "evalue": "name 'cursor' is not defined",
     "output_type": "error",
     "traceback": [
      "\u001b[0;31m---------------------------------------------------------------------------\u001b[0m",
      "\u001b[0;31mNameError\u001b[0m                                 Traceback (most recent call last)",
      "Cell \u001b[0;32mIn[1], line 6\u001b[0m\n\u001b[1;32m      1\u001b[0m \u001b[38;5;66;03m#QUESTIONS:\u001b[39;00m\n\u001b[1;32m      2\u001b[0m \u001b[38;5;66;03m#Q10: Produce a list of facilities with a total revenue less than 1000.\u001b[39;00m\n\u001b[1;32m      3\u001b[0m \u001b[38;5;66;03m#The output of facility name and total revenue, sorted by revenue. Remember\u001b[39;00m\n\u001b[1;32m      4\u001b[0m \u001b[38;5;66;03m#that there's a different cost for guests and members! */\u001b[39;00m\n\u001b[1;32m      5\u001b[0m \u001b[38;5;66;03m# Execute the SQL query to find facilities with revenue less than 1000, sorted by revenue\u001b[39;00m\n\u001b[0;32m----> 6\u001b[0m cursor\u001b[38;5;241m.\u001b[39mexecute(\u001b[38;5;124m\"\"\"\u001b[39m\n\u001b[1;32m      7\u001b[0m \u001b[38;5;124m    SELECT name, \u001b[39m\n\u001b[1;32m      8\u001b[0m \u001b[38;5;124m           SUM(CASE WHEN memid = 0 THEN slots * guestcost \u001b[39m\n\u001b[1;32m      9\u001b[0m \u001b[38;5;124m                    ELSE slots * membercost END) AS revenue \u001b[39m\n\u001b[1;32m     10\u001b[0m \u001b[38;5;124m    FROM Bookings \u001b[39m\n\u001b[1;32m     11\u001b[0m \u001b[38;5;124m    LEFT JOIN Facilities USING(facid) \u001b[39m\n\u001b[1;32m     12\u001b[0m \u001b[38;5;124m    GROUP BY name \u001b[39m\n\u001b[1;32m     13\u001b[0m \u001b[38;5;124m    HAVING revenue < 1000 \u001b[39m\n\u001b[1;32m     14\u001b[0m \u001b[38;5;124m    ORDER BY revenue\u001b[39m\n\u001b[1;32m     15\u001b[0m \u001b[38;5;124m\"\"\"\u001b[39m)\n\u001b[1;32m     17\u001b[0m \u001b[38;5;66;03m# Fetch all rows from the query result\u001b[39;00m\n\u001b[1;32m     18\u001b[0m rows \u001b[38;5;241m=\u001b[39m cursor\u001b[38;5;241m.\u001b[39mfetchall()\n",
      "\u001b[0;31mNameError\u001b[0m: name 'cursor' is not defined"
     ]
    }
   ],
   "source": [
    "#QUESTIONS:\n",
    "#Q10: Produce a list of facilities with a total revenue less than 1000.\n",
    "#The output of facility name and total revenue, sorted by revenue. Remember\n",
    "#that there's a different cost for guests and members! */\n",
    "# Execute the SQL query to find facilities with revenue less than 1000, sorted by revenue\n",
    "import sqlite3  # or appropriate library for your database\n",
    "\n",
    "# Establish a connection to your database\n",
    "conn = sqlite3.connect('your_database.db')  # Replace 'your_database.db' with your actual database file\n",
    "\n",
    "# Create a cursor object to execute queries\n",
    "cursor = conn.cursor()\n",
    "\n",
    "# Execute your SQL query\n",
    "cursor.execute(\"\"\"\n",
    "    SELECT name, \n",
    "           SUM(CASE WHEN memid = 0 THEN slots * guestcost \n",
    "                    ELSE slots * membercost END) AS revenue \n",
    "    FROM Bookings \n",
    "    LEFT JOIN Facilities USING(facid) \n",
    "    GROUP BY name \n",
    "    HAVING revenue < 1000 \n",
    "    ORDER BY revenue\n",
    "\"\"\")\n",
    "\n",
    "# Fetch all rows from the query result\n",
    "rows = cursor.fetchall()\n",
    "\n",
    "# Process the fetched rows as needed\n",
    "for row in rows:\n",
    "    print(row)  # Replace with your processing logic"
   ]
  },
  {
   "cell_type": "code",
   "execution_count": 29,
   "id": "12a4a1ca",
   "metadata": {},
   "outputs": [
    {
     "ename": "SyntaxError",
     "evalue": "invalid syntax (3055967894.py, line 2)",
     "output_type": "error",
     "traceback": [
      "\u001b[0;36m  Cell \u001b[0;32mIn[29], line 2\u001b[0;36m\u001b[0m\n\u001b[0;31m    select concat(a.surname, ', ', a.firstname) as members, concat(b.surname, ', ', b.firstname) as recommended_by from Members a, Members b where a.recommendedby >0 and a.recommendedby = b.memid order by b.surname;\u001b[0m\n\u001b[0m           ^\u001b[0m\n\u001b[0;31mSyntaxError\u001b[0m\u001b[0;31m:\u001b[0m invalid syntax\n"
     ]
    }
   ],
   "source": [
    "#Q11: Produce a report of members and who recommended them in alphabetic surname,firstname order */\n",
    "select concat(a.surname, ', ', a.firstname) as members, concat(b.surname, ', ', b.firstname) as recommended_by from Members a, Members b where a.recommendedby >0 and a.recommendedby = b.memid order by b.surname;\n"
   ]
  },
  {
   "cell_type": "code",
   "execution_count": null,
   "id": "166b4a0e",
   "metadata": {},
   "outputs": [],
   "source": [
    "#Q12: Find the facilities with their usage by member, but not guests */\n",
    "select name, concat(firstname, ' ', surname) as member_name, count(surname) as 'usage' from Bookings left join Facilities using(facid) left join Members using(memid) where memid != 0 group by name, member_name;\n"
   ]
  },
  {
   "cell_type": "code",
   "execution_count": null,
   "id": "da8e0757",
   "metadata": {},
   "outputs": [],
   "source": [
    "#Q13: Find the facilities usage by month, but not guests */\n",
    "select extract(month from starttime) as month, name, count(name) as 'usage' from Bookings left join Facilities using(facid)where memid != 0 group by month, name;"
   ]
  },
  {
   "cell_type": "code",
   "execution_count": null,
   "id": "5a6075a5",
   "metadata": {},
   "outputs": [],
   "source": []
  }
 ],
 "metadata": {
  "kernelspec": {
   "display_name": "Python 3 (ipykernel)",
   "language": "python",
   "name": "python3"
  },
  "language_info": {
   "codemirror_mode": {
    "name": "ipython",
    "version": 3
   },
   "file_extension": ".py",
   "mimetype": "text/x-python",
   "name": "python",
   "nbconvert_exporter": "python",
   "pygments_lexer": "ipython3",
   "version": "3.11.3"
  }
 },
 "nbformat": 4,
 "nbformat_minor": 5
}
